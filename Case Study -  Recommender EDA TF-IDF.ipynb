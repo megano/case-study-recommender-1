{
 "cells": [
  {
   "cell_type": "markdown",
   "metadata": {},
   "source": [
    "# Case Study - Recommender EDA"
   ]
  },
  {
   "cell_type": "code",
   "execution_count": 14,
   "metadata": {
    "collapsed": false
   },
   "outputs": [
    {
     "data": {
      "text/html": [
       "<style>.container { width:100% !important; }</style>"
      ],
      "text/plain": [
       "<IPython.core.display.HTML object>"
      ]
     },
     "metadata": {},
     "output_type": "display_data"
    }
   ],
   "source": [
    "from IPython.core.display import display, HTML\n",
    "display(HTML(\"<style>.container { width:100% !important; }</style>\"))\n",
    "\n",
    "\n",
    "%matplotlib inline\n",
    "%config InlineBackend.figure_format = 'retina'\n",
    "import numpy as np\n",
    "import pandas as pd\n",
    "import scipy.stats as scs\n",
    "import matplotlib.pyplot as plt\n",
    "import seaborn as sns\n",
    "import matplotlib.dates as mdates\n",
    "from bs4 import BeautifulSoup as bs\n",
    "\n",
    "from nltk.corpus import stopwords\n",
    "from nltk.tokenize import word_tokenize\n",
    "from nltk.stem.porter import PorterStemmer\n",
    "from nltk.stem.snowball import SnowballStemmer\n",
    "from nltk.stem.wordnet import WordNetLemmatizer\n",
    "from nltk import pos_tag\n",
    "from sklearn.feature_extraction.text import CountVectorizer, TfidfVectorizer\n",
    "from sklearn.metrics.pairwise import linear_kernel"
   ]
  },
  {
   "cell_type": "code",
   "execution_count": 15,
   "metadata": {
    "collapsed": false
   },
   "outputs": [
    {
     "data": {
      "text/html": [
       "<div>\n",
       "<table border=\"1\" class=\"dataframe\">\n",
       "  <thead>\n",
       "    <tr style=\"text-align: right;\">\n",
       "      <th></th>\n",
       "      <th>user_id</th>\n",
       "      <th>joke_id</th>\n",
       "      <th>rating</th>\n",
       "    </tr>\n",
       "  </thead>\n",
       "  <tbody>\n",
       "    <tr>\n",
       "      <th>0</th>\n",
       "      <td>49541</td>\n",
       "      <td>113</td>\n",
       "      <td>5</td>\n",
       "    </tr>\n",
       "    <tr>\n",
       "      <th>1</th>\n",
       "      <td>39499</td>\n",
       "      <td>37</td>\n",
       "      <td>5</td>\n",
       "    </tr>\n",
       "    <tr>\n",
       "      <th>2</th>\n",
       "      <td>36804</td>\n",
       "      <td>73</td>\n",
       "      <td>5</td>\n",
       "    </tr>\n",
       "    <tr>\n",
       "      <th>3</th>\n",
       "      <td>16470</td>\n",
       "      <td>33</td>\n",
       "      <td>5</td>\n",
       "    </tr>\n",
       "    <tr>\n",
       "      <th>4</th>\n",
       "      <td>22614</td>\n",
       "      <td>128</td>\n",
       "      <td>5</td>\n",
       "    </tr>\n",
       "  </tbody>\n",
       "</table>\n",
       "</div>"
      ],
      "text/plain": [
       "   user_id  joke_id  rating\n",
       "0    49541      113       5\n",
       "1    39499       37       5\n",
       "2    36804       73       5\n",
       "3    16470       33       5\n",
       "4    22614      128       5"
      ]
     },
     "execution_count": 15,
     "metadata": {},
     "output_type": "execute_result"
    }
   ],
   "source": [
    "# Target output\n",
    "target = pd.read_csv('data/sample_submission.csv')\n",
    "target.head()"
   ]
  },
  {
   "cell_type": "code",
   "execution_count": 16,
   "metadata": {
    "collapsed": false
   },
   "outputs": [
    {
     "data": {
      "text/html": [
       "<div>\n",
       "<table border=\"1\" class=\"dataframe\">\n",
       "  <thead>\n",
       "    <tr style=\"text-align: right;\">\n",
       "      <th></th>\n",
       "      <th>user_id</th>\n",
       "      <th>joke_id</th>\n",
       "      <th>rating</th>\n",
       "    </tr>\n",
       "  </thead>\n",
       "  <tbody>\n",
       "    <tr>\n",
       "      <th>0</th>\n",
       "      <td>34888</td>\n",
       "      <td>111</td>\n",
       "      <td>-9.71875</td>\n",
       "    </tr>\n",
       "    <tr>\n",
       "      <th>1</th>\n",
       "      <td>49651</td>\n",
       "      <td>119</td>\n",
       "      <td>4.75000</td>\n",
       "    </tr>\n",
       "    <tr>\n",
       "      <th>2</th>\n",
       "      <td>29027</td>\n",
       "      <td>137</td>\n",
       "      <td>2.62500</td>\n",
       "    </tr>\n",
       "    <tr>\n",
       "      <th>3</th>\n",
       "      <td>25235</td>\n",
       "      <td>30</td>\n",
       "      <td>-2.43750</td>\n",
       "    </tr>\n",
       "    <tr>\n",
       "      <th>4</th>\n",
       "      <td>50499</td>\n",
       "      <td>19</td>\n",
       "      <td>2.18750</td>\n",
       "    </tr>\n",
       "  </tbody>\n",
       "</table>\n",
       "</div>"
      ],
      "text/plain": [
       "   user_id  joke_id   rating\n",
       "0    34888      111 -9.71875\n",
       "1    49651      119  4.75000\n",
       "2    29027      137  2.62500\n",
       "3    25235       30 -2.43750\n",
       "4    50499       19  2.18750"
      ]
     },
     "execution_count": 16,
     "metadata": {},
     "output_type": "execute_result"
    }
   ],
   "source": [
    "ratings_df = pd.read_table('data/ratings.dat')\n",
    "ratings_df.head()"
   ]
  },
  {
   "cell_type": "code",
   "execution_count": 5,
   "metadata": {
    "collapsed": false
   },
   "outputs": [
    {
     "name": "stdout",
     "output_type": "stream",
     "text": [
      "Bill and Hillary Clinton are on a trip back to Arkansas. They're almost out of gas, so Bill pulls into a service station on the outskirts of town. The attendant runs out of the station to serve them when Hillary realizes it's an old boyfriend from high school. She and the attendant chat as he gases up their car and cleans the windows. Then they all say goodbye.\n",
      "\n",
      "As Bill pulls the car onto the road, he turns to Hillary and says, \"Now aren't you glad you married me and not him? You could've been the wife of a grease monkey!\"\n",
      "\n",
      "To which Hillary replied, \"No, Bill. If I would have married him, you'd be pumping gas and he would be the President!\" \n",
      "\n"
     ]
    }
   ],
   "source": [
    "jokes = []\n",
    "joke = ''\n",
    "with open('data/jokes.txt') as f:\n",
    "\n",
    "    for line in f:\n",
    "        line_list = line.split(' ')\n",
    "        if line_list[0][-1:] == ':':\n",
    "            jokes.append(joke)    # add the last joke into the jokes list as a new joke has begun \n",
    "            joke = ' '.join(line_list[1:])\n",
    "        else:\n",
    "            joke += line\n",
    "jokes.append(joke)\n",
    "jokes = jokes[1:]\n",
    "print(jokes[5])    "
   ]
  },
  {
   "cell_type": "code",
   "execution_count": null,
   "metadata": {
    "collapsed": true
   },
   "outputs": [],
   "source": [
    "# filename = 'data/jokes.dat'\n",
    "# html = open(filename,'r').read()\n",
    "# data = bs(html, 'html.parser')\n",
    "\n",
    "# jokes = [joke.text.replace('\\n', '').replace('\\r', '') for joke in data.select('p')]"
   ]
  },
  {
   "cell_type": "code",
   "execution_count": null,
   "metadata": {
    "collapsed": false
   },
   "outputs": [],
   "source": [
    "jokes[0]"
   ]
  },
  {
   "cell_type": "code",
   "execution_count": 17,
   "metadata": {
    "collapsed": false
   },
   "outputs": [
    {
     "data": {
      "text/html": [
       "<pre>Finished parsing file /Users/souljourner/Library/Mobile Documents/com~apple~CloudDocs/Development/Data Science/zipfian/case-study-recommender/data/ratings.dat</pre>"
      ],
      "text/plain": [
       "Finished parsing file /Users/souljourner/Library/Mobile Documents/com~apple~CloudDocs/Development/Data Science/zipfian/case-study-recommender/data/ratings.dat"
      ]
     },
     "metadata": {},
     "output_type": "display_data"
    },
    {
     "data": {
      "text/html": [
       "<pre>Parsing completed. Parsed 100 lines in 0.364178 secs.</pre>"
      ],
      "text/plain": [
       "Parsing completed. Parsed 100 lines in 0.364178 secs."
      ]
     },
     "metadata": {},
     "output_type": "display_data"
    },
    {
     "name": "stdout",
     "output_type": "stream",
     "text": [
      "------------------------------------------------------\n",
      "Inferred types from first 100 line(s) of file as \n",
      "column_type_hints=[int,int,float]\n",
      "If parsing fails due to incorrect types, you can correct\n",
      "the inferred type list above and pass it to read_csv in\n",
      "the column_type_hints argument\n",
      "------------------------------------------------------\n"
     ]
    },
    {
     "data": {
      "text/html": [
       "<pre>Finished parsing file /Users/souljourner/Library/Mobile Documents/com~apple~CloudDocs/Development/Data Science/zipfian/case-study-recommender/data/ratings.dat</pre>"
      ],
      "text/plain": [
       "Finished parsing file /Users/souljourner/Library/Mobile Documents/com~apple~CloudDocs/Development/Data Science/zipfian/case-study-recommender/data/ratings.dat"
      ]
     },
     "metadata": {},
     "output_type": "display_data"
    },
    {
     "data": {
      "text/html": [
       "<pre>Parsing completed. Parsed 1218325 lines in 0.577221 secs.</pre>"
      ],
      "text/plain": [
       "Parsing completed. Parsed 1218325 lines in 0.577221 secs."
      ]
     },
     "metadata": {},
     "output_type": "display_data"
    },
    {
     "data": {
      "text/html": [
       "<pre>Recsys training: model = factorization_recommender</pre>"
      ],
      "text/plain": [
       "Recsys training: model = factorization_recommender"
      ]
     },
     "metadata": {},
     "output_type": "display_data"
    },
    {
     "data": {
      "text/html": [
       "<pre>Preparing data set.</pre>"
      ],
      "text/plain": [
       "Preparing data set."
      ]
     },
     "metadata": {},
     "output_type": "display_data"
    },
    {
     "data": {
      "text/html": [
       "<pre>    Data has 1218325 observations with 50692 users and 151 items.</pre>"
      ],
      "text/plain": [
       "    Data has 1218325 observations with 50692 users and 151 items."
      ]
     },
     "metadata": {},
     "output_type": "display_data"
    },
    {
     "data": {
      "text/html": [
       "<pre>    Data prepared in: 0.896771s</pre>"
      ],
      "text/plain": [
       "    Data prepared in: 0.896771s"
      ]
     },
     "metadata": {},
     "output_type": "display_data"
    },
    {
     "data": {
      "text/html": [
       "<pre>Training factorization_recommender for recommendations.</pre>"
      ],
      "text/plain": [
       "Training factorization_recommender for recommendations."
      ]
     },
     "metadata": {},
     "output_type": "display_data"
    },
    {
     "data": {
      "text/html": [
       "<pre>+--------------------------------+--------------------------------------------------+----------+</pre>"
      ],
      "text/plain": [
       "+--------------------------------+--------------------------------------------------+----------+"
      ]
     },
     "metadata": {},
     "output_type": "display_data"
    },
    {
     "data": {
      "text/html": [
       "<pre>| Parameter                      | Description                                      | Value    |</pre>"
      ],
      "text/plain": [
       "| Parameter                      | Description                                      | Value    |"
      ]
     },
     "metadata": {},
     "output_type": "display_data"
    },
    {
     "data": {
      "text/html": [
       "<pre>+--------------------------------+--------------------------------------------------+----------+</pre>"
      ],
      "text/plain": [
       "+--------------------------------+--------------------------------------------------+----------+"
      ]
     },
     "metadata": {},
     "output_type": "display_data"
    },
    {
     "data": {
      "text/html": [
       "<pre>| num_factors                    | Factor Dimension                                 | 8        |</pre>"
      ],
      "text/plain": [
       "| num_factors                    | Factor Dimension                                 | 8        |"
      ]
     },
     "metadata": {},
     "output_type": "display_data"
    },
    {
     "data": {
      "text/html": [
       "<pre>| regularization                 | L2 Regularization on Factors                     | 1e-08    |</pre>"
      ],
      "text/plain": [
       "| regularization                 | L2 Regularization on Factors                     | 1e-08    |"
      ]
     },
     "metadata": {},
     "output_type": "display_data"
    },
    {
     "data": {
      "text/html": [
       "<pre>| solver                         | Solver used for training                         | adagrad  |</pre>"
      ],
      "text/plain": [
       "| solver                         | Solver used for training                         | adagrad  |"
      ]
     },
     "metadata": {},
     "output_type": "display_data"
    },
    {
     "data": {
      "text/html": [
       "<pre>| linear_regularization          | L2 Regularization on Linear Coefficients         | 1e-10    |</pre>"
      ],
      "text/plain": [
       "| linear_regularization          | L2 Regularization on Linear Coefficients         | 1e-10    |"
      ]
     },
     "metadata": {},
     "output_type": "display_data"
    },
    {
     "data": {
      "text/html": [
       "<pre>| side_data_factorization        | Assign Factors for Side Data                     | True     |</pre>"
      ],
      "text/plain": [
       "| side_data_factorization        | Assign Factors for Side Data                     | True     |"
      ]
     },
     "metadata": {},
     "output_type": "display_data"
    },
    {
     "data": {
      "text/html": [
       "<pre>| max_iterations                 | Maximum Number of Iterations                     | 50       |</pre>"
      ],
      "text/plain": [
       "| max_iterations                 | Maximum Number of Iterations                     | 50       |"
      ]
     },
     "metadata": {},
     "output_type": "display_data"
    },
    {
     "data": {
      "text/html": [
       "<pre>+--------------------------------+--------------------------------------------------+----------+</pre>"
      ],
      "text/plain": [
       "+--------------------------------+--------------------------------------------------+----------+"
      ]
     },
     "metadata": {},
     "output_type": "display_data"
    },
    {
     "data": {
      "text/html": [
       "<pre>  Optimizing model using SGD; tuning step size.</pre>"
      ],
      "text/plain": [
       "  Optimizing model using SGD; tuning step size."
      ]
     },
     "metadata": {},
     "output_type": "display_data"
    },
    {
     "data": {
      "text/html": [
       "<pre>  Using 152290 / 1218325 points for tuning the step size.</pre>"
      ],
      "text/plain": [
       "  Using 152290 / 1218325 points for tuning the step size."
      ]
     },
     "metadata": {},
     "output_type": "display_data"
    },
    {
     "data": {
      "text/html": [
       "<pre>+---------+-------------------+------------------------------------------+</pre>"
      ],
      "text/plain": [
       "+---------+-------------------+------------------------------------------+"
      ]
     },
     "metadata": {},
     "output_type": "display_data"
    },
    {
     "data": {
      "text/html": [
       "<pre>| Attempt | Initial Step Size | Estimated Objective Value                |</pre>"
      ],
      "text/plain": [
       "| Attempt | Initial Step Size | Estimated Objective Value                |"
      ]
     },
     "metadata": {},
     "output_type": "display_data"
    },
    {
     "data": {
      "text/html": [
       "<pre>+---------+-------------------+------------------------------------------+</pre>"
      ],
      "text/plain": [
       "+---------+-------------------+------------------------------------------+"
      ]
     },
     "metadata": {},
     "output_type": "display_data"
    },
    {
     "data": {
      "text/html": [
       "<pre>| 0       | 10                | Not Viable                               |</pre>"
      ],
      "text/plain": [
       "| 0       | 10                | Not Viable                               |"
      ]
     },
     "metadata": {},
     "output_type": "display_data"
    },
    {
     "data": {
      "text/html": [
       "<pre>| 1       | 2.5               | Not Viable                               |</pre>"
      ],
      "text/plain": [
       "| 1       | 2.5               | Not Viable                               |"
      ]
     },
     "metadata": {},
     "output_type": "display_data"
    },
    {
     "data": {
      "text/html": [
       "<pre>| 2       | 0.625             | 18.7565                                  |</pre>"
      ],
      "text/plain": [
       "| 2       | 0.625             | 18.7565                                  |"
      ]
     },
     "metadata": {},
     "output_type": "display_data"
    },
    {
     "data": {
      "text/html": [
       "<pre>| 3       | 0.3125            | 7.51356                                  |</pre>"
      ],
      "text/plain": [
       "| 3       | 0.3125            | 7.51356                                  |"
      ]
     },
     "metadata": {},
     "output_type": "display_data"
    },
    {
     "data": {
      "text/html": [
       "<pre>| 4       | 0.15625           | 10.0366                                  |</pre>"
      ],
      "text/plain": [
       "| 4       | 0.15625           | 10.0366                                  |"
      ]
     },
     "metadata": {},
     "output_type": "display_data"
    },
    {
     "data": {
      "text/html": [
       "<pre>| 5       | 0.078125          | 14.2921                                  |</pre>"
      ],
      "text/plain": [
       "| 5       | 0.078125          | 14.2921                                  |"
      ]
     },
     "metadata": {},
     "output_type": "display_data"
    },
    {
     "data": {
      "text/html": [
       "<pre>| 6       | 0.0390625         | 22.0369                                  |</pre>"
      ],
      "text/plain": [
       "| 6       | 0.0390625         | 22.0369                                  |"
      ]
     },
     "metadata": {},
     "output_type": "display_data"
    },
    {
     "data": {
      "text/html": [
       "<pre>+---------+-------------------+------------------------------------------+</pre>"
      ],
      "text/plain": [
       "+---------+-------------------+------------------------------------------+"
      ]
     },
     "metadata": {},
     "output_type": "display_data"
    },
    {
     "data": {
      "text/html": [
       "<pre>| Final   | 0.3125            | 7.51356                                  |</pre>"
      ],
      "text/plain": [
       "| Final   | 0.3125            | 7.51356                                  |"
      ]
     },
     "metadata": {},
     "output_type": "display_data"
    },
    {
     "data": {
      "text/html": [
       "<pre>+---------+-------------------+------------------------------------------+</pre>"
      ],
      "text/plain": [
       "+---------+-------------------+------------------------------------------+"
      ]
     },
     "metadata": {},
     "output_type": "display_data"
    },
    {
     "data": {
      "text/html": [
       "<pre>Starting Optimization.</pre>"
      ],
      "text/plain": [
       "Starting Optimization."
      ]
     },
     "metadata": {},
     "output_type": "display_data"
    },
    {
     "data": {
      "text/html": [
       "<pre>+---------+--------------+-------------------+-----------------------+-------------+</pre>"
      ],
      "text/plain": [
       "+---------+--------------+-------------------+-----------------------+-------------+"
      ]
     },
     "metadata": {},
     "output_type": "display_data"
    },
    {
     "data": {
      "text/html": [
       "<pre>| Iter.   | Elapsed Time | Approx. Objective | Approx. Training RMSE | Step Size   |</pre>"
      ],
      "text/plain": [
       "| Iter.   | Elapsed Time | Approx. Objective | Approx. Training RMSE | Step Size   |"
      ]
     },
     "metadata": {},
     "output_type": "display_data"
    },
    {
     "data": {
      "text/html": [
       "<pre>+---------+--------------+-------------------+-----------------------+-------------+</pre>"
      ],
      "text/plain": [
       "+---------+--------------+-------------------+-----------------------+-------------+"
      ]
     },
     "metadata": {},
     "output_type": "display_data"
    },
    {
     "data": {
      "text/html": [
       "<pre>| Initial | 82us         | 27.9395           | 5.28578               |             |</pre>"
      ],
      "text/plain": [
       "| Initial | 82us         | 27.9395           | 5.28578               |             |"
      ]
     },
     "metadata": {},
     "output_type": "display_data"
    },
    {
     "data": {
      "text/html": [
       "<pre>+---------+--------------+-------------------+-----------------------+-------------+</pre>"
      ],
      "text/plain": [
       "+---------+--------------+-------------------+-----------------------+-------------+"
      ]
     },
     "metadata": {},
     "output_type": "display_data"
    },
    {
     "data": {
      "text/html": [
       "<pre>| 1       | 524.549ms    | 26.4342           | 5.14133               | 0.3125      |</pre>"
      ],
      "text/plain": [
       "| 1       | 524.549ms    | 26.4342           | 5.14133               | 0.3125      |"
      ]
     },
     "metadata": {},
     "output_type": "display_data"
    },
    {
     "data": {
      "text/html": [
       "<pre>| 2       | 952.306ms    | 20.1162           | 4.48504               | 0.3125      |</pre>"
      ],
      "text/plain": [
       "| 2       | 952.306ms    | 20.1162           | 4.48504               | 0.3125      |"
      ]
     },
     "metadata": {},
     "output_type": "display_data"
    },
    {
     "data": {
      "text/html": [
       "<pre>| 3       | 1.37s        | 17.9333           | 4.2347                | 0.3125      |</pre>"
      ],
      "text/plain": [
       "| 3       | 1.37s        | 17.9333           | 4.2347                | 0.3125      |"
      ]
     },
     "metadata": {},
     "output_type": "display_data"
    },
    {
     "data": {
      "text/html": [
       "<pre>| 4       | 1.83s        | 16.8954           | 4.11034               | 0.3125      |</pre>"
      ],
      "text/plain": [
       "| 4       | 1.83s        | 16.8954           | 4.11034               | 0.3125      |"
      ]
     },
     "metadata": {},
     "output_type": "display_data"
    },
    {
     "data": {
      "text/html": [
       "<pre>| 5       | 2.36s        | 16.1702           | 4.02116               | 0.3125      |</pre>"
      ],
      "text/plain": [
       "| 5       | 2.36s        | 16.1702           | 4.02116               | 0.3125      |"
      ]
     },
     "metadata": {},
     "output_type": "display_data"
    },
    {
     "data": {
      "text/html": [
       "<pre>| 6       | 2.96s        | 15.6203           | 3.9522                | 0.3125      |</pre>"
      ],
      "text/plain": [
       "| 6       | 2.96s        | 15.6203           | 3.9522                | 0.3125      |"
      ]
     },
     "metadata": {},
     "output_type": "display_data"
    },
    {
     "data": {
      "text/html": [
       "<pre>| 10      | 4.92s        | 14.0134           | 3.74338               | 0.3125      |</pre>"
      ],
      "text/plain": [
       "| 10      | 4.92s        | 14.0134           | 3.74338               | 0.3125      |"
      ]
     },
     "metadata": {},
     "output_type": "display_data"
    },
    {
     "data": {
      "text/html": [
       "<pre>| 11      | 5.38s        | 13.7475           | 3.70769               | 0.3125      |</pre>"
      ],
      "text/plain": [
       "| 11      | 5.38s        | 13.7475           | 3.70769               | 0.3125      |"
      ]
     },
     "metadata": {},
     "output_type": "display_data"
    },
    {
     "data": {
      "text/html": [
       "<pre>| 15      | 7.44s        | 13.0069           | 3.60643               | 0.3125      |</pre>"
      ],
      "text/plain": [
       "| 15      | 7.44s        | 13.0069           | 3.60643               | 0.3125      |"
      ]
     },
     "metadata": {},
     "output_type": "display_data"
    },
    {
     "data": {
      "text/html": [
       "<pre>| 20      | 9.76s        | 12.4079           | 3.52241               | 0.3125      |</pre>"
      ],
      "text/plain": [
       "| 20      | 9.76s        | 12.4079           | 3.52241               | 0.3125      |"
      ]
     },
     "metadata": {},
     "output_type": "display_data"
    },
    {
     "data": {
      "text/html": [
       "<pre>| 25      | 11.93s       | 12.0353           | 3.46912               | 0.3125      |</pre>"
      ],
      "text/plain": [
       "| 25      | 11.93s       | 12.0353           | 3.46912               | 0.3125      |"
      ]
     },
     "metadata": {},
     "output_type": "display_data"
    },
    {
     "data": {
      "text/html": [
       "<pre>| 30      | 14.09s       | 11.7584           | 3.42897               | 0.3125      |</pre>"
      ],
      "text/plain": [
       "| 30      | 14.09s       | 11.7584           | 3.42897               | 0.3125      |"
      ]
     },
     "metadata": {},
     "output_type": "display_data"
    },
    {
     "data": {
      "text/html": [
       "<pre>| 35      | 16.64s       | 11.5576           | 3.39956               | 0.3125      |</pre>"
      ],
      "text/plain": [
       "| 35      | 16.64s       | 11.5576           | 3.39956               | 0.3125      |"
      ]
     },
     "metadata": {},
     "output_type": "display_data"
    },
    {
     "data": {
      "text/html": [
       "<pre>| 40      | 19.03s       | 11.4032           | 3.37678               | 0.3125      |</pre>"
      ],
      "text/plain": [
       "| 40      | 19.03s       | 11.4032           | 3.37678               | 0.3125      |"
      ]
     },
     "metadata": {},
     "output_type": "display_data"
    },
    {
     "data": {
      "text/html": [
       "<pre>| 45      | 21.12s       | 11.2665           | 3.35647               | 0.3125      |</pre>"
      ],
      "text/plain": [
       "| 45      | 21.12s       | 11.2665           | 3.35647               | 0.3125      |"
      ]
     },
     "metadata": {},
     "output_type": "display_data"
    },
    {
     "data": {
      "text/html": [
       "<pre>| 50      | 23.40s       | 11.1542           | 3.33971               | 0.3125      |</pre>"
      ],
      "text/plain": [
       "| 50      | 23.40s       | 11.1542           | 3.33971               | 0.3125      |"
      ]
     },
     "metadata": {},
     "output_type": "display_data"
    },
    {
     "data": {
      "text/html": [
       "<pre>+---------+--------------+-------------------+-----------------------+-------------+</pre>"
      ],
      "text/plain": [
       "+---------+--------------+-------------------+-----------------------+-------------+"
      ]
     },
     "metadata": {},
     "output_type": "display_data"
    },
    {
     "data": {
      "text/html": [
       "<pre>Optimization Complete: Maximum number of passes through the data reached.</pre>"
      ],
      "text/plain": [
       "Optimization Complete: Maximum number of passes through the data reached."
      ]
     },
     "metadata": {},
     "output_type": "display_data"
    },
    {
     "data": {
      "text/html": [
       "<pre>Computing final objective value and training RMSE.</pre>"
      ],
      "text/plain": [
       "Computing final objective value and training RMSE."
      ]
     },
     "metadata": {},
     "output_type": "display_data"
    },
    {
     "data": {
      "text/html": [
       "<pre>       Final objective value: 10.6</pre>"
      ],
      "text/plain": [
       "       Final objective value: 10.6"
      ]
     },
     "metadata": {},
     "output_type": "display_data"
    },
    {
     "data": {
      "text/html": [
       "<pre>       Final training RMSE: 3.25568</pre>"
      ],
      "text/plain": [
       "       Final training RMSE: 3.25568"
      ]
     },
     "metadata": {},
     "output_type": "display_data"
    }
   ],
   "source": [
    "import pandas as pd\n",
    "import graphlab as gl\n",
    "from bs4 import BeautifulSoup\n",
    "\n",
    "\n",
    "def add_joke_len(filename):\n",
    "    r = open(filename)\n",
    "    soup = BeautifulSoup(r, 'html.parser')\n",
    "\n",
    "    joke_list = soup.find_all('p')\n",
    "\n",
    "    joke_len_list = []\n",
    "    breaks_list = []\n",
    "    q_list = []\n",
    "\n",
    "    for x in joke_list:\n",
    "        q = 0\n",
    "        breaks = len(x.find_all('br'))\n",
    "        breaks_list.append(breaks)\n",
    "        joke_len = 0\n",
    "        for y in x:\n",
    "            joke_len += len(y)\n",
    "            if y.find('?') > 0:\n",
    "                q = 1\n",
    "        joke_len_list.append(joke_len)\n",
    "        q_list.append(q)\n",
    "\n",
    "    return q_list, breaks_list, joke_len_list\n",
    "\n",
    "\n",
    "\n",
    "sample_sub_fname = \"data/sample_submission.csv\"\n",
    "ratings_data_fname = \"data/ratings.dat\"\n",
    "output_fname = \"data/test_ratings.csv\"\n",
    "\n",
    "filename = 'data/jokes.dat'\n",
    "q_list, breaks_list, joke_len = add_joke_len(filename)\n",
    "\n",
    "joke_info = gl.SFrame({'joke_id': range(1,151), 'joke_len': joke_len, 'joke_break': breaks_list, 'question': q_list})\n",
    "\n",
    "ratings = gl.SFrame(ratings_data_fname, format='tsv')\n",
    "sample_sub = pd.read_csv(sample_sub_fname)\n",
    "for_prediction = gl.SFrame(sample_sub)\n",
    "rec_engine = gl.factorization_recommender.create(observation_data=ratings,\n",
    "                                                 user_id=\"user_id\",\n",
    "                                                 item_id=\"joke_id\",\n",
    "                                                 target='rating',\n",
    "                                                 item_data = joke_info,\n",
    "                                                 solver='auto')\n",
    "\n",
    "sample_sub.rating = rec_engine.predict(for_prediction)\n",
    "sample_sub.to_csv(output_fname, index=False)\n"
   ]
  },
  {
   "cell_type": "code",
   "execution_count": 15,
   "metadata": {
    "collapsed": true
   },
   "outputs": [],
   "source": [
    "gl.factorization_recommender.create?"
   ]
  },
  {
   "cell_type": "code",
   "execution_count": null,
   "metadata": {
    "collapsed": false
   },
   "outputs": [
    {
     "data": {
      "text/html": [
       "<pre>Finished parsing file /Users/souljourner/Library/Mobile Documents/com~apple~CloudDocs/Development/Data Science/zipfian/case-study-recommender/data/ratings.dat</pre>"
      ],
      "text/plain": [
       "Finished parsing file /Users/souljourner/Library/Mobile Documents/com~apple~CloudDocs/Development/Data Science/zipfian/case-study-recommender/data/ratings.dat"
      ]
     },
     "metadata": {},
     "output_type": "display_data"
    },
    {
     "data": {
      "text/html": [
       "<pre>Parsing completed. Parsed 100 lines in 0.370777 secs.</pre>"
      ],
      "text/plain": [
       "Parsing completed. Parsed 100 lines in 0.370777 secs."
      ]
     },
     "metadata": {},
     "output_type": "display_data"
    },
    {
     "name": "stdout",
     "output_type": "stream",
     "text": [
      "------------------------------------------------------\n",
      "Inferred types from first 100 line(s) of file as \n",
      "column_type_hints=[int,int,float]\n",
      "If parsing fails due to incorrect types, you can correct\n",
      "the inferred type list above and pass it to read_csv in\n",
      "the column_type_hints argument\n",
      "------------------------------------------------------\n"
     ]
    },
    {
     "data": {
      "text/html": [
       "<pre>Finished parsing file /Users/souljourner/Library/Mobile Documents/com~apple~CloudDocs/Development/Data Science/zipfian/case-study-recommender/data/ratings.dat</pre>"
      ],
      "text/plain": [
       "Finished parsing file /Users/souljourner/Library/Mobile Documents/com~apple~CloudDocs/Development/Data Science/zipfian/case-study-recommender/data/ratings.dat"
      ]
     },
     "metadata": {},
     "output_type": "display_data"
    },
    {
     "data": {
      "text/html": [
       "<pre>Parsing completed. Parsed 1218325 lines in 0.571563 secs.</pre>"
      ],
      "text/plain": [
       "Parsing completed. Parsed 1218325 lines in 0.571563 secs."
      ]
     },
     "metadata": {},
     "output_type": "display_data"
    },
    {
     "data": {
      "text/html": [
       "<pre>Recsys training: model = factorization_recommender</pre>"
      ],
      "text/plain": [
       "Recsys training: model = factorization_recommender"
      ]
     },
     "metadata": {},
     "output_type": "display_data"
    },
    {
     "data": {
      "text/html": [
       "<pre>Preparing data set.</pre>"
      ],
      "text/plain": [
       "Preparing data set."
      ]
     },
     "metadata": {},
     "output_type": "display_data"
    },
    {
     "data": {
      "text/html": [
       "<pre>    Data has 1218325 observations with 50692 users and 151 items.</pre>"
      ],
      "text/plain": [
       "    Data has 1218325 observations with 50692 users and 151 items."
      ]
     },
     "metadata": {},
     "output_type": "display_data"
    },
    {
     "data": {
      "text/html": [
       "<pre>    Data prepared in: 0.884097s</pre>"
      ],
      "text/plain": [
       "    Data prepared in: 0.884097s"
      ]
     },
     "metadata": {},
     "output_type": "display_data"
    },
    {
     "data": {
      "text/html": [
       "<pre>Training factorization_recommender for recommendations.</pre>"
      ],
      "text/plain": [
       "Training factorization_recommender for recommendations."
      ]
     },
     "metadata": {},
     "output_type": "display_data"
    },
    {
     "data": {
      "text/html": [
       "<pre>+--------------------------------+--------------------------------------------------+----------+</pre>"
      ],
      "text/plain": [
       "+--------------------------------+--------------------------------------------------+----------+"
      ]
     },
     "metadata": {},
     "output_type": "display_data"
    },
    {
     "data": {
      "text/html": [
       "<pre>| Parameter                      | Description                                      | Value    |</pre>"
      ],
      "text/plain": [
       "| Parameter                      | Description                                      | Value    |"
      ]
     },
     "metadata": {},
     "output_type": "display_data"
    },
    {
     "data": {
      "text/html": [
       "<pre>+--------------------------------+--------------------------------------------------+----------+</pre>"
      ],
      "text/plain": [
       "+--------------------------------+--------------------------------------------------+----------+"
      ]
     },
     "metadata": {},
     "output_type": "display_data"
    },
    {
     "data": {
      "text/html": [
       "<pre>| num_factors                    | Factor Dimension                                 | 8        |</pre>"
      ],
      "text/plain": [
       "| num_factors                    | Factor Dimension                                 | 8        |"
      ]
     },
     "metadata": {},
     "output_type": "display_data"
    },
    {
     "data": {
      "text/html": [
       "<pre>| regularization                 | L2 Regularization on Factors                     | 0        |</pre>"
      ],
      "text/plain": [
       "| regularization                 | L2 Regularization on Factors                     | 0        |"
      ]
     },
     "metadata": {},
     "output_type": "display_data"
    },
    {
     "data": {
      "text/html": [
       "<pre>| solver                         | Solver used for training                         | adagrad  |</pre>"
      ],
      "text/plain": [
       "| solver                         | Solver used for training                         | adagrad  |"
      ]
     },
     "metadata": {},
     "output_type": "display_data"
    },
    {
     "data": {
      "text/html": [
       "<pre>| linear_regularization          | L2 Regularization on Linear Coefficients         | 1e-10    |</pre>"
      ],
      "text/plain": [
       "| linear_regularization          | L2 Regularization on Linear Coefficients         | 1e-10    |"
      ]
     },
     "metadata": {},
     "output_type": "display_data"
    },
    {
     "data": {
      "text/html": [
       "<pre>| side_data_factorization        | Assign Factors for Side Data                     | True     |</pre>"
      ],
      "text/plain": [
       "| side_data_factorization        | Assign Factors for Side Data                     | True     |"
      ]
     },
     "metadata": {},
     "output_type": "display_data"
    },
    {
     "data": {
      "text/html": [
       "<pre>| max_iterations                 | Maximum Number of Iterations                     | 50       |</pre>"
      ],
      "text/plain": [
       "| max_iterations                 | Maximum Number of Iterations                     | 50       |"
      ]
     },
     "metadata": {},
     "output_type": "display_data"
    },
    {
     "data": {
      "text/html": [
       "<pre>+--------------------------------+--------------------------------------------------+----------+</pre>"
      ],
      "text/plain": [
       "+--------------------------------+--------------------------------------------------+----------+"
      ]
     },
     "metadata": {},
     "output_type": "display_data"
    },
    {
     "data": {
      "text/html": [
       "<pre>  Optimizing model using SGD; tuning step size.</pre>"
      ],
      "text/plain": [
       "  Optimizing model using SGD; tuning step size."
      ]
     },
     "metadata": {},
     "output_type": "display_data"
    },
    {
     "data": {
      "text/html": [
       "<pre>  Using 152290 / 1218325 points for tuning the step size.</pre>"
      ],
      "text/plain": [
       "  Using 152290 / 1218325 points for tuning the step size."
      ]
     },
     "metadata": {},
     "output_type": "display_data"
    },
    {
     "data": {
      "text/html": [
       "<pre>+---------+-------------------+------------------------------------------+</pre>"
      ],
      "text/plain": [
       "+---------+-------------------+------------------------------------------+"
      ]
     },
     "metadata": {},
     "output_type": "display_data"
    },
    {
     "data": {
      "text/html": [
       "<pre>| Attempt | Initial Step Size | Estimated Objective Value                |</pre>"
      ],
      "text/plain": [
       "| Attempt | Initial Step Size | Estimated Objective Value                |"
      ]
     },
     "metadata": {},
     "output_type": "display_data"
    },
    {
     "data": {
      "text/html": [
       "<pre>+---------+-------------------+------------------------------------------+</pre>"
      ],
      "text/plain": [
       "+---------+-------------------+------------------------------------------+"
      ]
     },
     "metadata": {},
     "output_type": "display_data"
    },
    {
     "data": {
      "text/html": [
       "<pre>| 0       | 12.5              | 19.8178                                  |</pre>"
      ],
      "text/plain": [
       "| 0       | 12.5              | 19.8178                                  |"
      ]
     },
     "metadata": {},
     "output_type": "display_data"
    },
    {
     "data": {
      "text/html": [
       "<pre>| 1       | 6.25              | 12.6683                                  |</pre>"
      ],
      "text/plain": [
       "| 1       | 6.25              | 12.6683                                  |"
      ]
     },
     "metadata": {},
     "output_type": "display_data"
    },
    {
     "data": {
      "text/html": [
       "<pre>| 2       | 3.125             | 5.84264                                  |</pre>"
      ],
      "text/plain": [
       "| 2       | 3.125             | 5.84264                                  |"
      ]
     },
     "metadata": {},
     "output_type": "display_data"
    },
    {
     "data": {
      "text/html": [
       "<pre>| 3       | 1.5625            | 3.57656                                  |</pre>"
      ],
      "text/plain": [
       "| 3       | 1.5625            | 3.57656                                  |"
      ]
     },
     "metadata": {},
     "output_type": "display_data"
    },
    {
     "data": {
      "text/html": [
       "<pre>| 4       | 0.78125           | 2.87578                                  |</pre>"
      ],
      "text/plain": [
       "| 4       | 0.78125           | 2.87578                                  |"
      ]
     },
     "metadata": {},
     "output_type": "display_data"
    },
    {
     "data": {
      "text/html": [
       "<pre>| 5       | 0.390625          | 2.68003                                  |</pre>"
      ],
      "text/plain": [
       "| 5       | 0.390625          | 2.68003                                  |"
      ]
     },
     "metadata": {},
     "output_type": "display_data"
    },
    {
     "data": {
      "text/html": [
       "<pre>| 6       | 0.195312          | 4.2252                                   |</pre>"
      ],
      "text/plain": [
       "| 6       | 0.195312          | 4.2252                                   |"
      ]
     },
     "metadata": {},
     "output_type": "display_data"
    },
    {
     "data": {
      "text/html": [
       "<pre>| 7       | 0.0976562         | 7.82206                                  |</pre>"
      ],
      "text/plain": [
       "| 7       | 0.0976562         | 7.82206                                  |"
      ]
     },
     "metadata": {},
     "output_type": "display_data"
    },
    {
     "data": {
      "text/html": [
       "<pre>+---------+-------------------+------------------------------------------+</pre>"
      ],
      "text/plain": [
       "+---------+-------------------+------------------------------------------+"
      ]
     },
     "metadata": {},
     "output_type": "display_data"
    },
    {
     "data": {
      "text/html": [
       "<pre>| Final   | 0.390625          | 2.68003                                  |</pre>"
      ],
      "text/plain": [
       "| Final   | 0.390625          | 2.68003                                  |"
      ]
     },
     "metadata": {},
     "output_type": "display_data"
    },
    {
     "data": {
      "text/html": [
       "<pre>+---------+-------------------+------------------------------------------+</pre>"
      ],
      "text/plain": [
       "+---------+-------------------+------------------------------------------+"
      ]
     },
     "metadata": {},
     "output_type": "display_data"
    },
    {
     "data": {
      "text/html": [
       "<pre>Starting Optimization.</pre>"
      ],
      "text/plain": [
       "Starting Optimization."
      ]
     },
     "metadata": {},
     "output_type": "display_data"
    },
    {
     "data": {
      "text/html": [
       "<pre>+---------+--------------+-------------------+-----------------------+-------------+</pre>"
      ],
      "text/plain": [
       "+---------+--------------+-------------------+-----------------------+-------------+"
      ]
     },
     "metadata": {},
     "output_type": "display_data"
    },
    {
     "data": {
      "text/html": [
       "<pre>| Iter.   | Elapsed Time | Approx. Objective | Approx. Training RMSE | Step Size   |</pre>"
      ],
      "text/plain": [
       "| Iter.   | Elapsed Time | Approx. Objective | Approx. Training RMSE | Step Size   |"
      ]
     },
     "metadata": {},
     "output_type": "display_data"
    },
    {
     "data": {
      "text/html": [
       "<pre>+---------+--------------+-------------------+-----------------------+-------------+</pre>"
      ],
      "text/plain": [
       "+---------+--------------+-------------------+-----------------------+-------------+"
      ]
     },
     "metadata": {},
     "output_type": "display_data"
    },
    {
     "data": {
      "text/html": [
       "<pre>| Initial | 87us         | 27.9392           | 5.28575               |             |</pre>"
      ],
      "text/plain": [
       "| Initial | 87us         | 27.9392           | 5.28575               |             |"
      ]
     },
     "metadata": {},
     "output_type": "display_data"
    },
    {
     "data": {
      "text/html": [
       "<pre>+---------+--------------+-------------------+-----------------------+-------------+</pre>"
      ],
      "text/plain": [
       "+---------+--------------+-------------------+-----------------------+-------------+"
      ]
     },
     "metadata": {},
     "output_type": "display_data"
    },
    {
     "data": {
      "text/html": [
       "<pre>| 1       | 285.177ms    | 18.3668           | 4.28541               | 0.390625    |</pre>"
      ],
      "text/plain": [
       "| 1       | 285.177ms    | 18.3668           | 4.28541               | 0.390625    |"
      ]
     },
     "metadata": {},
     "output_type": "display_data"
    },
    {
     "data": {
      "text/html": [
       "<pre>| 2       | 523.539ms    | 13.9103           | 3.72961               | 0.390625    |</pre>"
      ],
      "text/plain": [
       "| 2       | 523.539ms    | 13.9103           | 3.72961               | 0.390625    |"
      ]
     },
     "metadata": {},
     "output_type": "display_data"
    },
    {
     "data": {
      "text/html": [
       "<pre>| 3       | 747.585ms    | 12.2344           | 3.49776               | 0.390625    |</pre>"
      ],
      "text/plain": [
       "| 3       | 747.585ms    | 12.2344           | 3.49776               | 0.390625    |"
      ]
     },
     "metadata": {},
     "output_type": "display_data"
    },
    {
     "data": {
      "text/html": [
       "<pre>| 4       | 1.06s        | 11.3517           | 3.36923               | 0.390625    |</pre>"
      ],
      "text/plain": [
       "| 4       | 1.06s        | 11.3517           | 3.36923               | 0.390625    |"
      ]
     },
     "metadata": {},
     "output_type": "display_data"
    },
    {
     "data": {
      "text/html": [
       "<pre>| 5       | 1.27s        | 10.842            | 3.29271               | 0.390625    |</pre>"
      ],
      "text/plain": [
       "| 5       | 1.27s        | 10.842            | 3.29271               | 0.390625    |"
      ]
     },
     "metadata": {},
     "output_type": "display_data"
    },
    {
     "data": {
      "text/html": [
       "<pre>| 6       | 1.52s        | 10.5237           | 3.24402               | 0.390625    |</pre>"
      ],
      "text/plain": [
       "| 6       | 1.52s        | 10.5237           | 3.24402               | 0.390625    |"
      ]
     },
     "metadata": {},
     "output_type": "display_data"
    },
    {
     "data": {
      "text/html": [
       "<pre>| 10      | 2.44s        | 9.97807           | 3.15881               | 0.390625    |</pre>"
      ],
      "text/plain": [
       "| 10      | 2.44s        | 9.97807           | 3.15881               | 0.390625    |"
      ]
     },
     "metadata": {},
     "output_type": "display_data"
    },
    {
     "data": {
      "text/html": [
       "<pre>| 11      | 2.68s        | 9.90968           | 3.14796               | 0.390625    |</pre>"
      ],
      "text/plain": [
       "| 11      | 2.68s        | 9.90968           | 3.14796               | 0.390625    |"
      ]
     },
     "metadata": {},
     "output_type": "display_data"
    },
    {
     "data": {
      "text/html": [
       "<pre>| 15      | 3.66s        | 9.72566           | 3.1186                | 0.390625    |</pre>"
      ],
      "text/plain": [
       "| 15      | 3.66s        | 9.72566           | 3.1186                | 0.390625    |"
      ]
     },
     "metadata": {},
     "output_type": "display_data"
    },
    {
     "data": {
      "text/html": [
       "<pre>| 20      | 4.99s        | 9.59602           | 3.09774               | 0.390625    |</pre>"
      ],
      "text/plain": [
       "| 20      | 4.99s        | 9.59602           | 3.09774               | 0.390625    |"
      ]
     },
     "metadata": {},
     "output_type": "display_data"
    },
    {
     "data": {
      "text/html": [
       "<pre>| 25      | 6.17s        | 9.51311           | 3.08433               | 0.390625    |</pre>"
      ],
      "text/plain": [
       "| 25      | 6.17s        | 9.51311           | 3.08433               | 0.390625    |"
      ]
     },
     "metadata": {},
     "output_type": "display_data"
    },
    {
     "data": {
      "text/html": [
       "<pre>| 30      | 7.26s        | 9.45354           | 3.07466               | 0.390625    |</pre>"
      ],
      "text/plain": [
       "| 30      | 7.26s        | 9.45354           | 3.07466               | 0.390625    |"
      ]
     },
     "metadata": {},
     "output_type": "display_data"
    },
    {
     "data": {
      "text/html": [
       "<pre>| 35      | 8.38s        | 9.40867           | 3.06736               | 0.390625    |</pre>"
      ],
      "text/plain": [
       "| 35      | 8.38s        | 9.40867           | 3.06736               | 0.390625    |"
      ]
     },
     "metadata": {},
     "output_type": "display_data"
    },
    {
     "data": {
      "text/html": [
       "<pre>| 40      | 9.61s        | 9.37127           | 3.06125               | 0.390625    |</pre>"
      ],
      "text/plain": [
       "| 40      | 9.61s        | 9.37127           | 3.06125               | 0.390625    |"
      ]
     },
     "metadata": {},
     "output_type": "display_data"
    },
    {
     "data": {
      "text/html": [
       "<pre>| 45      | 10.77s       | 9.3405            | 3.05622               | 0.390625    |</pre>"
      ],
      "text/plain": [
       "| 45      | 10.77s       | 9.3405            | 3.05622               | 0.390625    |"
      ]
     },
     "metadata": {},
     "output_type": "display_data"
    },
    {
     "data": {
      "text/html": [
       "<pre>| 50      | 12.08s       | 9.31439           | 3.05195               | 0.390625    |</pre>"
      ],
      "text/plain": [
       "| 50      | 12.08s       | 9.31439           | 3.05195               | 0.390625    |"
      ]
     },
     "metadata": {},
     "output_type": "display_data"
    },
    {
     "data": {
      "text/html": [
       "<pre>+---------+--------------+-------------------+-----------------------+-------------+</pre>"
      ],
      "text/plain": [
       "+---------+--------------+-------------------+-----------------------+-------------+"
      ]
     },
     "metadata": {},
     "output_type": "display_data"
    },
    {
     "data": {
      "text/html": [
       "<pre>Optimization Complete: Maximum number of passes through the data reached.</pre>"
      ],
      "text/plain": [
       "Optimization Complete: Maximum number of passes through the data reached."
      ]
     },
     "metadata": {},
     "output_type": "display_data"
    },
    {
     "data": {
      "text/html": [
       "<pre>Computing final objective value and training RMSE.</pre>"
      ],
      "text/plain": [
       "Computing final objective value and training RMSE."
      ]
     },
     "metadata": {},
     "output_type": "display_data"
    },
    {
     "data": {
      "text/html": [
       "<pre>       Final objective value: 9.04052</pre>"
      ],
      "text/plain": [
       "       Final objective value: 9.04052"
      ]
     },
     "metadata": {},
     "output_type": "display_data"
    },
    {
     "data": {
      "text/html": [
       "<pre>       Final training RMSE: 3.00674</pre>"
      ],
      "text/plain": [
       "       Final training RMSE: 3.00674"
      ]
     },
     "metadata": {},
     "output_type": "display_data"
    },
    {
     "name": "stderr",
     "output_type": "stream",
     "text": [
      "[INFO] graphlab.deploy.job: Validating job.\n",
      "[INFO] graphlab.deploy.job: Creating a LocalAsync environment called 'async'.\n",
      "[INFO] graphlab.deploy.map_job: Validation complete. Job: 'Model-Parameter-Search-Mar-07-2017-14-34-4600000' ready for execution\n"
     ]
    },
    {
     "name": "stdout",
     "output_type": "stream",
     "text": [
      "cross validation\n",
      "parameter search\n"
     ]
    },
    {
     "name": "stderr",
     "output_type": "stream",
     "text": [
      "[INFO] graphlab.deploy.map_job: Job: 'Model-Parameter-Search-Mar-07-2017-14-34-4600000' scheduled.\n",
      "[INFO] graphlab.deploy.job: Validating job.\n",
      "[INFO] graphlab.deploy.map_job: A job with name 'Model-Parameter-Search-Mar-07-2017-14-34-4600000' already exists. Renaming the job to 'Model-Parameter-Search-Mar-07-2017-14-34-4600000-92fac'.\n",
      "[INFO] graphlab.deploy.map_job: Validation complete. Job: 'Model-Parameter-Search-Mar-07-2017-14-34-4600000-92fac' ready for execution\n",
      "[INFO] graphlab.deploy.map_job: Job: 'Model-Parameter-Search-Mar-07-2017-14-34-4600000-92fac' scheduled.\n",
      "[INFO] graphlab.deploy.job: Validating job.\n",
      "[INFO] graphlab.deploy.map_job: Validation complete. Job: 'Model-Parameter-Search-Mar-07-2017-14-34-4600001' ready for execution\n",
      "[INFO] graphlab.deploy.map_job: Job: 'Model-Parameter-Search-Mar-07-2017-14-34-4600001' scheduled.\n",
      "[INFO] graphlab.deploy.job: Validating job.\n",
      "[INFO] graphlab.deploy.map_job: Validation complete. Job: 'Model-Parameter-Search-Mar-07-2017-14-34-4600002' ready for execution\n",
      "[INFO] graphlab.deploy.map_job: Job: 'Model-Parameter-Search-Mar-07-2017-14-34-4600002' scheduled.\n"
     ]
    },
    {
     "name": "stdout",
     "output_type": "stream",
     "text": [
      "best params by rmse:\n"
     ]
    }
   ],
   "source": [
    "import pandas as pd\n",
    "import numpy as np\n",
    "import graphlab as gl\n",
    "from bs4 import BeautifulSoup\n",
    "from pprint import pprint\n",
    "\n",
    "\n",
    "def add_joke_len(filename):\n",
    "    r = open(filename)\n",
    "    soup = BeautifulSoup(r, 'html.parser')\n",
    "\n",
    "    joke_list = soup.find_all('p')\n",
    "\n",
    "    joke_len_list = []\n",
    "    q_list = []\n",
    "    clinton_list = []\n",
    "\n",
    "    for x in joke_list:\n",
    "        if x.find('?') > 0:\n",
    "            q = 1\n",
    "        else:\n",
    "            q = 0\n",
    "        if x.find('Clinton') > 0:\n",
    "            clinton = 1\n",
    "        else:\n",
    "            clinton = 0\n",
    "        joke_len_list.append(np.log(len(x)))\n",
    "        q_list.append(q)\n",
    "        clinton_list.append(clinton)\n",
    "\n",
    "    return q_list, joke_len_list, clinton_list\n",
    "\n",
    "\n",
    "sample_sub_fname = \"data/sample_submission.csv\"\n",
    "ratings_data_fname = \"data/ratings.dat\"\n",
    "output_fname = \"data/test_ratings.csv\"\n",
    "test_set = \"data/validation_data.csv\"\n",
    "\n",
    "filename = 'data/jokes.dat'\n",
    "q_list, joke_len, clinton_list = add_joke_len(filename)\n",
    "\n",
    "#joke_info = gl.SFrame({'joke_id': range(1,151), 'joke_len': joke_len, 'question': q_list})\n",
    "joke_info = gl.SFrame({'joke_id': range(1,151),  'question': q_list, 'clinton': clinton_list})\n",
    "\n",
    "ratings = gl.SFrame(ratings_data_fname, format='tsv')\n",
    "sample_sub = pd.read_csv(sample_sub_fname)\n",
    "for_prediction = gl.SFrame(sample_sub)\n",
    "rec_engine = gl.factorization_recommender.create(observation_data=ratings,\n",
    "                                                 user_id=\"user_id\",\n",
    "                                                 item_id=\"joke_id\",\n",
    "                                                 target='rating',\n",
    "                                                 item_data = joke_info,\n",
    "                                                 solver='auto',\n",
    "                                                 regularization=0)\n",
    "\n",
    "sample_sub.rating = rec_engine.predict(for_prediction)\n",
    "sample_sub.rating = [min(max(x, -10),10) for x in sample_sub.rating]\n",
    "sample_sub.to_csv(output_fname, index=False)\n",
    "\n",
    "print(\"cross validation\")\n",
    "kfolds = gl.cross_validation.KFold(ratings, 5)\n",
    "params = dict(user_id='user_id', item_id='joke_id', target='rating',\n",
    "                  solver='auto', side_data_factorization=False)\n",
    "\n",
    "print(\"parameter search\")\n",
    "paramsearch = gl.model_parameter_search.create(\n",
    "                    kfolds,\n",
    "                    gl.recommender.factorization_recommender.create,\n",
    "                    params)\n",
    "\n",
    "print \"best params by rmse:\"\n",
    "pprint(paramsearch.get_best_params('mean_validation_rmse'))\n"
   ]
  },
  {
   "cell_type": "code",
   "execution_count": null,
   "metadata": {
    "collapsed": true
   },
   "outputs": [],
   "source": [
    "print('hi')"
   ]
  },
  {
   "cell_type": "markdown",
   "metadata": {
    "collapsed": true
   },
   "source": [
    "## TF-IDF"
   ]
  },
  {
   "cell_type": "code",
   "execution_count": 19,
   "metadata": {
    "collapsed": false
   },
   "outputs": [],
   "source": [
    "# Tokenize and remove stop words\n",
    "\n",
    "# 1. Create a set of documents.\n",
    "documents = [joke.lower() for joke in jokes]\n",
    "\n",
    "# 2. Create a set of tokenized documents.\n",
    "docs = [word_tokenize(content) for content in documents]\n",
    "\n",
    "# 3. Strip out stop words from each tokenized document.\n",
    "stop = set(stopwords.words('english'))\n",
    "docs = [[word for word in words if word not in stop] for words in docs]\n",
    "\n",
    "\n",
    "# Stemming / Lemmatization\n",
    "\n",
    "# 1. Stem using both stemmers and the lemmatizer\n",
    "porter = PorterStemmer()\n",
    "snowball = SnowballStemmer('english')\n",
    "wordnet = WordNetLemmatizer()\n",
    "docs_porter = [[porter.stem(word) for word in words] for words in docs]\n",
    "docs_snowball = [[snowball.stem(word) for word in words] for words in docs]\n",
    "docs_wordnet = [[wordnet.lemmatize(word) for word in words] for words in docs]\n",
    "\n",
    "# Compare\n",
    "# for i in xrange(min(len(docs_porter[0]), len(docs_snowball[0]), \\\n",
    "#                                                         len(docs_wordnet[0]))):\n",
    "#     p, s, w = docs_porter[0][i], docs_snowball[0][i], docs_wordnet[0][i]\n",
    "#     if len(set((p, s, w))) != 1:\n",
    "#         print \"%s\\t%s\\t%s\\t%s\" % (docs[0][i], p, s, w)\n",
    "\n",
    "\n",
    "# Part of speech tagging\n",
    "\n",
    "# 1. Create a part of speech tagged version of your already tokenized dataset.\n",
    "\n",
    "# commented out because it is slow...\n",
    "#pos_tagged = [pos_tag(tokens) for tokens in docs]\n",
    "\n",
    "# Bag of words and TF-IDF\n",
    "\n",
    "# 1. Create vocab, set of unique words\n",
    "docs = docs_snowball # choose which stemmer/lemmatizer to use\n",
    "vocab_set = set()\n",
    "[[vocab_set.add(token) for token in tokens] for tokens in docs]\n",
    "vocab = list(vocab_set)\n",
    "\n",
    "# 2. Create word count vectors manually.\n",
    "matrix = [[0] * len(vocab) for doc in docs]\n",
    "vocab_dict = dict((word, i) for i, word in enumerate(vocab))\n",
    "for i, words in enumerate(docs):\n",
    "    for word in words:\n",
    "        matrix[i][vocab_dict[word]] += 1\n",
    "\n",
    "# 3. Create word count vector over the whole corpus.\n",
    "cv = CountVectorizer(stop_words='english')\n",
    "vectorized = cv.fit_transform(documents)\n",
    "\n",
    "tfidf = TfidfVectorizer(stop_words='english')\n",
    "tfidfed = tfidf.fit_transform(documents)\n",
    "\n",
    "\n",
    "# Cosine Similarity using TF-IDF\n",
    "\n",
    "# 1. Compute cosine similarity\n",
    "cosine_similarities = linear_kernel(tfidfed, tfidfed)\n",
    "\n",
    "# 2. Print out similarities\n",
    "# for i, doc1 in enumerate(docs):\n",
    "#     for j, doc2 in enumerate(docs):\n",
    "#         print i, j, cosine_similarities[i, j]"
   ]
  },
  {
   "cell_type": "code",
   "execution_count": 23,
   "metadata": {
    "collapsed": false,
    "scrolled": true
   },
   "outputs": [
    {
     "data": {
      "text/plain": [
       "array([ 0.02919092,  0.02759409,  0.00968532,  0.01788923,  0.00682931,\n",
       "        0.02301323,  0.02429581,  0.01188107,  0.0218484 ,  0.01943399,\n",
       "        0.01123828,  0.02359791,  0.01254333,  0.02569454,  0.01773403,\n",
       "        0.00954287,  0.02407927,  0.01385469,  0.01505321,  0.01212943,\n",
       "        0.01357792,  0.01969422,  0.01108395,  0.00712827,  0.01787093,\n",
       "        0.01934299,  0.01720096,  0.02890396,  0.01769203,  0.01185635,\n",
       "        0.01800185,  0.02769295,  0.01833857,  0.01579566,  0.01427675,\n",
       "        0.02783549,  0.02195491,  0.02377229,  0.02587114,  0.01923327,\n",
       "        0.01495474,  0.02095016,  0.01703944,  0.02078577,  0.02436381,\n",
       "        0.02473399,  0.02067519,  0.01776745,  0.02422141,  0.02609303,\n",
       "        0.01507603,  0.0093577 ,  0.02898229,  0.01656648,  0.01464982,\n",
       "        0.02632864,  0.00855076,  0.0148265 ,  0.00938203,  0.0181303 ,\n",
       "        0.02213521,  0.02004861,  0.0212308 ,  0.00749268,  0.02296577,\n",
       "        0.01610889,  0.01393321,  0.04260604,  0.02617758,  0.01746225,\n",
       "        0.01829584,  0.01529294,  0.01799566,  0.02242413,  0.01262908,\n",
       "        0.03388975,  0.00666667,  0.01243958,  0.01025946,  0.02188953,\n",
       "        0.02570635,  0.01515648,  0.01025857,  0.01040254,  0.02141484,\n",
       "        0.01867199,  0.03175679,  0.01994185,  0.0118524 ,  0.0178506 ,\n",
       "        0.01711281,  0.02184123,  0.0287066 ,  0.022685  ,  0.0094119 ,\n",
       "        0.01146307,  0.01708327,  0.01328454,  0.01012345,  0.01179002,\n",
       "        0.01242792,  0.01967614,  0.02329067,  0.01747185,  0.02044013,\n",
       "        0.0336918 ,  0.0139204 ,  0.02706954,  0.02080146,  0.01493801,\n",
       "        0.0165347 ,  0.01866338,  0.03047691,  0.01634416,  0.02406709,\n",
       "        0.0339638 ,  0.02122898,  0.03436507,  0.03301692,  0.01861853,\n",
       "        0.01405534,  0.01023803,  0.01629764,  0.01589835,  0.02001565,\n",
       "        0.01207473,  0.03081609,  0.02408324,  0.01490476,  0.0297394 ,\n",
       "        0.02216062,  0.01174015,  0.03073034,  0.02341649,  0.01462874,\n",
       "        0.02623898,  0.0155256 ,  0.01611861,  0.01407783,  0.01112362,\n",
       "        0.00934034,  0.02792675,  0.02102156,  0.02378993,  0.01199531,\n",
       "        0.01604801,  0.02562478,  0.02435416,  0.01676706,  0.01666902])"
      ]
     },
     "execution_count": 23,
     "metadata": {},
     "output_type": "execute_result"
    }
   ],
   "source": [
    "np.mean(cosine_similarities, axis=0)"
   ]
  },
  {
   "cell_type": "code",
   "execution_count": 21,
   "metadata": {
    "collapsed": false
   },
   "outputs": [
    {
     "data": {
      "text/plain": [
       "(150, 150)"
      ]
     },
     "execution_count": 21,
     "metadata": {},
     "output_type": "execute_result"
    }
   ],
   "source": [
    "cosine_similarities.shape"
   ]
  },
  {
   "cell_type": "code",
   "execution_count": 17,
   "metadata": {
    "collapsed": true
   },
   "outputs": [],
   "source": [
    "filename = 'data/jokes.dat'\n",
    "html = open(filename,'r').read()\n",
    "data = bs(html, 'html.parser')\n",
    "\n",
    "jokes = [joke.text.replace('\\n', ' ').replace('\\r', '').replace('\"', '').replace(\"\\\\\", \"\").strip() for joke in data.select('p')]"
   ]
  },
  {
   "cell_type": "code",
   "execution_count": 18,
   "metadata": {
    "collapsed": false
   },
   "outputs": [
    {
     "data": {
      "text/plain": [
       "[u\"A man visits the doctor. The doctor says, I have bad news for you. You have cancer and Alzheimer's disease.  The man replies, Well, thank God I don't have cancer!\",\n",
       " u\"This couple had an excellent relationship going until one day he came home from work to find his girlfriend packing. He asked her why she was leaving him and she told him that she had heard awful things about him.   What could they possibly have said to make you move out?  They told me that you were a pedophile.  He replied, That's an awfully big word for a ten year old.\",\n",
       " u\"Q. What's 200 feet long and has 4 teeth?  A. The front row at a Willie Nelson concert.\",\n",
       " u\"Q. What's the difference between a man and a toilet?  A. A toilet doesn't follow you around after you use it.\",\n",
       " u\"Q. What's O. J. Simpson's web address?  A. Slash, slash, backslash, slash, slash, escape.\",\n",
       " u\"Bill and Hillary Clinton are on a trip back to Arkansas. They're almost out of gas, so Bill pulls into a service station on the outskirts of town. The attendant runs out of the station to serve them when Hillary realizes it's an old boyfriend from high school. She and the attendant chat as he gases up their car and cleans the windows. Then they all say goodbye.  As Bill pulls the car onto the road, he turns to Hillary and says, Now aren't you glad you married me and not him? You could've been the wife of a grease monkey!  To which Hillary replied, No, Bill. If I would have married him, you'd be pumping gas and he would be the President!\",\n",
       " u\"How many feminists does it take to screw in a light bulb?  That's not funny.\",\n",
       " u'Q. Did you hear about the dyslexic devil worshiper?  A. He sold his soul to Santa.',\n",
       " u\"A country guy goes into a city bar that has a dress code, and the maitre d' demands he wear a tie. Discouraged, the guy goes to his car to sulk when inspiration strikes: He's got jumper cables in the trunk! So he wraps them around his neck, sort of like a string tie (a bulky string tie to be sure) and returns to the bar. The maitre d' is reluctant, but says to the guy, Okay, you're a pretty resourceful fellow, you can come in... but just don't start anything!\",\n",
       " u'Two cannibals are eating a clown. One turns to the other and says:  Does this taste funny to you?',\n",
       " u\"Q. What do a hurricane, a tornado, and a redneck divorce all have in common?  A. Someone's going to lose a trailer...\",\n",
       " u\"A guy stood over his tee shot for what seemed an eternity, looking up, looking down, measuring the distance, figuring the wind direction and speed, and driving his partner nuts.  Finally his exasperated partner says, What the hell is taking so long? Hit the goddamn ball! The guy answers, My wife is up there watching me from the clubhouse. I want to make this a perfect shot. Well, hell, man, you don't stand a snowball's chance in hell of hitting her from here!\",\n",
       " u'They asked the Japanese visitor if they have elections in his country.  Every morning, he answers.',\n",
       " u\"The father was very anxious to marry off his only daughter so he wanted to impress her date. Do you like to screw? he asks. Huh? replied the surprised first date. My daughter, she loves to screw and she's good at it: you and her should go screw, the father carefully explained. Now very interested, the boy replied, Yes, sir. Minutes later the girl came down the stairs, kissed her father goodbye and the couple left. After only a few minutes she reappeared, furious, dress torn, hair a mess and screamed, Dammit, Daddy, it's the TWIST, get it straight!\",\n",
       " u'Q: What did the blind person say when given some matzah?  A: Who the hell wrote this?',\n",
       " u'Q. What is orange and sounds like a parrot?  A. A carrot.',\n",
       " u'How many men does it take to screw in a light bulb?  One. Men will screw anything.',\n",
       " u\"A dog walks into Western Union and asks the clerk to send a telegram. He fills out a form on which he writes down the telegram he wishes to send: Bow wow wow, bow wow wow.  The clerk says, You can add another 'Bow wow' for the same price.  The dog responded, Now wouldn't that sound a little silly?\",\n",
       " u'Q: If a person who speaks three languages is called trilingual, and a person who speaks two languages is called bilingual, what do you call a person who only speaks one language?  A: American!',\n",
       " u\"What's the difference between a Macintosh and an Etch-a-Sketch?  You don't have to shake the Mac to clear the screen.\",\n",
       " u\"What's the difference between a used tire and 365 used condoms?  One's a Goodyear, the other's a great year.\",\n",
       " u'A duck walks into a pharmacy and asks for a condom. The pharmacist asks, Would you like me to stick that on your bill? The duck says:  What kind of duck do you think I am!',\n",
       " u\"Q: What is the Australian word for a boomerang that won't come back?  A: A stick.\",\n",
       " u'What do you get when you run over a parakeet with a lawnmower?  Shredded tweet.',\n",
       " u\"Two kindergarten girls were talking outside: one said, You won't believe what I saw on the patio yesterday....a condom!  The second girl asked, What's a patio?\",\n",
       " u'A guy walks into a bar and sits down next to an extremely gorgeous woman. The first thing he notices about her though, are her pants. They were skin-tight, high-waisted and had no obvious mechanism (zipper, buttons or velcro) for opening them.   After several minutes of puzzling over how she got the pants up over her hips, he finally worked up the nerve to ask her. Excuse me miss, but how do you get into your pants?   Well, she replied, you can start by buying me a drink.',\n",
       " u'Bill Clinton returns from a vacation in Arkansas and walks down the steps of Air Force One with two pigs under his arms. At the bottom of the steps, he says to the honor guardsman, These are genuine Arkansas Razor-Back Hogs. I got this one for Chelsea and this one for Hillary.  The guardsman replies, Nice trade, Sir.',\n",
       " u\"A mechanical engineer, an electrical engineer, and a software engineer from Microsoft were driving through the desert when the car broke down.  The mechanical engineer said: It seems to be a problem with the fuel injection system, why don't we pop the hood and I'll take a look at it? To which the electrical engineer replied, No, I think it's just a loose ground wire, I'll get out and take a look.  Then the software engineer from Microsoft jumps in. No, no, no. If we just close up all the windows, get out, wait a few minutes, get back in, and then reopen the windows everything will work fine.\",\n",
       " u'An old Scotsman is sitting with a younger Scottish gentleman and says to the boy, Ah, lad, look out that window. You see that stone wall there? I built it with me own bare hands, placed every stone meself. But do they call me MacGregor the wall builder? No!  He takes a few sips of his beer then says, Aye, and look out on that lake and eye that beautiful pier. I built it meself, laid every board and hammered each nail, but do they call me MacGregor the pier builder? No!  He continues: And lad, you see that road? That too I build with me own bare hands. Laid every inch of pavement meself, but do they call MacGregor the road builder? No!  Again he returns to his beer for a few sips, and then says, Agh, but you screw one sheep...',\n",
       " u\"Q: What's the difference between a lawyer and a plumber?   A: A plumber works to unclog the system.\",\n",
       " u\"President Clinton looks up from his desk in the Oval Office to see one of his aides nervously approach him.  What is it? exclaims the President.  It's this Abortion Bill, Mr. President. What do you want to do about it? the aide asks.  Just go ahead and pay it, responds the President.\",\n",
       " u\"A man arrives at the gates of heaven. St. Peter asks, Religion? The man says, Methodist. St. Peter looks down his list, and says, Go to room 24, but be very quiet as you pass room 8.  Another man arrives at the gates of heaven. Religion? Baptist. Go to room 18, but be very quiet as you pass room 8.  A third man arrives at the gates. Religion? Jewish. Go to room 11, but be very quiet as you pass room 8. The man says, I can understand there being different rooms for different religions, but why must I be quiet when I pass room 8? St. Peter tells him, Well, the Catholics are in room 8, and they think they're the only ones here.\",\n",
       " u'What do you call an American in the finals of the world cup?  Hey beer man!',\n",
       " u'Out in the backwoods of some midwestern state, little Johnny arrives at school an hour late.  Teacher: Why are you so late, John? Johny: My big brother got shot in the ass. (The teacher corrects his speech.) Teacher: Rectum. Johnny: Wrecked him!? Hell, It damn near killed him!',\n",
       " u\"An explorer in the deepest Amazon suddenly finds himself surrounded by a bloodthirsty group of natives. Upon surveying the situation, he says quietly to himself, Oh God, I'm screwed.  The sky darkens and a voice booms out, No, you are NOT screwed. Pick up that stone at your feet and bash in the head of the chief standing in front of you.  So with the stone he bashes the life out of the chief. He stands above the lifeless body, breathing heavily and looking at 100 angry natives...  The voice booms out again, Okay....NOW you're screwed.\",\n",
       " u\"A guy walks into a bar, orders a beer and says to the bartender, Hey, I got this great Polish Joke...  The barkeep glares at him and says in a warning tone of voice: Before you go telling that joke you better know that I'm Polish, both bouncers are Polish and so are most of my customers.  Okay, says the customer. I'll tell it very slowly.\",\n",
       " u'A Jewish young man was seeing a psychiatrist for an eating and sleeping disorder.  I am so obsessed with my mother...As soon as I go to sleep, I start dreaming, and everyone in my dream turns into my mother. I wake up in such a state, and all I can do is go downstairs and eat a piece of toast.  The psychiatrist replies, What, just one piece of toast, for a big boy like you?',\n",
       " u\"May I take your order? the waiter asks.  Yes, how do you prepare your chickens?  Nothing special, sir, he replies. We just tell them straight out that they're going to die.\",\n",
       " u'What is the difference between men and women?  A woman wants one man to satisfy her every need. A man wants every woman to satisfy his one need.',\n",
       " u'How many Irishmen does it take to change a lightbulb?  Two. One to hold the lightbulb and the other to drink until the room spins.',\n",
       " u'What does an atheist say during an orgasm?  Oh Darwin! Oh Darwin!',\n",
       " u'Two men are discussing the age old question: who enjoys sex more, the man or the woman? A woman walks by and listens in for a while and then interrupts:  Listen, you guys. You know when your ear itches and you put in your little finger and wiggle it around for a while? Afterward, which feels better, your finger or your ear?',\n",
       " u\"Arnold Schwarzenegger and Sylvester Stallone are making a movie about the lives of the great composers.  Stallone says, I want to be Mozart.  Swartzeneger says, In that case...I'll be Bach.\",\n",
       " u'A horse walks into a bar. The bartender asks:  So, why the long face?',\n",
       " u'A boy comes home from school and tells his mother that he got a part in the school play. What part? the mother asks. I play a Jewish husband, the boy replies.  Go back to school and tell your teacher that you want a speaking role!',\n",
       " u\"A couple has been married for 75 years. For the husband's 95th birthday, his wife decides to surprise him by hiring a prostitute. That day, the doorbell rings. The husband uses his walker to get to the door and opens it.  A 21-year-old in a latex outfit smiles and says, Hi, I here to give you super sex!  The old man says, I'll take the soup.\",\n",
       " u'There was an engineer who had an exceptional gift for fixing all things mechanical. After serving his company loyally for over 30 years, he happily retired. Several years later the company contacted him regarding a seemingly impossible problem they were having with one of their multi-million dollar machines. They had tried everything and everyone else to get the machine fixed, but to no avail. In desperation, they called on the retired engineer who had solved so many of their problems in the past.  The engineer reluctantly took the challenge. He spent a day studying the huge machine. At the end of the day, he marked a small x in chalk on a particular component of the machine and proudly stated:  This is where your problem is.  The part was replaced and the machine worked perfectly again. The company received a bill for $50,000 from the engineer for his service. They demanded an itemized accounting of his charges. The engineer responded briefly:  One chalk mark: $1.  Knowing where to put it: $49,999.  He was paid in full and the engineer retired again in peace.',\n",
       " u'The graduate with a Science degree asks, Why does it work?  The graduate with an Engineering degree asks, How does it work?  The graduate with an Accounting degree Asks, How much will it cost?  The graduate with a Liberal Arts degree asks, Do you want fries with that?',\n",
       " u'Three engineering students were gathered together discussing the possible designers of the human body.  One said, It was a mechanical engineer. Just look at all the joints.  Another said, No, it was an electrical engineer. The nervous systems many thousands of electrical connections.  The last said, Actually, it was a civil engineer. Who else would run a toxic waste pipeline through a recreational area?',\n",
       " u\"A guy goes into confession and says to the priest, Father, I'm 80 years old, widower, with 11 grandchildren. Last night I met two beautiful flight attendants. They took me home and I made love to both of them. Twice.  The priest says, Well, my son, when was the last time you were in confession?  Never Father, I'm Jewish.  So then, why are you telling me?  I'm telling everybody!\",\n",
       " u'Did you hear that Clinton has announced that there is a new national bird?  The spread eagle.',\n",
       " u'Q: What do Monica Lewinsky and Bob Dole have in common?  A: They were both upset when Bill finished first.',\n",
       " u\"One Sunday morning William burst into the living room and said, Dad! Mom! I have some great news for you! I am getting married to the most beautiful girl in town. She lives a block away and her name is Susan.  After dinner, William's dad took him aside. Son, I have to talk with you. Your mother and I have been married 30 years. She's a wonderful wife but she has never offered much excitement in the bedroom, so I used to fool around with women a lot. Susan is actually your half-sister, and I'm afraid you can't marry her.  William was heart-broken. After eight months he eventually started dating girls again. A year later he came home and very proudly announced, Dianne said yes! We're getting married in June.  Again his father insisted on another private conversation and broke the sad news. Dianne is your half-sister too, William. I'm awfully sorry about this.  William was furious! He finally decided to go to his mother with the news.  Dad has done so much harm.. I guess I'm never going to get married, he complained. Every time I fall in love, Dad tells me the girl is my half-sister.  His mother just shook her head. Don't pay any attention to what he says, dear. He's not really your father.\",\n",
       " u\"The Pope dies and, naturally, goes to heaven. He's met by the reception committee, and after a whirlwind tour he is told that he can enjoy any of the myriad of recreations available.  He decides that he wants to read all of the ancient original text of the Holy Scriptures, so he spends the next eon or so learning languages. After becoming a linguistic master, he sits down in the library and begins to pour over every version of the Bible, working back from most recent Easy Reading to the original script.  All of a sudden there is a scream in the library. The angels come running in only to find the Pope huddled in his chair, crying to himself and muttering, An 'R'! The scribes left out the 'R'! A particularly concerned angel takes him aside, and offering comfort, asks him what the problem is and what he means.  After collecting his wits, the Pope sobs again, It's the letter 'R'. They left out the 'R'. The word was supposed to be 'CELEBRATE'!\",\n",
       " u\"A woman has twins, and gives them up for adoption. One of them goes to a family in Egypt and is named Amal. The other goes to a family in Spain; they name him Juan. Years later, Juan sends a picture of himself to his mom. Upon receiving the picture, she tells her husband that she wishes she also had a picture of Amal.  Her husband responds, But they are twins--if you've seen Juan, you've seen Amal.\",\n",
       " u\"A man and Cindy Crawford get stranded on a desert island. After a couple of days they fall in love and start sleeping together. Time passes and the man seems frustrated. Cindy asks if there is anything she can do, and he says there is one thing: Could you put on this baseball cap and go to the other side of the island and answer me when I call you Bob? She agrees. The next day he is walking on the other side of the island and runs into her. He says, Hi Bob!  She says, Hello, what's up?  He replies, Bob, you won't believe it: I've been sleeping with Cindy Crawford for the past two weeks!\",\n",
       " u\"Why are there so many Jones's in the phone book?  Because they all have phones.\",\n",
       " u'How many teddy bears does it take to change a lightbulb?  It takes only one teddy bear, but it takes a whole lot of lightbulbs.',\n",
       " u'The Chukcha (Russian Eskimo) phones up the Russian Parliament Building. A guard answers.  Chukcha: What is required to become Parliament member?  Guard: What are you, an idiot?  Chukcha: Is it required?',\n",
       " u'What did the Buddhist say to the hot dog vendor?  Make me one with everything.',\n",
       " u\"During a recent publicity outing, Hillary sneaked off to visit a fortune teller of some local repute. In a dark and hazy room, peering into a crystal ball, the mystic delivered grave news.  There's no easy way to say this, so I'll just be blunt: Prepare yourself to be a widow. Your husband will die a violent and horrible death this year.  Visibly shaken, Hillary stared at the woman's lined face, then at the single flickering candle, then down at her hands. She took a few deep breaths to compose herself. She simply had to know. She met the fortune teller's gaze, steadied her voice, and asked her question.  Will I be acquitted?\",\n",
       " u\"A group of managers were given the assignment to measure the height of a flagpole. So they go out to the flagpole with ladders and tape measures, and they're falling off the ladders, dropping the tape measures--the whole thing is just a mess. An engineer comes along and sees what they're trying to do, walks over, pulls the flagpole out of the ground, lays it flat, measures it from end to end, gives the measurement to one of the managers and walks away.  After the engineer has gone, one manager turns to another and laughs. Isn't that just like an engineer? We're looking for the height and he gives us the length.\",\n",
       " u'An engineer, a physicist and a mathematician are sleeping in a room. There is a fire in the room. The engineer wakes up, sees the fire, picks up the bucket of water and douses the fire and goes back to sleep.  Again there is a fire in the room. This time, the physicist wakes up, notices the bucket, fills it with water, calculates the optimal trajectory and douses the fire in minimum amount of water and goes back to sleep.  Again there is a fire. This time the mathematician wakes up. He looks at the fire, looks at the bucket and the water and exclaims, A solution exists! and goes back to sleep.',\n",
       " u'What is the rallying cry of the International Dyslexic Pride movement?  Dyslexics Untie!',\n",
       " u'Two rednecks were seated at the end of a bar when a young lady seated a few stools up began to choke on a piece of hamburger. She was turning blue and obviously in serious respiratory distress. One said to the other, That gal there is having a bad time! The other agreed and said, Think we should go help? You bet, said the first, and with that, he ran over and said, Can you breathe? She shook her head no. He said, Can you speak? She again shook her head no. With that, he pulled up her skirt and licked her on the butt.  She was so shocked, she coughed up the obstruction and began to breathe--with great relief.  The redneck walked back to his friend and said, Funny how that hind lick maneuver always works.',\n",
       " u\"A lawyer opened the door of his BMW, when suddenly a car came along and hit the door, ripping it off completely. When the police arrived at the scene, the lawyer was complaining bitterly about the damage to his precious BMW.  Officer, look what they've done to my Beeeeemer! he whined.  You lawyers are so materialistic, you make me sick! retorted the officer. You're so worried about your stupid BMW that you didn't even notice your left arm was ripped off!  Oh my gaaaad... replied the lawyer, finally noticing the bloody left shoulder where his arm once was. Where's my Rolex?!\",\n",
       " u\"Once upon a time, two brooms fell in love and decided to get married. Before the ceremony, the bride broom informed the groom broom that she was expecting a little whiskbroom. The groom broom was aghast!  How is this possible? he asked. We've never swept together!\",\n",
       " u\"A man piloting a hot air balloon discovers he has wandered off course and is hopelessly lost. He descends to a lower altitude and locates a man down on the ground. He lowers the balloon further and shouts, Excuse me, can you tell me where I am?  The man below says, Yes, you're in a hot air balloon, about 30 feet above this field.  You must work in Information Technology, says the balloonist.  Yes I do, replies the man. And how did you know that?  Well, says the balloonist, what you told me is technically correct, but of no use to anyone.  The man below says, You must work in management.  I do, replies the balloonist, how did you know?  Well, says the man, you don't know where you are, or where you're going, but you expect my immediate help. You're in the same position you were before we met, but now it's my fault!\",\n",
       " u\"This guy's wife asks, Honey, if I died would you remarry? and he replies, Well, after a considerable period of grieving, we all need companionship, so I guess I would.  She then asks, If I died and you remarried, would she live in this house? and he replies, We've spent a lot of time and money getting this house just the way we want it. I'm not going to get rid of my house, so I guess she would.  If I died and you remarried, and she lived in this house, would she sleep in our bed? and he says, That bed is brand new. We just paid two thousand dollars for it, and it's going to last a long time, so I guess she would.  So she asks, If I died and you remarried, and she lived in this house, and slept in our bed, would she use my golf clubs?  Oh no, she's left handed.\",\n",
       " u\"Employer to applicant: In this job we need someone who is responsible.  Applicant: I'm the one you want. On my last job, every time anything went wrong, they said I was responsible.\",\n",
       " u'At a recent Sacramento PC Users Group meeting, a company was demonstrating its latest speech- recognition software. A representative from the company was just about ready to start the demonstration and asked everyone in the room to quiet down.  Just then, someone in the back of the room yelled, Format C: Return.  Someone else chimed in: Yes, Return.  Unfortunately, the software worked.',\n",
       " u'On the first day of college, the Dean addressed the students, pointing out some of the rules: The female dormitory will be out-of-bounds for all male students and the male dormitory to the female students. Anybody caught breaking this rule will be finded $20 the first time. He continued, Anybody caught breaking this rule the second time will be fined $60. Being caught a third time will cost you a fine of $180. Are there any questions?  At this point, a male student in the crowd inquired: How much for a season pass?',\n",
       " u\"Q: What is the difference between George Washington, Richard Nixon, and Bill Clinton?  A: Washington couldn't tell a lie, Nixon couldn't tell the truth, and Clinton doesn't know the difference.\",\n",
       " u'Q: How many stalkers does it take to change a light bulb?  A: Two. One to replace the bulb, and the other to watch it day and night.',\n",
       " u'Q: Do you know the difference between an intelligent male and the Sasquatch?  A: There have been actual reported sightings of the Sasquatch.',\n",
       " u\"There once was a man and a woman that both got in a terrible car wreck. Both of their vehicles were completely destroyed, buy fortunately, no one was hurt. In thankfulness, the woman said to the man, We are both okay, so we should celebrate. I have a bottle of wine in my car: let's open it. So the woman got the bottle out of the car, and handed it to the man. The man took a really big drink, and handed the woman the bottle. The woman closed the bottle and put it down. The man asked, Aren't you going to take a drink? The woman cleverly replied, No, I think I'll just wait for the cops to get here.\",\n",
       " u'If pro- is the opposite of con-, then congress must be the opposite of progress.',\n",
       " u\"Q: What's the difference between the government and the Mafia?  A: One of them is organized.\",\n",
       " u'Q: Ever wonder why the IRS calls it Form 1040?  A: Because for every $50 that you earn, you get 10 and they get 40.',\n",
       " u'Hillary, Bill Clinton and the Pope are sitting together on an airplane. Bill says, I could throw one thousand-dollar bill out of this plane and make one person very happy. Hillary says, I could throw 10 hundred-dollar bills out of the plane and make 10 people very happy.  The Pope chips in and says, I could throw Bill out of the airplane and make the whole country happy.',\n",
       " u'An Asian man goes into a New York CityBank to exchange 10,000 yen for American Currency. The teller gives him $72.00. The next month the Asian man goes into the same bank with 10,000 yen and receives $62.00. He asks, How come? Only $62.00? The teller says Fluctuations, fluctuations!  Whereupon the Asian man looks back at the teller and says Fluk you Amelicans too!',\n",
       " u'Q: How do you keep a computer programmer in the shower all day long?  A: Give them a shampoo with a label that says rinse, lather, repeat.',\n",
       " u\"What a woman says:  This place is a mess! C'mon, you and I need to clean up, your stuff is lying on the floor and you'll have no clothes to wear if we don't do laundry right now!  What a man hears:  blah, blah, blah, blah, C'mon blah, blah, blah, blah, you and I blah, blah, blah, blah, on the floor blah, blah, blah, blah, no clothes blah, blah, blah, blah, right now!\",\n",
       " u'Q: What is the difference between mechanical engineers and civil engineers?  A: Mechanical Engineers build weapons, civil engineers build targets.',\n",
       " u'Q: How many presidents does it take to screw in a light bulb?  A: It depends upon your definition of screwing a light bulb.',\n",
       " u'A neutron walks into a bar and orders a drink. How much do I owe you? the neutron asks.  The bartender replies, For you, no charge.',\n",
       " u\"A man who recently completed a routine physical examination receives a phone call from his doctor. The doctor says, I have some good news and some bad news. The man says, Okay, give me the good news first. The doctor says, The good news is: you have 24 hours to live. The man replies, Shit! That's the good news? Then what's the bad news?  The doctor says, The bad news is: I forgot to call you yesterday.\",\n",
       " u'A Czechoslovakian man felt his eyesight was growing steadily worse, and felt it was time to go see an optometrist.  The doctor started with some simple testing, and showed him a standard eye chart with letters of diminishing size: CRKBNWXSKZY...  Can you read this? the doctor asked.  Read it? the Czech answered. Doc, I know him!',\n",
       " u\"A radio conversation between a US naval ship and Canadian authorities...  Americans: Please divert your course 15 degrees to the North to avoid a collision.  Canadians: Recommend you divert YOUR course 15 degrees to the South to avoid a collision.  Americans: This is the captain of a US Navy ship. I say again, divert YOUR course.  Canadians: No. I say again, you divert YOUR course.  Americans: This is the aircraft carrier USS Lincoln, the second largest ship in the United States' Atlantic Fleet. We are accompanied by three destroyers, three cruisers and numerous support vessels. I demand that you change your course 15 degrees North, that's ONE FIVE DEGREES NORTH, or counter-measures will be undertaken to ensure the safety of this ship.  Canadians: This is a lighthouse. Your call.\",\n",
       " u\"Q: How many programmers does it take to change a lightbulb?  A: NONE! That's a hardware problem...\",\n",
       " u\"A Panda walks into a bar, sits down at a table and orders a beer and a double cheeseburger. After he is finished eating, he pulls out a gun and rips the place with gunfire. Patrons scatter and dive under chairs and tables as the bear runs out the door. After ensuring that no one is hurt, the bartender races out the door, and calls after the bear: What the hell did you do that for? The bear calls back, I'm a Panda. Look it up in the dictionary.  The bartender returns, pulls out his dictionary.  panda: Panda, n. (Zo[o]l.) A small Asiatic mammal (Ailurus fulgens) having fine soft fur. It is related to the bears, and inhabits the mountains of Northern India. Eats shoots and leaves.\",\n",
       " u\"Early one morning a mother went to her sleeping son and woke him up.  Wake up, son. It's time to go to school. But why, Mama? I don't want to go to school.  Give me two reasons why you don't want to go to school.  One, all the children hate me. Two, all the teachers hate me. Oh, that's no reason. Come on, you have to go to school.  Give me two good reasons why I should go to school.  One, you are fifty-two years old. Two, you are the principal of the school.\",\n",
       " u'Reaching the end of a job interview, the human resources person asked a young engineer fresh out of Stanford,  And what starting salary were you looking for?  The engineer said, In the neighborhood of $125,000 a year, depending on the benefits package.  The interviewer said, Well, what would you say to a package of 5-weeks vacation, 14 paid holidays, full medical and dental, company matching retirement fund to 50% of salary, and a company car leased every 2 years--say, a red Corvette?  The engineer sat up straight and said, Wow! Are you kidding?  And the interviewer replied, Yeah, but you started it.',\n",
       " u\"Two atoms are walking down the street when one atom says to the other, Oh, my! I've lost an electron!  The second atom says, Are you sure?  The first replies, I'm positive!\",\n",
       " u'Just a thought...  Before criticizing someone, walk a mile in their shoes.  Then, when you do criticize them, you will be a mile away and have their shoes!',\n",
       " u\"Two attorneys went into a diner and ordered two drinks. Then they produced sandwiches from their briefcases and started to eat. The owner became quite concerned and marched over and told them, You can't eat your own sandwiches in here!  The attorneys looked at each other, shrugged their shoulders and then exchanged sandwiches.\",\n",
       " u'A teacher is explaining to her class how different languages use negatives differently. She says, In all languages, a positive followed by a negative or a negative followed by a positive makes a negative. In some languages, two negatives together make a positive, while in others they make a negative. But in no language do two positives make a negative.  One of the students puts up his hand and says, Yeah, right.',\n",
       " u\"Age and Womanhood  1. Between the ages of 13 and 18... She is like Africa, virgin and unexplored.  2. Between the ages of 19 and 35... She is like Asia, hot and exotic.  3. Between the ages of 36 and 45... She is like America, fully explored, breathtakingly beautiful, and free with her resources.  4. Between the ages of 46 and 56... She is like Europe, exhausted but still has points of interest.  5. After 56 she is like Australia... Everybody knows it's down there, but who gives a damn?\",\n",
       " u'A bus station is where a bus stops. A train station is where a train stops.  On my desk I have a work station...',\n",
       " u'Q: Whats the difference between greeting a queen and greeting the President of the United States?  A: You only have to get on one knee to greet the queen.',\n",
       " u'Did you hear about the Buddhist who refused Novocaine during a root canal? He wanted to transcend dental medication.',\n",
       " u\"A man escaped jail by digging a hole from his jail cell to the outside world. When finally his work was done, he emerged in the middle of a preschool playground.  I'm free, I'm free! he shouted.   So what? said a little girl. I'm four.\",\n",
       " u\"Nurse: Doctor, Doctor, there's an invisible man in the waiting room!  Doctor: Well, go in there and tell him that I can't see him!\",\n",
       " u'As a pre-med student, I had to take a difficult class in physics. One day our professor was discussing a particularly complicated concept. A student rudely interrupted to ask, Why do we have to learn this stuff?  To save lives. The professor responded quickly and continued the lecture.  A few minutes later, the same student spoke up again. So how does physics save lives? he persisted.  It usually keeps the idiots like you out of medical school, replied the professor.',\n",
       " u\"A couple of hunters are out in the woods in the deep south when one of them falls to the ground. He doesn't seem to be breathing, and his eyes are rolled back in his head.  The other guy whips out his cell phone and calls 911. He gasps to the operator, My friend is dead! What can I do?  The operator, in a calm and soothing voice, says, Alright, take it easy. I can help. First, let's make sure he's dead.  There is silence, and then a gun shot is heard.  The hunter comes back on the line. Okay. Now what??\",\n",
       " u\"An engineer dies and reports to the pearly gates. St. Peter checks his dossier and says, Ah, you''re an engineer--you're in the wrong place. So, the engineer reports to the gates of hell and is let in. Pretty soon, the engineer gets dissatisfied with the level of comfort in hell, and starts designing and building improvements. After awhile, they've got air conditioning, flush toilets and escalators, and the engineer is a pretty popular guy. One day, God calls Satan up on the telephone and says with a sneer, So, how's it going down there in hell?  Satan replies, Hey, things are going great. We've got air conditioning, flush toilets and escalators, and there's no telling what this engineer is going to come up with next.  God replies, What?? You've got an engineer? That's a mistake--he should never have gotten down there; send him up here.  Satan says, No way. I like having an engineer on the staff, and I'm keeping him.  God says, Send him back up here or I'll sue.  Satan laughs uproariously and answers, Yeah, right. And just where are YOU going to get a lawyer?\",\n",
       " u\"(A) The Japanese eat very little fat and suffer fewer heart attacks than the British or Americans.   (B) On the other hand, the French eat a lot of fat and also suffer fewer heart attacks than the British or Americans.   (C) The Chinese drink very little red wine and suffer fewer heart attacks than the British or Americans.   (D) The Italians drink excessive amounts of red wine and also suffer fewer heart attacks than the British or Americans.  (E) Conclusion: Eat and drink what you like. It's speaking English that kills you.\",\n",
       " u\"A man approached a very beautiful woman in a large supermarket and asked, You know, I've lost my wife here in the supermarket. Can you talk to me for a couple of minutes?   Why?   Because every time I talk to a beautiful woman my wife appears out of nowhere.\",\n",
       " u\"Do you believe in life after death? the boss asked one of his employees.  Yes, sir, the new recruit replied.   Well, then, that makes everything just fine... the boss went on.   After you left early yesterday to go to your grandmother's funeral, she stopped in to see you.\",\n",
       " u'One day, a professor was giving a big test to his students. He handed out the tests and went back to his desk to wait. Once the test was over, the students all handed the tests back in.  The professor noticed that one of the students had attached a $100 bill to his test with a note saying: A dollar per point.  The next class the professor handed the tests back out. This student got back his test...and $64 change!',\n",
       " u\"A new business was opening and one of the owner's friends wanted to send him flowers for the occasion. They arrived at the new business site and the owner read the card, Rest in Peace.  The owner was angry and called the florist to complain.  After he had told the florist of the obvious mistake and how angry he was, the florist replied, Sir, I'm really sorry for the mistake, but rather than getting angry, you should imagine this: somewhere there is a funeral taking place today, and they have flowers with a note saying, 'Congratulations on your new location!'\",\n",
       " u\"When my three-year-old son opened the birthday gift from his grandmother, he discovered a water pistol. He squealed with delight and headed for the nearest sink. I was not so pleased. I turned to Mom and said, I'm surprised at you. Don't you remember how we used to drive you crazy with water guns?  Mom smiled and then replied...I remember.\",\n",
       " u'The new employee stood before the paper shredder looking confused.  Need some help? a secretary asked.  Yes, he replied. How does this thing work?  Simple, she said, taking the fat report from his hand and feeding it into the shredder.  Thanks, but where do the copies come out?',\n",
       " u\"Sherlock Holmes and Dr. Watson go on a camping trip, set up their tent, and fall asleep. Some hours later, Holmes wakes his faithful friend. Watson, look up at the sky and tell me what you see.   Watson replies, I see millions of stars.   What does that tell you?   Watson ponders for a minute. Astronomically speaking, it tells me that there are millions of galaxies and potentially billions of planets. Astrologically, it tells me that Saturn is in Leo. Timewise, it appears to be approximately a quarter past three. Theologically, it's evident the Lord is all-powerful and we are small and insignificant. Meteorologically, it seems we will have a beautiful day tomorrow. What does it tell you?   Holmes is silent for a moment, then speaks. Watson, you idiot, someone has stolen our tent.\",\n",
       " u\"A lady bought a new Lexus. It cost a bundle. Two days later, she brought it back, complaining that the radio was not working.  Madam, said the sales manager, the audio system in this car is completely automatic. All you need to do is tell it what you want to listen to, and you will hear exactly that!  She drove out, somewhat amazed and a little confused. She looked at the radio and said, Nelson. The radio responded, Ricky or Willie? She was astounded. If she wanted Beethoven, that's what she got. If she wanted Nat King Cole, she got it.  She was stopped at a traffic light enjoying On the Road Again when the light turned green and she pulled out. Suddenly an enormous sports utility vehicle coming from the street she was crossing sped toward her, obviously not paying attention to the light. She swerved and narrowly missed a collision.  Idiot! she yelled and, from the radio, Ladies and gentlemen, the President of the United States.\",\n",
       " u\"A man in a hot air balloon realized he was lost. He reduced altitude and spotted a woman below.  He descended a bit more and shouted, Excuse me, can you help me? I promised a friend I would meet him an hour ago, but I don't know where I am.  The woman below replied, You are in a hot air balloon hovering approximately 30 feet above the ground. You are between 40 and 41 degrees north latitude and between 59 and 60 degrees west longitude.  You must be an engineer, said the balloonist.  I am, replied the woman. How did you know?  Well, answered the balloonist, everything you told me is technically correct, but I have no idea what to make of your information, and the fact is, I am still lost. Frankly, you've not been much help so far.  The woman below responded, You must be in management.  I am, replied the balloonist, but how did you know?   Well, said the woman, you don't know where you are or where you are going. You have risen to where you are due to a large quantity of hot air. You made a promise that you have no idea how to keep, and you expect people beneath you to solve your problems. The fact is, you are in exactly the same position you were in before we met, but now, somehow, it's my fault!\",\n",
       " u\"A man joins a big corporate empire as a trainee.  On his very first day of work, he dials the pantry and shouts into the phone: Get me a coffee, quickly!  The voice from the other side responds, You fool, you've dialed the wrong extension! Do you know who you're talking to, dumbo?  No, replied the trainee. It's the CEO of the company, you fool!  The trainee shouts back, And do YOU know who YOU are talking to, you fool?! No. replied the CEO indignantly.  Good! replied the trainee, and puts down the phone.\",\n",
       " u\"A man goes into a drug store and asks the pharmacist if he can give him something for the hiccups.   The pharmacist promptly reaches out and slaps the man's face.   What the heck did you do that for?! the man screams.   Well, you don't have the hiccups anymore, do you?   The man says, No I don't, you IDIOT...but my wife out in the car still does!\",\n",
       " u\"One day the first grade teacher was reading the story of the Three Little Pigs to her class. She came to the part of the story where the first pig was trying to accumulate the building materials for his home. She read, ...and so the pig went up to the man with the wheelbarrow full of straw and said, 'Pardon me sir, but may I have some of that straw to build my house?'  The teacher paused then asked the class, And what do you think that man said?   One little boy raised his hand and said, I know...he said, 'Holy Shit! A talking pig!'\",\n",
       " u\"Judy was having trouble with her computer, so she called Tony, the computer guy, over to her desk. Tony clicked a couple buttons and solved the problem. As he was walking away, Judy called after him, So, what was wrong?  And he replied, It was an ID Ten T Error.  A puzzled expression ran riot over Judy's face. An ID Ten T Error? What's that...in case I need to fix it again?  He gave her a grin...Haven't you ever heard of an ID Ten T Error before?  No, replied Judy.  Write it down, he said, and I think you'll figure it out.  (She wrote...) I D 1 0 T\",\n",
       " u\"A drunk staggers into a Catholic Church, enters a confessional booth, sits down, but says nothing.  The Priest coughs a few times to get his attention but the drunk just sits there.   Finally, the Priest pounds three times on the wall.  The drunk mumbles, Ain't no use knockin, there's no paper on this side either.\",\n",
       " u'An astronomer, a physicist and a mathematician (it is said) were holidaying in Scotland. Glancing from a train window, they observed a black sheep in the middle of a field.  How interesting, observed the astronomer, All Scottish sheep are black!  To which the physicist responded, No, no! Some Scottish sheep are black!  The mathematician gazed heavenward in supplication, and then intoned, In Scotland there exists at least one field, containing at least one sheep, at least one side of which is black.',\n",
       " u\"When most people claim to be killing time, it's only an expression. When Chuck Norris kills time, the minutes actually cease to exist.\",\n",
       " u\"Person 1: Hey, wanna hear a great knock-knock joke? Person 2: Sure, What is it? Person 1: Okay, you start. Person 2: Knock-knock. Person 1: Who's there? Person 2: ... Person 1: Hah!\",\n",
       " u'An American tourist goes into a restaurant in Spain and orders the specialty of the house. When his dinner arrives, he asks the waiter what it is.   These, senor, replied the waiter in broken English, are the testicles of the bull killed in the ring today.  The tourist swallowed hard but tasted the dish and thought it was delicious. So he comes back the next evening and orders the same item. When it is served, he says to the waiter, These testicles...are much smaller than the ones I had last night.   Yes, senor, replied the waiter, You see...the bull, he does not always lose.',\n",
       " u\"A Briton, a Frenchman and a Russian are viewing a painting of Adam and Eve frolicking in the Garden of Eden. Look at their reserve, their calm, muses the Brit. They must be British.  Nonsense, the Frenchman disagrees. They're naked, and so beautiful. Clearly, they are French.  No way! They have no clothes and no shelter, the Russian points out, They have only an apple to eat, and they are being told they live in a paradise. Obviously, they are Russian.\",\n",
       " u\"A little boy goes to his dad and asks, What is politics?  His dad says, Well son, let me try to explain it this way: I'm the breadwinner of the family, so let's call me capitalism. Your Mom, she's the administrator of the money, so we'll call her the government. We're here to take care of your needs, so we'll call you the people. The nanny, we'll consider her the working class. And your baby brother, we'll call him the future. Now, think about that and see if that makes sense.  So the little boy goes off to bed thinking about what dad had said. Later that night, he hears his baby brother crying, so he gets up to check on him. He finds that the baby has severely soiled his diaper. So the little boy goes to his parents' room and finds his mother sound asleep. Not wanting to wake her, he goes to the nanny's room. Finding the door locked, he peeks in the keyhole and sees his father in bed with the nanny. He gives up and goes back to bed. The next morning, the little boy says to his father, Dad, I think I understand the concept of politics now. The father says, Good, son. Tell me in your own words what you think politics is all about.  The little boy replies, Well, while capitalism is screwing the working class, the government is sound asleep, the people are being ignored and the future is in deep shit.\",\n",
       " u\"An American, a Scot and a Canadian were in a terrible car accident. They were all brought to the same emergency room, but all three of them died before they arrived.  Just as they were about to put the toe tag on the American, he stirred and opened his eyes. Astonished, the doctors and nurses present asked him what happened.  Well, said the American, I remember the crash, and then there was a beautiful light, and then the Canadian and the Scot and I were standing at the gate s of heaven. St. Peter approached us and said that we were all to young to die, and that for a donation of $50, we could return to earth. So of course I pulled out my wallet and gave him the $50, and the next thing I knew I was back here.  That's amazing! said the one of the doctors, But what happened to the other two?  Last I saw them, replied the American, the Scot was haggling over the price and the Canadian was waiting for the government to pay his.\",\n",
       " u\"A group of girlfriends is on vacation when they see a 5-story hotel with a sign that reads: For Women Only. Since they are without their boyfriends and husbands, they decide to go in.   The bouncer, a very attractive guy, explains to them how it works. We have 5 floors. Go up floor by floor, and once you find what you are looking for, you can stay there. It's easy to decide since each floor has a sign telling you what's inside.   So they start going up and on the first floor the sign reads: All the men on this floor are short and plain. The friends laugh and without hesitation move on to the next floor.   The sign on the second floor reads: All the men here are short and handsome. Still, this isn't good enough, so the friends continue on up.   They reach the third floor and the sign reads: All the men here are tall and plain.   They still want to do better, and so, knowing there are still two floors left, they continued on up.   On the fourth floor, the sign is perfect: All the men here are tall and handsome. The women get all excited and are going in when they realize that there is still one floor left. Wondering what they are missing, they head on up to the fifth floor.   There they find a sign that reads: There are no men here. This floor was built only to prove that there is no way to please a woman.\",\n",
       " u\"An old man goes to the doctor for his yearly physical, his wife tagging along. When the doctor enters the examination room, he tells the old man, I need a urine sample, a stool sample and a sperm sample.  The old man, being hard of hearing, looks at his wife and yells: WHAT? What did he say? What's he want?  His wife yells back, He needs your underwear.\",\n",
       " u'A guy had been feeling down for so long that he finally decided to seek the aid of a psychiatrist.  He went there, lay on the couch, spilled his guts then waited for the profound wisdom of the psychiatrist to make him feel better.  The psychiatrist asked me a few questions, took some notes then sat thinking in silence for a few minutes with a puzzled look on his face.  He looked up with an expression of delight and said, I think your problem is low self-esteem. It is very common among losers.',\n",
       " u\"Mickey Mouse is having a nasty divorce with Minnie Mouse. Mickey spoke to the judge about the separation.  I'm sorry Mickey, but I can't legally separate you two on the grounds that Minnie is mentally insane...  Mickey replied, I didn't say she was mentally insane, I said that she's fucking Goofy!\",\n",
       " u'The new employee stood before the paper shredder looking confused. Need some help? a secretary, walking by, asked. Yes, he replied, how does this thing work? Simple, she said, taking the fat report from his hand and feeding it into the shredder.  Thanks, but where do the copies come out?',\n",
       " u\"An artist asked the gallery owner if there had been any interest in his paintings currently on display. I've got good news and bad news, the owner replied. The good news is that a gentleman inquired about your work and wondered if it would appreciate in value after your death. When I told him it would, he bought all fifteen of your paintings.  That's wonderful! the artist exclaimed. What's the bad news?  With concern, the gallery owner replied:The guy was your doctor.\",\n",
       " u'A guy walked past a mental hospital and heard a moaning voice: 13...13...13...13...  The man looked over to the hospital and saw a hole in the wall. He looked through the hole and got poked in the eye. The moaning voice then groaned: 14...14...14...14...',\n",
       " u\"A man went to apply for a job. After filling out all of his applications, he waited anxiously for the outcome.  The employer read all his applications and said, We have an opening for people like you.  Oh, great, he said. What is it?  It's called the door!\",\n",
       " u\"Deep within a forest, a little turtle began to climb a tree. After hours of effort, he reached the top, jumped into the air waving his front legs and crashed to the ground. After recovering, he slowly climbed the tree again, jumped, and fell to the ground. The turtle tried again and again, while a couple of birds sitting on a branch watched his sad efforts.  Finally, the female bird turned to her mate. Dear, she chirped, I think it's time to tell him he's adopted.\",\n",
       " u'WASHINGTON (Reuters) - A tragic fire on Monday destroyed the personal library of President George W. Bush. Both of his books have been lost.  Presidential spokesman Ari Fleischer said the president was devastated, as he had not finished coloring the second one.',\n",
       " u\"In a Veteran's Day speech, President Bush vowed, We will finish the mission. Period. Afterwards, he was advised that he doesn't have to read the punctuation marks.\",\n",
       " u\"Chuck Norris' calendar goes straight from March 31st to April 2nd; no one fools Chuck Norris.\",\n",
       " u\"Jack Bauer can get McDonald's breakfast after 10:30.\",\n",
       " u\"One day, three men went to a shrine to ask the Father for forgiveness.  The first man went to the Father...  First Man: Father, Father, I have sinned! Father: What have you done? First Man: I have lied! Father: Drink the holy water and you will be saved.  And so the man drank the water and was saved.  The second man went up to the Father...  Second Man: Father, Father, I have sinned! Father: What have you done? Second Man: I have stolen from the jeweler's! Father: Drink the holy water and you will be saved.  And so the second man drank the holy water and was saved.  The third man went up to the Father...  Third Man: Father, Father, I have sinned! Father: What have you done? Third Man: I peed in the holy water!\",\n",
       " u\"A preist, a 12-year-old kid, and the smartest guy in the world are on a plane.  The pilot screams, The plane is going down! You have to jump! He then grabs a parachute and jumps off, leaving only two more parachutes on the plane.  The smartest guy in the world says, I have to go. I mean, I'm the smartest guy in the world! He grabs a parachute, and jumps.  The priest then looks at the 12-year-old kid, and says, Go, my son. You have a long life to live.  The kid calmly responds: Dude, chill. We'll be fine. The 'smartest guy in the world' took my backpack.\",\n",
       " u\"A man is driving in the country one evening when his car stalls and won't start. He goes up to a nearby farm house for help, and because it is suppertime he is asked to stay for supper. When he sits down at the table he notices that a pig is sitting at the table with them for supper and that the pig has a wooden leg.  As they are eating and chatting, he eventually asks the farmer why the pig is there and why it has a wooden leg. Oh, says the farmer, that is a very special pig. Last month my wife and daughter were in the barn when it caught fire. The pig saw this, ran to the barn, tipped over a pail of water, crawled over the wet floor to reach them and pulled them out of the barn safely. A special pig like that, you just don't eat it all at once!\",\n",
       " u\"A blonde, brunette, and a red head are all lined up to be shot to death by a firing squad.  The brunette shouts, Tornado! and the riflemen turn around to see the tornado. It isn't there, and the brunette uses that time to escape.  The red head yells, Lightning! and the riflemen again turn to see the disaster, yet there is no disaster and the red head escapes.  The blonde yells, Fire!  The riflemen do.\",\n",
       " u'America:  8:00 - Welcome to work! 12:00 - Lunch break 17:00 - The work day is over  Japan:  8:00 - Are you already at work? 12:00 - Continue your work 17:00 - The work day is over 20:00 - Please finish your work  Romania:  8:00 - Has anyone come to work? 12:00 - Did someone start working? 16:00 - Is anyone at work?',\n",
       " u\"It was the day of the big sale. Rumors of the sale (and some advertising in the local paper) were the main reason for the long line that formed by 8:30, the store's opening time, in front of the store.  A small man pushed his way to the front of the line, only to be pushed back, amid loud and colorful curses. On the man's second attempt, he was punched square in the jaw, and knocked around a bit, and then thrown to the end of the line again. As he got up the second time, he said to the person at the end of the line...  That does it! If they hit me one more time, I won't open the store!\",\n",
       " u\"Recently a teacher, a garbage collector, and a lawyer wound up together at the Pearly Gates. St. Peter informed them that in order to get into Heaven, they would each have to answer one question.   St. Peter addressed the teacher and asked, What was the name of the ship that crashed into the iceberg? They just made a movie about it.   The teacher answered quickly, That would be the Titanic. St. Peter let him through the gate.   St. Peter turned to the garbage man and, figuring Heaven didn't really need all the odors that this guy would bring with him, decided to make the question a little harder: How many people died on the ship?   Fortunately for him, the trash man had just seen the movie. 1,228, he answered.   That's right! You may enter.  St. Peter turned to the lawyer: Name them.\",\n",
       " u\"A little girl asked her father, Daddy? Do all fairy tales begin with 'Once Upon a Time'?   He replied, No, there is a whole series of fairy tales that begin with 'If elected I promise'.\",\n",
       " u\"In an interview with David Letterman, Carter passed along an anecdote of a translation problem in Japan. Carter was speaking at a business lunch in Tokyo, where he decided to open his speech with a brief joke.  He told the joke, then waited for the translator to announce the Japanese version. Even though the story was quite short, Carter was surprised by how quickly the interpreter was able to re-tell it. Even more impressive was the reaction from the crowd. Carter thought the story was cute, but not outright hilarious, yet the crowd broke right up. Carter was very flattered.  After the speech, Carter wanted to meet the translator to ask him how he told the joke. Perhaps there is better way to tell the joke?  When Carter asked how the joke had been told in Japanese, the translator responded, I told them, 'President Carter has told a very funny joke. Please laugh now.'\"]"
      ]
     },
     "execution_count": 18,
     "metadata": {},
     "output_type": "execute_result"
    }
   ],
   "source": [
    "jokes"
   ]
  },
  {
   "cell_type": "code",
   "execution_count": null,
   "metadata": {
    "collapsed": false
   },
   "outputs": [
    {
     "data": {
      "text/html": [
       "<pre>Finished parsing file /Users/souljourner/Library/Mobile Documents/com~apple~CloudDocs/Development/Data Science/zipfian/case-study-recommender/data/ratings.dat</pre>"
      ],
      "text/plain": [
       "Finished parsing file /Users/souljourner/Library/Mobile Documents/com~apple~CloudDocs/Development/Data Science/zipfian/case-study-recommender/data/ratings.dat"
      ]
     },
     "metadata": {},
     "output_type": "display_data"
    },
    {
     "data": {
      "text/html": [
       "<pre>Parsing completed. Parsed 100 lines in 0.332726 secs.</pre>"
      ],
      "text/plain": [
       "Parsing completed. Parsed 100 lines in 0.332726 secs."
      ]
     },
     "metadata": {},
     "output_type": "display_data"
    },
    {
     "name": "stdout",
     "output_type": "stream",
     "text": [
      "------------------------------------------------------\n",
      "Inferred types from first 100 line(s) of file as \n",
      "column_type_hints=[int,int,float]\n",
      "If parsing fails due to incorrect types, you can correct\n",
      "the inferred type list above and pass it to read_csv in\n",
      "the column_type_hints argument\n",
      "------------------------------------------------------\n"
     ]
    },
    {
     "data": {
      "text/html": [
       "<pre>Finished parsing file /Users/souljourner/Library/Mobile Documents/com~apple~CloudDocs/Development/Data Science/zipfian/case-study-recommender/data/ratings.dat</pre>"
      ],
      "text/plain": [
       "Finished parsing file /Users/souljourner/Library/Mobile Documents/com~apple~CloudDocs/Development/Data Science/zipfian/case-study-recommender/data/ratings.dat"
      ]
     },
     "metadata": {},
     "output_type": "display_data"
    },
    {
     "data": {
      "text/html": [
       "<pre>Parsing completed. Parsed 1218325 lines in 0.579835 secs.</pre>"
      ],
      "text/plain": [
       "Parsing completed. Parsed 1218325 lines in 0.579835 secs."
      ]
     },
     "metadata": {},
     "output_type": "display_data"
    },
    {
     "data": {
      "text/html": [
       "<pre>Recsys training: model = factorization_recommender</pre>"
      ],
      "text/plain": [
       "Recsys training: model = factorization_recommender"
      ]
     },
     "metadata": {},
     "output_type": "display_data"
    },
    {
     "data": {
      "text/html": [
       "<pre>Preparing data set.</pre>"
      ],
      "text/plain": [
       "Preparing data set."
      ]
     },
     "metadata": {},
     "output_type": "display_data"
    },
    {
     "data": {
      "text/html": [
       "<pre>    Data has 1218325 observations with 50692 users and 151 items.</pre>"
      ],
      "text/plain": [
       "    Data has 1218325 observations with 50692 users and 151 items."
      ]
     },
     "metadata": {},
     "output_type": "display_data"
    },
    {
     "data": {
      "text/html": [
       "<pre>    Data prepared in: 0.8672s</pre>"
      ],
      "text/plain": [
       "    Data prepared in: 0.8672s"
      ]
     },
     "metadata": {},
     "output_type": "display_data"
    },
    {
     "data": {
      "text/html": [
       "<pre>Training factorization_recommender for recommendations.</pre>"
      ],
      "text/plain": [
       "Training factorization_recommender for recommendations."
      ]
     },
     "metadata": {},
     "output_type": "display_data"
    },
    {
     "data": {
      "text/html": [
       "<pre>+--------------------------------+--------------------------------------------------+----------+</pre>"
      ],
      "text/plain": [
       "+--------------------------------+--------------------------------------------------+----------+"
      ]
     },
     "metadata": {},
     "output_type": "display_data"
    },
    {
     "data": {
      "text/html": [
       "<pre>| Parameter                      | Description                                      | Value    |</pre>"
      ],
      "text/plain": [
       "| Parameter                      | Description                                      | Value    |"
      ]
     },
     "metadata": {},
     "output_type": "display_data"
    },
    {
     "data": {
      "text/html": [
       "<pre>+--------------------------------+--------------------------------------------------+----------+</pre>"
      ],
      "text/plain": [
       "+--------------------------------+--------------------------------------------------+----------+"
      ]
     },
     "metadata": {},
     "output_type": "display_data"
    },
    {
     "data": {
      "text/html": [
       "<pre>| num_factors                    | Factor Dimension                                 | 10       |</pre>"
      ],
      "text/plain": [
       "| num_factors                    | Factor Dimension                                 | 10       |"
      ]
     },
     "metadata": {},
     "output_type": "display_data"
    },
    {
     "data": {
      "text/html": [
       "<pre>| regularization                 | L2 Regularization on Factors                     | 1e-06    |</pre>"
      ],
      "text/plain": [
       "| regularization                 | L2 Regularization on Factors                     | 1e-06    |"
      ]
     },
     "metadata": {},
     "output_type": "display_data"
    },
    {
     "data": {
      "text/html": [
       "<pre>| solver                         | Solver used for training                         | adagrad  |</pre>"
      ],
      "text/plain": [
       "| solver                         | Solver used for training                         | adagrad  |"
      ]
     },
     "metadata": {},
     "output_type": "display_data"
    },
    {
     "data": {
      "text/html": [
       "<pre>| linear_regularization          | L2 Regularization on Linear Coefficients         | 1e-09    |</pre>"
      ],
      "text/plain": [
       "| linear_regularization          | L2 Regularization on Linear Coefficients         | 1e-09    |"
      ]
     },
     "metadata": {},
     "output_type": "display_data"
    },
    {
     "data": {
      "text/html": [
       "<pre>| side_data_factorization        | Assign Factors for Side Data                     | True     |</pre>"
      ],
      "text/plain": [
       "| side_data_factorization        | Assign Factors for Side Data                     | True     |"
      ]
     },
     "metadata": {},
     "output_type": "display_data"
    },
    {
     "data": {
      "text/html": [
       "<pre>| max_iterations                 | Maximum Number of Iterations                     | 50       |</pre>"
      ],
      "text/plain": [
       "| max_iterations                 | Maximum Number of Iterations                     | 50       |"
      ]
     },
     "metadata": {},
     "output_type": "display_data"
    },
    {
     "data": {
      "text/html": [
       "<pre>+--------------------------------+--------------------------------------------------+----------+</pre>"
      ],
      "text/plain": [
       "+--------------------------------+--------------------------------------------------+----------+"
      ]
     },
     "metadata": {},
     "output_type": "display_data"
    },
    {
     "data": {
      "text/html": [
       "<pre>  Optimizing model using SGD; tuning step size.</pre>"
      ],
      "text/plain": [
       "  Optimizing model using SGD; tuning step size."
      ]
     },
     "metadata": {},
     "output_type": "display_data"
    },
    {
     "data": {
      "text/html": [
       "<pre>  Using 152290 / 1218325 points for tuning the step size.</pre>"
      ],
      "text/plain": [
       "  Using 152290 / 1218325 points for tuning the step size."
      ]
     },
     "metadata": {},
     "output_type": "display_data"
    },
    {
     "data": {
      "text/html": [
       "<pre>+---------+-------------------+------------------------------------------+</pre>"
      ],
      "text/plain": [
       "+---------+-------------------+------------------------------------------+"
      ]
     },
     "metadata": {},
     "output_type": "display_data"
    },
    {
     "data": {
      "text/html": [
       "<pre>| Attempt | Initial Step Size | Estimated Objective Value                |</pre>"
      ],
      "text/plain": [
       "| Attempt | Initial Step Size | Estimated Objective Value                |"
      ]
     },
     "metadata": {},
     "output_type": "display_data"
    },
    {
     "data": {
      "text/html": [
       "<pre>+---------+-------------------+------------------------------------------+</pre>"
      ],
      "text/plain": [
       "+---------+-------------------+------------------------------------------+"
      ]
     },
     "metadata": {},
     "output_type": "display_data"
    },
    {
     "data": {
      "text/html": [
       "<pre>| 0       | 12.5              | 20.2102                                  |</pre>"
      ],
      "text/plain": [
       "| 0       | 12.5              | 20.2102                                  |"
      ]
     },
     "metadata": {},
     "output_type": "display_data"
    },
    {
     "data": {
      "text/html": [
       "<pre>| 1       | 6.25              | 10.587                                   |</pre>"
      ],
      "text/plain": [
       "| 1       | 6.25              | 10.587                                   |"
      ]
     },
     "metadata": {},
     "output_type": "display_data"
    },
    {
     "data": {
      "text/html": [
       "<pre>| 2       | 3.125             | 4.90631                                  |</pre>"
      ],
      "text/plain": [
       "| 2       | 3.125             | 4.90631                                  |"
      ]
     },
     "metadata": {},
     "output_type": "display_data"
    },
    {
     "data": {
      "text/html": [
       "<pre>| 3       | 1.5625            | 3.45473                                  |</pre>"
      ],
      "text/plain": [
       "| 3       | 1.5625            | 3.45473                                  |"
      ]
     },
     "metadata": {},
     "output_type": "display_data"
    },
    {
     "data": {
      "text/html": [
       "<pre>| 4       | 0.78125           | 2.61539                                  |</pre>"
      ],
      "text/plain": [
       "| 4       | 0.78125           | 2.61539                                  |"
      ]
     },
     "metadata": {},
     "output_type": "display_data"
    },
    {
     "data": {
      "text/html": [
       "<pre>| 5       | 0.390625          | 2.0608                                   |</pre>"
      ],
      "text/plain": [
       "| 5       | 0.390625          | 2.0608                                   |"
      ]
     },
     "metadata": {},
     "output_type": "display_data"
    },
    {
     "data": {
      "text/html": [
       "<pre>| 6       | 0.195312          | 3.69015                                  |</pre>"
      ],
      "text/plain": [
       "| 6       | 0.195312          | 3.69015                                  |"
      ]
     },
     "metadata": {},
     "output_type": "display_data"
    },
    {
     "data": {
      "text/html": [
       "<pre>| 7       | 0.0976562         | 10.383                                   |</pre>"
      ],
      "text/plain": [
       "| 7       | 0.0976562         | 10.383                                   |"
      ]
     },
     "metadata": {},
     "output_type": "display_data"
    },
    {
     "data": {
      "text/html": [
       "<pre>+---------+-------------------+------------------------------------------+</pre>"
      ],
      "text/plain": [
       "+---------+-------------------+------------------------------------------+"
      ]
     },
     "metadata": {},
     "output_type": "display_data"
    },
    {
     "data": {
      "text/html": [
       "<pre>| Final   | 0.390625          | 2.0608                                   |</pre>"
      ],
      "text/plain": [
       "| Final   | 0.390625          | 2.0608                                   |"
      ]
     },
     "metadata": {},
     "output_type": "display_data"
    },
    {
     "data": {
      "text/html": [
       "<pre>+---------+-------------------+------------------------------------------+</pre>"
      ],
      "text/plain": [
       "+---------+-------------------+------------------------------------------+"
      ]
     },
     "metadata": {},
     "output_type": "display_data"
    },
    {
     "data": {
      "text/html": [
       "<pre>Starting Optimization.</pre>"
      ],
      "text/plain": [
       "Starting Optimization."
      ]
     },
     "metadata": {},
     "output_type": "display_data"
    },
    {
     "data": {
      "text/html": [
       "<pre>+---------+--------------+-------------------+-----------------------+-------------+</pre>"
      ],
      "text/plain": [
       "+---------+--------------+-------------------+-----------------------+-------------+"
      ]
     },
     "metadata": {},
     "output_type": "display_data"
    },
    {
     "data": {
      "text/html": [
       "<pre>| Iter.   | Elapsed Time | Approx. Objective | Approx. Training RMSE | Step Size   |</pre>"
      ],
      "text/plain": [
       "| Iter.   | Elapsed Time | Approx. Objective | Approx. Training RMSE | Step Size   |"
      ]
     },
     "metadata": {},
     "output_type": "display_data"
    },
    {
     "data": {
      "text/html": [
       "<pre>+---------+--------------+-------------------+-----------------------+-------------+</pre>"
      ],
      "text/plain": [
       "+---------+--------------+-------------------+-----------------------+-------------+"
      ]
     },
     "metadata": {},
     "output_type": "display_data"
    },
    {
     "data": {
      "text/html": [
       "<pre>| Initial | 110us        | 27.9392           | 5.28575               |             |</pre>"
      ],
      "text/plain": [
       "| Initial | 110us        | 27.9392           | 5.28575               |             |"
      ]
     },
     "metadata": {},
     "output_type": "display_data"
    },
    {
     "data": {
      "text/html": [
       "<pre>+---------+--------------+-------------------+-----------------------+-------------+</pre>"
      ],
      "text/plain": [
       "+---------+--------------+-------------------+-----------------------+-------------+"
      ]
     },
     "metadata": {},
     "output_type": "display_data"
    },
    {
     "data": {
      "text/html": [
       "<pre>| 1       | 475.972ms    | 18.509            | 4.28435               | 0.390625    |</pre>"
      ],
      "text/plain": [
       "| 1       | 475.972ms    | 18.509            | 4.28435               | 0.390625    |"
      ]
     },
     "metadata": {},
     "output_type": "display_data"
    },
    {
     "data": {
      "text/html": [
       "<pre>| 2       | 886.497ms    | 14.1155           | 3.72789               | 0.390625    |</pre>"
      ],
      "text/plain": [
       "| 2       | 886.497ms    | 14.1155           | 3.72789               | 0.390625    |"
      ]
     },
     "metadata": {},
     "output_type": "display_data"
    },
    {
     "data": {
      "text/html": [
       "<pre>| 3       | 1.34s        | 11.6248           | 3.37347               | 0.390625    |</pre>"
      ],
      "text/plain": [
       "| 3       | 1.34s        | 11.6248           | 3.37347               | 0.390625    |"
      ]
     },
     "metadata": {},
     "output_type": "display_data"
    },
    {
     "data": {
      "text/html": [
       "<pre>| 4       | 1.81s        | 10.4902           | 3.19892               | 0.390625    |</pre>"
      ],
      "text/plain": [
       "| 4       | 1.81s        | 10.4902           | 3.19892               | 0.390625    |"
      ]
     },
     "metadata": {},
     "output_type": "display_data"
    },
    {
     "data": {
      "text/html": [
       "<pre>| 5       | 2.47s        | 9.99301           | 3.11894               | 0.390625    |</pre>"
      ],
      "text/plain": [
       "| 5       | 2.47s        | 9.99301           | 3.11894               | 0.390625    |"
      ]
     },
     "metadata": {},
     "output_type": "display_data"
    },
    {
     "data": {
      "text/html": [
       "<pre>| 6       | 3.07s        | 9.72827           | 3.07528               | 0.390625    |</pre>"
      ],
      "text/plain": [
       "| 6       | 3.07s        | 9.72827           | 3.07528               | 0.390625    |"
      ]
     },
     "metadata": {},
     "output_type": "display_data"
    },
    {
     "data": {
      "text/html": [
       "<pre>| 10      | 4.86s        | 9.2741            | 2.99843               | 0.390625    |</pre>"
      ],
      "text/plain": [
       "| 10      | 4.86s        | 9.2741            | 2.99843               | 0.390625    |"
      ]
     },
     "metadata": {},
     "output_type": "display_data"
    },
    {
     "data": {
      "text/html": [
       "<pre>| 11      | 5.32s        | 9.21416           | 2.98808               | 0.390625    |</pre>"
      ],
      "text/plain": [
       "| 11      | 5.32s        | 9.21416           | 2.98808               | 0.390625    |"
      ]
     },
     "metadata": {},
     "output_type": "display_data"
    },
    {
     "data": {
      "text/html": [
       "<pre>| 15      | 7.23s        | 9.05191           | 2.95987               | 0.390625    |</pre>"
      ],
      "text/plain": [
       "| 15      | 7.23s        | 9.05191           | 2.95987               | 0.390625    |"
      ]
     },
     "metadata": {},
     "output_type": "display_data"
    },
    {
     "data": {
      "text/html": [
       "<pre>| 20      | 9.51s        | 8.93318           | 2.93904               | 0.390625    |</pre>"
      ],
      "text/plain": [
       "| 20      | 9.51s        | 8.93318           | 2.93904               | 0.390625    |"
      ]
     },
     "metadata": {},
     "output_type": "display_data"
    },
    {
     "data": {
      "text/html": [
       "<pre>| 25      | 11.90s       | 8.85589           | 2.92546               | 0.390625    |</pre>"
      ],
      "text/plain": [
       "| 25      | 11.90s       | 8.85589           | 2.92546               | 0.390625    |"
      ]
     },
     "metadata": {},
     "output_type": "display_data"
    },
    {
     "data": {
      "text/html": [
       "<pre>| 30      | 14.09s       | 8.80048           | 2.91572               | 0.390625    |</pre>"
      ],
      "text/plain": [
       "| 30      | 14.09s       | 8.80048           | 2.91572               | 0.390625    |"
      ]
     },
     "metadata": {},
     "output_type": "display_data"
    },
    {
     "data": {
      "text/html": [
       "<pre>| 35      | 16.18s       | 8.75688           | 2.90809               | 0.390625    |</pre>"
      ],
      "text/plain": [
       "| 35      | 16.18s       | 8.75688           | 2.90809               | 0.390625    |"
      ]
     },
     "metadata": {},
     "output_type": "display_data"
    },
    {
     "data": {
      "text/html": [
       "<pre>| 40      | 18.55s       | 8.72155           | 2.90193               | 0.390625    |</pre>"
      ],
      "text/plain": [
       "| 40      | 18.55s       | 8.72155           | 2.90193               | 0.390625    |"
      ]
     },
     "metadata": {},
     "output_type": "display_data"
    },
    {
     "data": {
      "text/html": [
       "<pre>| 45      | 21.06s       | 8.69194           | 2.89679               | 0.390625    |</pre>"
      ],
      "text/plain": [
       "| 45      | 21.06s       | 8.69194           | 2.89679               | 0.390625    |"
      ]
     },
     "metadata": {},
     "output_type": "display_data"
    },
    {
     "data": {
      "text/html": [
       "<pre>| 50      | 23.31s       | 8.66653           | 2.8924                | 0.390625    |</pre>"
      ],
      "text/plain": [
       "| 50      | 23.31s       | 8.66653           | 2.8924                | 0.390625    |"
      ]
     },
     "metadata": {},
     "output_type": "display_data"
    },
    {
     "data": {
      "text/html": [
       "<pre>+---------+--------------+-------------------+-----------------------+-------------+</pre>"
      ],
      "text/plain": [
       "+---------+--------------+-------------------+-----------------------+-------------+"
      ]
     },
     "metadata": {},
     "output_type": "display_data"
    },
    {
     "data": {
      "text/html": [
       "<pre>Optimization Complete: Maximum number of passes through the data reached.</pre>"
      ],
      "text/plain": [
       "Optimization Complete: Maximum number of passes through the data reached."
      ]
     },
     "metadata": {},
     "output_type": "display_data"
    },
    {
     "data": {
      "text/html": [
       "<pre>Computing final objective value and training RMSE.</pre>"
      ],
      "text/plain": [
       "Computing final objective value and training RMSE."
      ]
     },
     "metadata": {},
     "output_type": "display_data"
    },
    {
     "data": {
      "text/html": [
       "<pre>       Final objective value: 8.38087</pre>"
      ],
      "text/plain": [
       "       Final objective value: 8.38087"
      ]
     },
     "metadata": {},
     "output_type": "display_data"
    },
    {
     "data": {
      "text/html": [
       "<pre>       Final training RMSE: 2.84259</pre>"
      ],
      "text/plain": [
       "       Final training RMSE: 2.84259"
      ]
     },
     "metadata": {},
     "output_type": "display_data"
    },
    {
     "name": "stdout",
     "output_type": "stream",
     "text": [
      "train rmse: 2.83464168549\n",
      "test rmse: 4.57643466268\n"
     ]
    },
    {
     "name": "stderr",
     "output_type": "stream",
     "text": [
      "[INFO] graphlab.deploy.job: Validating job.\n",
      "[INFO] graphlab.deploy.job: Creating a LocalAsync environment called 'async'.\n",
      "[INFO] graphlab.deploy.map_job: Validation complete. Job: 'Model-Parameter-Search-Mar-07-2017-15-46-5800000' ready for execution\n",
      "[INFO] graphlab.deploy.map_job: Job: 'Model-Parameter-Search-Mar-07-2017-15-46-5800000' scheduled.\n",
      "[INFO] graphlab.deploy.job: Validating job.\n",
      "[INFO] graphlab.deploy.map_job: A job with name 'Model-Parameter-Search-Mar-07-2017-15-46-5800000' already exists. Renaming the job to 'Model-Parameter-Search-Mar-07-2017-15-46-5800000-12d6f'.\n",
      "[INFO] graphlab.deploy.map_job: Validation complete. Job: 'Model-Parameter-Search-Mar-07-2017-15-46-5800000-12d6f' ready for execution\n",
      "[INFO] graphlab.deploy.map_job: Job: 'Model-Parameter-Search-Mar-07-2017-15-46-5800000-12d6f' scheduled.\n",
      "[INFO] graphlab.deploy.job: Validating job.\n",
      "[INFO] graphlab.deploy.map_job: Validation complete. Job: 'Model-Parameter-Search-Mar-07-2017-15-46-5800001' ready for execution\n",
      "[INFO] graphlab.deploy.map_job: Job: 'Model-Parameter-Search-Mar-07-2017-15-46-5800001' scheduled.\n",
      "[INFO] graphlab.deploy.job: Validating job.\n",
      "[INFO] graphlab.deploy.map_job: Validation complete. Job: 'Model-Parameter-Search-Mar-07-2017-15-46-5800002' ready for execution\n",
      "[INFO] graphlab.deploy.map_job: Job: 'Model-Parameter-Search-Mar-07-2017-15-46-5800002' scheduled.\n"
     ]
    },
    {
     "name": "stdout",
     "output_type": "stream",
     "text": [
      "best params by rmse:\n"
     ]
    }
   ],
   "source": [
    "\n",
    "\n",
    "import pandas as pd\n",
    "import numpy as np\n",
    "import graphlab as gl\n",
    "from bs4 import BeautifulSoup\n",
    "from pprint import pprint\n",
    "from sklearn.metrics import mean_squared_error\n",
    "import matplotlib.pyplot as plt\n",
    "\n",
    "\n",
    "def add_joke_len(filename):\n",
    "    r = open(filename)\n",
    "    soup = BeautifulSoup(r, 'html.parser')\n",
    "\n",
    "    joke_list = soup.find_all('p')\n",
    "\n",
    "    joke_len_list = []\n",
    "    q_list = []\n",
    "    clinton_list = []\n",
    "\n",
    "    for x in joke_list:\n",
    "        if x.find('?') > 0:\n",
    "            q = 1\n",
    "        else:\n",
    "            q = 0\n",
    "        if x.find('Clinton') > 0:\n",
    "            clinton = 1\n",
    "        else:\n",
    "            clinton = 0\n",
    "        joke_len_list.append(np.log(len(x)))\n",
    "        q_list.append(q)\n",
    "        clinton_list.append(clinton)\n",
    "\n",
    "    avg_similarity = np.array([ 0.02919092,  0.02759409,  0.00968532,  0.01788923,  0.00682931,\n",
    "       0.02301323,  0.02429581,  0.01188107,  0.0218484 ,  0.01943399,\n",
    "       0.01123828,  0.02359791,  0.01254333,  0.02569454,  0.01773403,\n",
    "       0.00954287,  0.02407927,  0.01385469,  0.01505321,  0.01212943,\n",
    "       0.01357792,  0.01969422,  0.01108395,  0.00712827,  0.01787093,\n",
    "       0.01934299,  0.01720096,  0.02890396,  0.01769203,  0.01185635,\n",
    "       0.01800185,  0.02769295,  0.01833857,  0.01579566,  0.01427675,\n",
    "       0.02783549,  0.02195491,  0.02377229,  0.02587114,  0.01923327,\n",
    "       0.01495474,  0.02095016,  0.01703944,  0.02078577,  0.02436381,\n",
    "       0.02473399,  0.02067519,  0.01776745,  0.02422141,  0.02609303,\n",
    "       0.01507603,  0.0093577 ,  0.02898229,  0.01656648,  0.01464982,\n",
    "       0.02632864,  0.00855076,  0.0148265 ,  0.00938203,  0.0181303 ,\n",
    "       0.02213521,  0.02004861,  0.0212308 ,  0.00749268,  0.02296577,\n",
    "       0.01610889,  0.01393321,  0.04260604,  0.02617758,  0.01746225,\n",
    "       0.01829584,  0.01529294,  0.01799566,  0.02242413,  0.01262908,\n",
    "       0.03388975,  0.00666667,  0.01243958,  0.01025946,  0.02188953,\n",
    "       0.02570635,  0.01515648,  0.01025857,  0.01040254,  0.02141484,\n",
    "       0.01867199,  0.03175679,  0.01994185,  0.0118524 ,  0.0178506 ,\n",
    "       0.01711281,  0.02184123,  0.0287066 ,  0.022685  ,  0.0094119 ,\n",
    "       0.01146307,  0.01708327,  0.01328454,  0.01012345,  0.01179002,\n",
    "       0.01242792,  0.01967614,  0.02329067,  0.01747185,  0.02044013,\n",
    "       0.0336918 ,  0.0139204 ,  0.02706954,  0.02080146,  0.01493801,\n",
    "       0.0165347 ,  0.01866338,  0.03047691,  0.01634416,  0.02406709,\n",
    "       0.0339638 ,  0.02122898,  0.03436507,  0.03301692,  0.01861853,\n",
    "       0.01405534,  0.01023803,  0.01629764,  0.01589835,  0.02001565,\n",
    "       0.01207473,  0.03081609,  0.02408324,  0.01490476,  0.0297394 ,\n",
    "       0.02216062,  0.01174015,  0.03073034,  0.02341649,  0.01462874,\n",
    "       0.02623898,  0.0155256 ,  0.01611861,  0.01407783,  0.01112362,\n",
    "       0.00934034,  0.02792675,  0.02102156,  0.02378993,  0.01199531,\n",
    "       0.01604801,  0.02562478,  0.02435416,  0.01676706,  0.01666902])\n",
    "    return q_list, joke_len_list, clinton_list, avg_similarity\n",
    "\n",
    "\n",
    "\n",
    "sample_sub_fname = \"data/sample_submission.csv\"\n",
    "ratings_data_fname = \"data/ratings.dat\"\n",
    "output_fname = \"data/test_ratings.csv\"\n",
    "test_set = \"data/validation_data.csv\"\n",
    "\n",
    "filename = 'data/jokes.dat'\n",
    "q_list, joke_len, clinton_list, avg_similarity = add_joke_len(filename)\n",
    "\n",
    "#joke_info = gl.SFrame({'joke_id': range(1,151), 'joke_len': joke_len, 'question': q_list})\n",
    "joke_info = gl.SFrame({'joke_id': range(1,151),  'question': q_list, 'sim': avg_similarity})\n",
    "\n",
    "ratings = gl.SFrame(ratings_data_fname, format='tsv')\n",
    "sample_sub = pd.read_csv(sample_sub_fname)\n",
    "for_prediction = gl.SFrame(sample_sub)\n",
    "#rec_engine = gl.factorization_recommender.create(observation_data=ratings, user_id=\"user_id\", item_id=\"joke_id\", target='rating', item_data = joke_info, solver='auto', linear_regularization= 1e-09, max_iterations= 50, num_factors= 64, regularization= 0)\n",
    "rec_engine = gl.factorization_recommender.create(observation_data=ratings, user_id=\"user_id\", item_id=\"joke_id\", target='rating', item_data = joke_info, solver='auto', linear_regularization= 1e-09, max_iterations= 50, num_factors= 10, regularization= 1e-06)\n",
    "\n",
    "\n",
    "predictions = [min(max(x, -10),10) for x in rec_engine.predict(ratings)]\n",
    "rmse = np.sqrt(mean_squared_error(ratings['rating'], predictions))\n",
    "print 'train rmse: {}'.format(rmse)\n",
    "\n",
    "ratings_test = pd.read_csv(test_set)\n",
    "for_prediction_test = gl.SFrame(ratings_test)\n",
    "predictions_test = [min(max(x, -10),10) for x in rec_engine.predict(for_prediction_test)]\n",
    "test_rmse = np.sqrt(mean_squared_error(ratings_test['rating'], predictions_test))\n",
    "print 'test rmse: {}'.format(test_rmse)\n",
    "\n",
    "sample_sub.rating = rec_engine.predict(for_prediction)\n",
    "sample_sub.rating = [min(max(x, -10),10) for x in sample_sub.rating]\n",
    "sample_sub.to_csv(output_fname, index=False)\n",
    "\n",
    "\n",
    "kfolds = gl.cross_validation.KFold(ratings, 5)\n",
    "params = dict(user_id='user_id', item_id='joke_id', target='rating',\n",
    "              solver='auto', side_data_factorization=False)\n",
    "\n",
    "paramsearch = gl.model_parameter_search.create(\n",
    "                    kfolds,\n",
    "                    gl.recommender.factorization_recommender.create,\n",
    "                    params)\n",
    "\n",
    "print \"best params by rmse:\"\n",
    "pprint(paramsearch.get_best_params('mean_validation_rmse'))"
   ]
  },
  {
   "cell_type": "code",
   "execution_count": null,
   "metadata": {
    "collapsed": true
   },
   "outputs": [],
   "source": []
  }
 ],
 "metadata": {
  "kernelspec": {
   "display_name": "Python [conda env:python2]",
   "language": "python",
   "name": "conda-env-python2-py"
  },
  "language_info": {
   "codemirror_mode": {
    "name": "ipython",
    "version": 2
   },
   "file_extension": ".py",
   "mimetype": "text/x-python",
   "name": "python",
   "nbconvert_exporter": "python",
   "pygments_lexer": "ipython2",
   "version": "2.7.13"
  }
 },
 "nbformat": 4,
 "nbformat_minor": 2
}
