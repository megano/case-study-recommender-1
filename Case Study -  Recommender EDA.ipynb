{
 "cells": [
  {
   "cell_type": "markdown",
   "metadata": {},
   "source": [
    "# Case Study - Recommender EDA"
   ]
  },
  {
   "cell_type": "code",
   "execution_count": null,
   "metadata": {
    "collapsed": false
   },
   "outputs": [],
   "source": [
    "from IPython.core.display import display, HTML\n",
    "display(HTML(\"<style>.container { width:100% !important; }</style>\"))\n",
    "\n",
    "\n",
    "%matplotlib inline\n",
    "%config InlineBackend.figure_format = 'retina'\n",
    "import numpy as np\n",
    "import pandas as pd\n",
    "import scipy.stats as scs\n",
    "import matplotlib.pyplot as plt\n",
    "import seaborn as sns\n",
    "import matplotlib.dates as mdates\n",
    "from bs4 import BeautifulSoup as bs"
   ]
  },
  {
   "cell_type": "code",
   "execution_count": null,
   "metadata": {
    "collapsed": false
   },
   "outputs": [],
   "source": [
    "# Target output\n",
    "target = pd.read_csv('data/sample_submission.csv')\n",
    "target.head()"
   ]
  },
  {
   "cell_type": "code",
   "execution_count": null,
   "metadata": {
    "collapsed": false
   },
   "outputs": [],
   "source": [
    "ratings_df = pd.read_table('data/ratings.dat')\n",
    "ratings_df.head()"
   ]
  },
  {
   "cell_type": "code",
   "execution_count": 13,
   "metadata": {
    "collapsed": false
   },
   "outputs": [
    {
     "name": "stdout",
     "output_type": "stream",
     "text": [
      "Bill and Hillary Clinton are on a trip back to Arkansas. They're almost out of gas, so Bill pulls into a service station on the outskirts of town. The attendant runs out of the station to serve them when Hillary realizes it's an old boyfriend from high school. She and the attendant chat as he gases up their car and cleans the windows. Then they all say goodbye.\n",
      "\n",
      "As Bill pulls the car onto the road, he turns to Hillary and says, \"Now aren't you glad you married me and not him? You could've been the wife of a grease monkey!\"\n",
      "\n",
      "To which Hillary replied, \"No, Bill. If I would have married him, you'd be pumping gas and he would be the President!\" \n",
      "\n"
     ]
    }
   ],
   "source": [
    "jokes = []\n",
    "joke = ''\n",
    "with open('data/jokes.txt') as f:\n",
    "\n",
    "    for line in f:\n",
    "        line_list = line.split(' ')\n",
    "        if line_list[0][-1:] == ':':\n",
    "            jokes.append(joke)    # add the last joke into the jokes list as a new joke has begun \n",
    "            joke = ' '.join(line_list[1:])\n",
    "        else:\n",
    "            joke += line\n",
    "jokes.append(joke)\n",
    "jokes = jokes[1:]\n",
    "print(jokes[5])    "
   ]
  },
  {
   "cell_type": "code",
   "execution_count": null,
   "metadata": {
    "collapsed": true
   },
   "outputs": [],
   "source": [
    "# filename = 'data/jokes.dat'\n",
    "# html = open(filename,'r').read()\n",
    "# data = bs(html, 'html.parser')\n",
    "\n",
    "# jokes = [joke.text.replace('\\n', '').replace('\\r', '') for joke in data.select('p')]"
   ]
  },
  {
   "cell_type": "code",
   "execution_count": null,
   "metadata": {
    "collapsed": false
   },
   "outputs": [],
   "source": [
    "jokes[0]"
   ]
  },
  {
   "cell_type": "code",
   "execution_count": 17,
   "metadata": {
    "collapsed": false
   },
   "outputs": [
    {
     "data": {
      "text/html": [
       "<pre>Finished parsing file /Users/souljourner/Library/Mobile Documents/com~apple~CloudDocs/Development/Data Science/zipfian/case-study-recommender/data/ratings.dat</pre>"
      ],
      "text/plain": [
       "Finished parsing file /Users/souljourner/Library/Mobile Documents/com~apple~CloudDocs/Development/Data Science/zipfian/case-study-recommender/data/ratings.dat"
      ]
     },
     "metadata": {},
     "output_type": "display_data"
    },
    {
     "data": {
      "text/html": [
       "<pre>Parsing completed. Parsed 100 lines in 0.364178 secs.</pre>"
      ],
      "text/plain": [
       "Parsing completed. Parsed 100 lines in 0.364178 secs."
      ]
     },
     "metadata": {},
     "output_type": "display_data"
    },
    {
     "name": "stdout",
     "output_type": "stream",
     "text": [
      "------------------------------------------------------\n",
      "Inferred types from first 100 line(s) of file as \n",
      "column_type_hints=[int,int,float]\n",
      "If parsing fails due to incorrect types, you can correct\n",
      "the inferred type list above and pass it to read_csv in\n",
      "the column_type_hints argument\n",
      "------------------------------------------------------\n"
     ]
    },
    {
     "data": {
      "text/html": [
       "<pre>Finished parsing file /Users/souljourner/Library/Mobile Documents/com~apple~CloudDocs/Development/Data Science/zipfian/case-study-recommender/data/ratings.dat</pre>"
      ],
      "text/plain": [
       "Finished parsing file /Users/souljourner/Library/Mobile Documents/com~apple~CloudDocs/Development/Data Science/zipfian/case-study-recommender/data/ratings.dat"
      ]
     },
     "metadata": {},
     "output_type": "display_data"
    },
    {
     "data": {
      "text/html": [
       "<pre>Parsing completed. Parsed 1218325 lines in 0.577221 secs.</pre>"
      ],
      "text/plain": [
       "Parsing completed. Parsed 1218325 lines in 0.577221 secs."
      ]
     },
     "metadata": {},
     "output_type": "display_data"
    },
    {
     "data": {
      "text/html": [
       "<pre>Recsys training: model = factorization_recommender</pre>"
      ],
      "text/plain": [
       "Recsys training: model = factorization_recommender"
      ]
     },
     "metadata": {},
     "output_type": "display_data"
    },
    {
     "data": {
      "text/html": [
       "<pre>Preparing data set.</pre>"
      ],
      "text/plain": [
       "Preparing data set."
      ]
     },
     "metadata": {},
     "output_type": "display_data"
    },
    {
     "data": {
      "text/html": [
       "<pre>    Data has 1218325 observations with 50692 users and 151 items.</pre>"
      ],
      "text/plain": [
       "    Data has 1218325 observations with 50692 users and 151 items."
      ]
     },
     "metadata": {},
     "output_type": "display_data"
    },
    {
     "data": {
      "text/html": [
       "<pre>    Data prepared in: 0.896771s</pre>"
      ],
      "text/plain": [
       "    Data prepared in: 0.896771s"
      ]
     },
     "metadata": {},
     "output_type": "display_data"
    },
    {
     "data": {
      "text/html": [
       "<pre>Training factorization_recommender for recommendations.</pre>"
      ],
      "text/plain": [
       "Training factorization_recommender for recommendations."
      ]
     },
     "metadata": {},
     "output_type": "display_data"
    },
    {
     "data": {
      "text/html": [
       "<pre>+--------------------------------+--------------------------------------------------+----------+</pre>"
      ],
      "text/plain": [
       "+--------------------------------+--------------------------------------------------+----------+"
      ]
     },
     "metadata": {},
     "output_type": "display_data"
    },
    {
     "data": {
      "text/html": [
       "<pre>| Parameter                      | Description                                      | Value    |</pre>"
      ],
      "text/plain": [
       "| Parameter                      | Description                                      | Value    |"
      ]
     },
     "metadata": {},
     "output_type": "display_data"
    },
    {
     "data": {
      "text/html": [
       "<pre>+--------------------------------+--------------------------------------------------+----------+</pre>"
      ],
      "text/plain": [
       "+--------------------------------+--------------------------------------------------+----------+"
      ]
     },
     "metadata": {},
     "output_type": "display_data"
    },
    {
     "data": {
      "text/html": [
       "<pre>| num_factors                    | Factor Dimension                                 | 8        |</pre>"
      ],
      "text/plain": [
       "| num_factors                    | Factor Dimension                                 | 8        |"
      ]
     },
     "metadata": {},
     "output_type": "display_data"
    },
    {
     "data": {
      "text/html": [
       "<pre>| regularization                 | L2 Regularization on Factors                     | 1e-08    |</pre>"
      ],
      "text/plain": [
       "| regularization                 | L2 Regularization on Factors                     | 1e-08    |"
      ]
     },
     "metadata": {},
     "output_type": "display_data"
    },
    {
     "data": {
      "text/html": [
       "<pre>| solver                         | Solver used for training                         | adagrad  |</pre>"
      ],
      "text/plain": [
       "| solver                         | Solver used for training                         | adagrad  |"
      ]
     },
     "metadata": {},
     "output_type": "display_data"
    },
    {
     "data": {
      "text/html": [
       "<pre>| linear_regularization          | L2 Regularization on Linear Coefficients         | 1e-10    |</pre>"
      ],
      "text/plain": [
       "| linear_regularization          | L2 Regularization on Linear Coefficients         | 1e-10    |"
      ]
     },
     "metadata": {},
     "output_type": "display_data"
    },
    {
     "data": {
      "text/html": [
       "<pre>| side_data_factorization        | Assign Factors for Side Data                     | True     |</pre>"
      ],
      "text/plain": [
       "| side_data_factorization        | Assign Factors for Side Data                     | True     |"
      ]
     },
     "metadata": {},
     "output_type": "display_data"
    },
    {
     "data": {
      "text/html": [
       "<pre>| max_iterations                 | Maximum Number of Iterations                     | 50       |</pre>"
      ],
      "text/plain": [
       "| max_iterations                 | Maximum Number of Iterations                     | 50       |"
      ]
     },
     "metadata": {},
     "output_type": "display_data"
    },
    {
     "data": {
      "text/html": [
       "<pre>+--------------------------------+--------------------------------------------------+----------+</pre>"
      ],
      "text/plain": [
       "+--------------------------------+--------------------------------------------------+----------+"
      ]
     },
     "metadata": {},
     "output_type": "display_data"
    },
    {
     "data": {
      "text/html": [
       "<pre>  Optimizing model using SGD; tuning step size.</pre>"
      ],
      "text/plain": [
       "  Optimizing model using SGD; tuning step size."
      ]
     },
     "metadata": {},
     "output_type": "display_data"
    },
    {
     "data": {
      "text/html": [
       "<pre>  Using 152290 / 1218325 points for tuning the step size.</pre>"
      ],
      "text/plain": [
       "  Using 152290 / 1218325 points for tuning the step size."
      ]
     },
     "metadata": {},
     "output_type": "display_data"
    },
    {
     "data": {
      "text/html": [
       "<pre>+---------+-------------------+------------------------------------------+</pre>"
      ],
      "text/plain": [
       "+---------+-------------------+------------------------------------------+"
      ]
     },
     "metadata": {},
     "output_type": "display_data"
    },
    {
     "data": {
      "text/html": [
       "<pre>| Attempt | Initial Step Size | Estimated Objective Value                |</pre>"
      ],
      "text/plain": [
       "| Attempt | Initial Step Size | Estimated Objective Value                |"
      ]
     },
     "metadata": {},
     "output_type": "display_data"
    },
    {
     "data": {
      "text/html": [
       "<pre>+---------+-------------------+------------------------------------------+</pre>"
      ],
      "text/plain": [
       "+---------+-------------------+------------------------------------------+"
      ]
     },
     "metadata": {},
     "output_type": "display_data"
    },
    {
     "data": {
      "text/html": [
       "<pre>| 0       | 10                | Not Viable                               |</pre>"
      ],
      "text/plain": [
       "| 0       | 10                | Not Viable                               |"
      ]
     },
     "metadata": {},
     "output_type": "display_data"
    },
    {
     "data": {
      "text/html": [
       "<pre>| 1       | 2.5               | Not Viable                               |</pre>"
      ],
      "text/plain": [
       "| 1       | 2.5               | Not Viable                               |"
      ]
     },
     "metadata": {},
     "output_type": "display_data"
    },
    {
     "data": {
      "text/html": [
       "<pre>| 2       | 0.625             | 18.7565                                  |</pre>"
      ],
      "text/plain": [
       "| 2       | 0.625             | 18.7565                                  |"
      ]
     },
     "metadata": {},
     "output_type": "display_data"
    },
    {
     "data": {
      "text/html": [
       "<pre>| 3       | 0.3125            | 7.51356                                  |</pre>"
      ],
      "text/plain": [
       "| 3       | 0.3125            | 7.51356                                  |"
      ]
     },
     "metadata": {},
     "output_type": "display_data"
    },
    {
     "data": {
      "text/html": [
       "<pre>| 4       | 0.15625           | 10.0366                                  |</pre>"
      ],
      "text/plain": [
       "| 4       | 0.15625           | 10.0366                                  |"
      ]
     },
     "metadata": {},
     "output_type": "display_data"
    },
    {
     "data": {
      "text/html": [
       "<pre>| 5       | 0.078125          | 14.2921                                  |</pre>"
      ],
      "text/plain": [
       "| 5       | 0.078125          | 14.2921                                  |"
      ]
     },
     "metadata": {},
     "output_type": "display_data"
    },
    {
     "data": {
      "text/html": [
       "<pre>| 6       | 0.0390625         | 22.0369                                  |</pre>"
      ],
      "text/plain": [
       "| 6       | 0.0390625         | 22.0369                                  |"
      ]
     },
     "metadata": {},
     "output_type": "display_data"
    },
    {
     "data": {
      "text/html": [
       "<pre>+---------+-------------------+------------------------------------------+</pre>"
      ],
      "text/plain": [
       "+---------+-------------------+------------------------------------------+"
      ]
     },
     "metadata": {},
     "output_type": "display_data"
    },
    {
     "data": {
      "text/html": [
       "<pre>| Final   | 0.3125            | 7.51356                                  |</pre>"
      ],
      "text/plain": [
       "| Final   | 0.3125            | 7.51356                                  |"
      ]
     },
     "metadata": {},
     "output_type": "display_data"
    },
    {
     "data": {
      "text/html": [
       "<pre>+---------+-------------------+------------------------------------------+</pre>"
      ],
      "text/plain": [
       "+---------+-------------------+------------------------------------------+"
      ]
     },
     "metadata": {},
     "output_type": "display_data"
    },
    {
     "data": {
      "text/html": [
       "<pre>Starting Optimization.</pre>"
      ],
      "text/plain": [
       "Starting Optimization."
      ]
     },
     "metadata": {},
     "output_type": "display_data"
    },
    {
     "data": {
      "text/html": [
       "<pre>+---------+--------------+-------------------+-----------------------+-------------+</pre>"
      ],
      "text/plain": [
       "+---------+--------------+-------------------+-----------------------+-------------+"
      ]
     },
     "metadata": {},
     "output_type": "display_data"
    },
    {
     "data": {
      "text/html": [
       "<pre>| Iter.   | Elapsed Time | Approx. Objective | Approx. Training RMSE | Step Size   |</pre>"
      ],
      "text/plain": [
       "| Iter.   | Elapsed Time | Approx. Objective | Approx. Training RMSE | Step Size   |"
      ]
     },
     "metadata": {},
     "output_type": "display_data"
    },
    {
     "data": {
      "text/html": [
       "<pre>+---------+--------------+-------------------+-----------------------+-------------+</pre>"
      ],
      "text/plain": [
       "+---------+--------------+-------------------+-----------------------+-------------+"
      ]
     },
     "metadata": {},
     "output_type": "display_data"
    },
    {
     "data": {
      "text/html": [
       "<pre>| Initial | 82us         | 27.9395           | 5.28578               |             |</pre>"
      ],
      "text/plain": [
       "| Initial | 82us         | 27.9395           | 5.28578               |             |"
      ]
     },
     "metadata": {},
     "output_type": "display_data"
    },
    {
     "data": {
      "text/html": [
       "<pre>+---------+--------------+-------------------+-----------------------+-------------+</pre>"
      ],
      "text/plain": [
       "+---------+--------------+-------------------+-----------------------+-------------+"
      ]
     },
     "metadata": {},
     "output_type": "display_data"
    },
    {
     "data": {
      "text/html": [
       "<pre>| 1       | 524.549ms    | 26.4342           | 5.14133               | 0.3125      |</pre>"
      ],
      "text/plain": [
       "| 1       | 524.549ms    | 26.4342           | 5.14133               | 0.3125      |"
      ]
     },
     "metadata": {},
     "output_type": "display_data"
    },
    {
     "data": {
      "text/html": [
       "<pre>| 2       | 952.306ms    | 20.1162           | 4.48504               | 0.3125      |</pre>"
      ],
      "text/plain": [
       "| 2       | 952.306ms    | 20.1162           | 4.48504               | 0.3125      |"
      ]
     },
     "metadata": {},
     "output_type": "display_data"
    },
    {
     "data": {
      "text/html": [
       "<pre>| 3       | 1.37s        | 17.9333           | 4.2347                | 0.3125      |</pre>"
      ],
      "text/plain": [
       "| 3       | 1.37s        | 17.9333           | 4.2347                | 0.3125      |"
      ]
     },
     "metadata": {},
     "output_type": "display_data"
    },
    {
     "data": {
      "text/html": [
       "<pre>| 4       | 1.83s        | 16.8954           | 4.11034               | 0.3125      |</pre>"
      ],
      "text/plain": [
       "| 4       | 1.83s        | 16.8954           | 4.11034               | 0.3125      |"
      ]
     },
     "metadata": {},
     "output_type": "display_data"
    },
    {
     "data": {
      "text/html": [
       "<pre>| 5       | 2.36s        | 16.1702           | 4.02116               | 0.3125      |</pre>"
      ],
      "text/plain": [
       "| 5       | 2.36s        | 16.1702           | 4.02116               | 0.3125      |"
      ]
     },
     "metadata": {},
     "output_type": "display_data"
    },
    {
     "data": {
      "text/html": [
       "<pre>| 6       | 2.96s        | 15.6203           | 3.9522                | 0.3125      |</pre>"
      ],
      "text/plain": [
       "| 6       | 2.96s        | 15.6203           | 3.9522                | 0.3125      |"
      ]
     },
     "metadata": {},
     "output_type": "display_data"
    },
    {
     "data": {
      "text/html": [
       "<pre>| 10      | 4.92s        | 14.0134           | 3.74338               | 0.3125      |</pre>"
      ],
      "text/plain": [
       "| 10      | 4.92s        | 14.0134           | 3.74338               | 0.3125      |"
      ]
     },
     "metadata": {},
     "output_type": "display_data"
    },
    {
     "data": {
      "text/html": [
       "<pre>| 11      | 5.38s        | 13.7475           | 3.70769               | 0.3125      |</pre>"
      ],
      "text/plain": [
       "| 11      | 5.38s        | 13.7475           | 3.70769               | 0.3125      |"
      ]
     },
     "metadata": {},
     "output_type": "display_data"
    },
    {
     "data": {
      "text/html": [
       "<pre>| 15      | 7.44s        | 13.0069           | 3.60643               | 0.3125      |</pre>"
      ],
      "text/plain": [
       "| 15      | 7.44s        | 13.0069           | 3.60643               | 0.3125      |"
      ]
     },
     "metadata": {},
     "output_type": "display_data"
    },
    {
     "data": {
      "text/html": [
       "<pre>| 20      | 9.76s        | 12.4079           | 3.52241               | 0.3125      |</pre>"
      ],
      "text/plain": [
       "| 20      | 9.76s        | 12.4079           | 3.52241               | 0.3125      |"
      ]
     },
     "metadata": {},
     "output_type": "display_data"
    },
    {
     "data": {
      "text/html": [
       "<pre>| 25      | 11.93s       | 12.0353           | 3.46912               | 0.3125      |</pre>"
      ],
      "text/plain": [
       "| 25      | 11.93s       | 12.0353           | 3.46912               | 0.3125      |"
      ]
     },
     "metadata": {},
     "output_type": "display_data"
    },
    {
     "data": {
      "text/html": [
       "<pre>| 30      | 14.09s       | 11.7584           | 3.42897               | 0.3125      |</pre>"
      ],
      "text/plain": [
       "| 30      | 14.09s       | 11.7584           | 3.42897               | 0.3125      |"
      ]
     },
     "metadata": {},
     "output_type": "display_data"
    },
    {
     "data": {
      "text/html": [
       "<pre>| 35      | 16.64s       | 11.5576           | 3.39956               | 0.3125      |</pre>"
      ],
      "text/plain": [
       "| 35      | 16.64s       | 11.5576           | 3.39956               | 0.3125      |"
      ]
     },
     "metadata": {},
     "output_type": "display_data"
    },
    {
     "data": {
      "text/html": [
       "<pre>| 40      | 19.03s       | 11.4032           | 3.37678               | 0.3125      |</pre>"
      ],
      "text/plain": [
       "| 40      | 19.03s       | 11.4032           | 3.37678               | 0.3125      |"
      ]
     },
     "metadata": {},
     "output_type": "display_data"
    },
    {
     "data": {
      "text/html": [
       "<pre>| 45      | 21.12s       | 11.2665           | 3.35647               | 0.3125      |</pre>"
      ],
      "text/plain": [
       "| 45      | 21.12s       | 11.2665           | 3.35647               | 0.3125      |"
      ]
     },
     "metadata": {},
     "output_type": "display_data"
    },
    {
     "data": {
      "text/html": [
       "<pre>| 50      | 23.40s       | 11.1542           | 3.33971               | 0.3125      |</pre>"
      ],
      "text/plain": [
       "| 50      | 23.40s       | 11.1542           | 3.33971               | 0.3125      |"
      ]
     },
     "metadata": {},
     "output_type": "display_data"
    },
    {
     "data": {
      "text/html": [
       "<pre>+---------+--------------+-------------------+-----------------------+-------------+</pre>"
      ],
      "text/plain": [
       "+---------+--------------+-------------------+-----------------------+-------------+"
      ]
     },
     "metadata": {},
     "output_type": "display_data"
    },
    {
     "data": {
      "text/html": [
       "<pre>Optimization Complete: Maximum number of passes through the data reached.</pre>"
      ],
      "text/plain": [
       "Optimization Complete: Maximum number of passes through the data reached."
      ]
     },
     "metadata": {},
     "output_type": "display_data"
    },
    {
     "data": {
      "text/html": [
       "<pre>Computing final objective value and training RMSE.</pre>"
      ],
      "text/plain": [
       "Computing final objective value and training RMSE."
      ]
     },
     "metadata": {},
     "output_type": "display_data"
    },
    {
     "data": {
      "text/html": [
       "<pre>       Final objective value: 10.6</pre>"
      ],
      "text/plain": [
       "       Final objective value: 10.6"
      ]
     },
     "metadata": {},
     "output_type": "display_data"
    },
    {
     "data": {
      "text/html": [
       "<pre>       Final training RMSE: 3.25568</pre>"
      ],
      "text/plain": [
       "       Final training RMSE: 3.25568"
      ]
     },
     "metadata": {},
     "output_type": "display_data"
    }
   ],
   "source": [
    "import pandas as pd\n",
    "import graphlab as gl\n",
    "from bs4 import BeautifulSoup\n",
    "\n",
    "\n",
    "def add_joke_len(filename):\n",
    "    r = open(filename)\n",
    "    soup = BeautifulSoup(r, 'html.parser')\n",
    "\n",
    "    joke_list = soup.find_all('p')\n",
    "\n",
    "    joke_len_list = []\n",
    "    breaks_list = []\n",
    "    q_list = []\n",
    "\n",
    "    for x in joke_list:\n",
    "        q = 0\n",
    "        breaks = len(x.find_all('br'))\n",
    "        breaks_list.append(breaks)\n",
    "        joke_len = 0\n",
    "        for y in x:\n",
    "            joke_len += len(y)\n",
    "            if y.find('?') > 0:\n",
    "                q = 1\n",
    "        joke_len_list.append(joke_len)\n",
    "        q_list.append(q)\n",
    "\n",
    "    return q_list, breaks_list, joke_len_list\n",
    "\n",
    "\n",
    "\n",
    "sample_sub_fname = \"data/sample_submission.csv\"\n",
    "ratings_data_fname = \"data/ratings.dat\"\n",
    "output_fname = \"data/test_ratings.csv\"\n",
    "\n",
    "filename = 'data/jokes.dat'\n",
    "q_list, breaks_list, joke_len = add_joke_len(filename)\n",
    "\n",
    "joke_info = gl.SFrame({'joke_id': range(1,151), 'joke_len': joke_len, 'joke_break': breaks_list, 'question': q_list})\n",
    "\n",
    "ratings = gl.SFrame(ratings_data_fname, format='tsv')\n",
    "sample_sub = pd.read_csv(sample_sub_fname)\n",
    "for_prediction = gl.SFrame(sample_sub)\n",
    "rec_engine = gl.factorization_recommender.create(observation_data=ratings,\n",
    "                                                 user_id=\"user_id\",\n",
    "                                                 item_id=\"joke_id\",\n",
    "                                                 target='rating',\n",
    "                                                 item_data = joke_info,\n",
    "                                                 solver='auto')\n",
    "\n",
    "sample_sub.rating = rec_engine.predict(for_prediction)\n",
    "sample_sub.to_csv(output_fname, index=False)\n"
   ]
  },
  {
   "cell_type": "code",
   "execution_count": 15,
   "metadata": {
    "collapsed": true
   },
   "outputs": [],
   "source": [
    "gl.factorization_recommender.create?"
   ]
  },
  {
   "cell_type": "code",
   "execution_count": 21,
   "metadata": {
    "collapsed": false
   },
   "outputs": [
    {
     "data": {
      "text/html": [
       "<pre>Finished parsing file /Users/souljourner/Library/Mobile Documents/com~apple~CloudDocs/Development/Data Science/zipfian/case-study-recommender/data/ratings.dat</pre>"
      ],
      "text/plain": [
       "Finished parsing file /Users/souljourner/Library/Mobile Documents/com~apple~CloudDocs/Development/Data Science/zipfian/case-study-recommender/data/ratings.dat"
      ]
     },
     "metadata": {},
     "output_type": "display_data"
    },
    {
     "data": {
      "text/html": [
       "<pre>Parsing completed. Parsed 100 lines in 0.370777 secs.</pre>"
      ],
      "text/plain": [
       "Parsing completed. Parsed 100 lines in 0.370777 secs."
      ]
     },
     "metadata": {},
     "output_type": "display_data"
    },
    {
     "name": "stdout",
     "output_type": "stream",
     "text": [
      "------------------------------------------------------\n",
      "Inferred types from first 100 line(s) of file as \n",
      "column_type_hints=[int,int,float]\n",
      "If parsing fails due to incorrect types, you can correct\n",
      "the inferred type list above and pass it to read_csv in\n",
      "the column_type_hints argument\n",
      "------------------------------------------------------\n"
     ]
    },
    {
     "data": {
      "text/html": [
       "<pre>Finished parsing file /Users/souljourner/Library/Mobile Documents/com~apple~CloudDocs/Development/Data Science/zipfian/case-study-recommender/data/ratings.dat</pre>"
      ],
      "text/plain": [
       "Finished parsing file /Users/souljourner/Library/Mobile Documents/com~apple~CloudDocs/Development/Data Science/zipfian/case-study-recommender/data/ratings.dat"
      ]
     },
     "metadata": {},
     "output_type": "display_data"
    },
    {
     "data": {
      "text/html": [
       "<pre>Parsing completed. Parsed 1218325 lines in 0.571563 secs.</pre>"
      ],
      "text/plain": [
       "Parsing completed. Parsed 1218325 lines in 0.571563 secs."
      ]
     },
     "metadata": {},
     "output_type": "display_data"
    },
    {
     "data": {
      "text/html": [
       "<pre>Recsys training: model = factorization_recommender</pre>"
      ],
      "text/plain": [
       "Recsys training: model = factorization_recommender"
      ]
     },
     "metadata": {},
     "output_type": "display_data"
    },
    {
     "data": {
      "text/html": [
       "<pre>Preparing data set.</pre>"
      ],
      "text/plain": [
       "Preparing data set."
      ]
     },
     "metadata": {},
     "output_type": "display_data"
    },
    {
     "data": {
      "text/html": [
       "<pre>    Data has 1218325 observations with 50692 users and 151 items.</pre>"
      ],
      "text/plain": [
       "    Data has 1218325 observations with 50692 users and 151 items."
      ]
     },
     "metadata": {},
     "output_type": "display_data"
    },
    {
     "data": {
      "text/html": [
       "<pre>    Data prepared in: 0.884097s</pre>"
      ],
      "text/plain": [
       "    Data prepared in: 0.884097s"
      ]
     },
     "metadata": {},
     "output_type": "display_data"
    },
    {
     "data": {
      "text/html": [
       "<pre>Training factorization_recommender for recommendations.</pre>"
      ],
      "text/plain": [
       "Training factorization_recommender for recommendations."
      ]
     },
     "metadata": {},
     "output_type": "display_data"
    },
    {
     "data": {
      "text/html": [
       "<pre>+--------------------------------+--------------------------------------------------+----------+</pre>"
      ],
      "text/plain": [
       "+--------------------------------+--------------------------------------------------+----------+"
      ]
     },
     "metadata": {},
     "output_type": "display_data"
    },
    {
     "data": {
      "text/html": [
       "<pre>| Parameter                      | Description                                      | Value    |</pre>"
      ],
      "text/plain": [
       "| Parameter                      | Description                                      | Value    |"
      ]
     },
     "metadata": {},
     "output_type": "display_data"
    },
    {
     "data": {
      "text/html": [
       "<pre>+--------------------------------+--------------------------------------------------+----------+</pre>"
      ],
      "text/plain": [
       "+--------------------------------+--------------------------------------------------+----------+"
      ]
     },
     "metadata": {},
     "output_type": "display_data"
    },
    {
     "data": {
      "text/html": [
       "<pre>| num_factors                    | Factor Dimension                                 | 8        |</pre>"
      ],
      "text/plain": [
       "| num_factors                    | Factor Dimension                                 | 8        |"
      ]
     },
     "metadata": {},
     "output_type": "display_data"
    },
    {
     "data": {
      "text/html": [
       "<pre>| regularization                 | L2 Regularization on Factors                     | 0        |</pre>"
      ],
      "text/plain": [
       "| regularization                 | L2 Regularization on Factors                     | 0        |"
      ]
     },
     "metadata": {},
     "output_type": "display_data"
    },
    {
     "data": {
      "text/html": [
       "<pre>| solver                         | Solver used for training                         | adagrad  |</pre>"
      ],
      "text/plain": [
       "| solver                         | Solver used for training                         | adagrad  |"
      ]
     },
     "metadata": {},
     "output_type": "display_data"
    },
    {
     "data": {
      "text/html": [
       "<pre>| linear_regularization          | L2 Regularization on Linear Coefficients         | 1e-10    |</pre>"
      ],
      "text/plain": [
       "| linear_regularization          | L2 Regularization on Linear Coefficients         | 1e-10    |"
      ]
     },
     "metadata": {},
     "output_type": "display_data"
    },
    {
     "data": {
      "text/html": [
       "<pre>| side_data_factorization        | Assign Factors for Side Data                     | True     |</pre>"
      ],
      "text/plain": [
       "| side_data_factorization        | Assign Factors for Side Data                     | True     |"
      ]
     },
     "metadata": {},
     "output_type": "display_data"
    },
    {
     "data": {
      "text/html": [
       "<pre>| max_iterations                 | Maximum Number of Iterations                     | 50       |</pre>"
      ],
      "text/plain": [
       "| max_iterations                 | Maximum Number of Iterations                     | 50       |"
      ]
     },
     "metadata": {},
     "output_type": "display_data"
    },
    {
     "data": {
      "text/html": [
       "<pre>+--------------------------------+--------------------------------------------------+----------+</pre>"
      ],
      "text/plain": [
       "+--------------------------------+--------------------------------------------------+----------+"
      ]
     },
     "metadata": {},
     "output_type": "display_data"
    },
    {
     "data": {
      "text/html": [
       "<pre>  Optimizing model using SGD; tuning step size.</pre>"
      ],
      "text/plain": [
       "  Optimizing model using SGD; tuning step size."
      ]
     },
     "metadata": {},
     "output_type": "display_data"
    },
    {
     "data": {
      "text/html": [
       "<pre>  Using 152290 / 1218325 points for tuning the step size.</pre>"
      ],
      "text/plain": [
       "  Using 152290 / 1218325 points for tuning the step size."
      ]
     },
     "metadata": {},
     "output_type": "display_data"
    },
    {
     "data": {
      "text/html": [
       "<pre>+---------+-------------------+------------------------------------------+</pre>"
      ],
      "text/plain": [
       "+---------+-------------------+------------------------------------------+"
      ]
     },
     "metadata": {},
     "output_type": "display_data"
    },
    {
     "data": {
      "text/html": [
       "<pre>| Attempt | Initial Step Size | Estimated Objective Value                |</pre>"
      ],
      "text/plain": [
       "| Attempt | Initial Step Size | Estimated Objective Value                |"
      ]
     },
     "metadata": {},
     "output_type": "display_data"
    },
    {
     "data": {
      "text/html": [
       "<pre>+---------+-------------------+------------------------------------------+</pre>"
      ],
      "text/plain": [
       "+---------+-------------------+------------------------------------------+"
      ]
     },
     "metadata": {},
     "output_type": "display_data"
    },
    {
     "data": {
      "text/html": [
       "<pre>| 0       | 12.5              | 19.8178                                  |</pre>"
      ],
      "text/plain": [
       "| 0       | 12.5              | 19.8178                                  |"
      ]
     },
     "metadata": {},
     "output_type": "display_data"
    },
    {
     "data": {
      "text/html": [
       "<pre>| 1       | 6.25              | 12.6683                                  |</pre>"
      ],
      "text/plain": [
       "| 1       | 6.25              | 12.6683                                  |"
      ]
     },
     "metadata": {},
     "output_type": "display_data"
    },
    {
     "data": {
      "text/html": [
       "<pre>| 2       | 3.125             | 5.84264                                  |</pre>"
      ],
      "text/plain": [
       "| 2       | 3.125             | 5.84264                                  |"
      ]
     },
     "metadata": {},
     "output_type": "display_data"
    },
    {
     "data": {
      "text/html": [
       "<pre>| 3       | 1.5625            | 3.57656                                  |</pre>"
      ],
      "text/plain": [
       "| 3       | 1.5625            | 3.57656                                  |"
      ]
     },
     "metadata": {},
     "output_type": "display_data"
    },
    {
     "data": {
      "text/html": [
       "<pre>| 4       | 0.78125           | 2.87578                                  |</pre>"
      ],
      "text/plain": [
       "| 4       | 0.78125           | 2.87578                                  |"
      ]
     },
     "metadata": {},
     "output_type": "display_data"
    },
    {
     "data": {
      "text/html": [
       "<pre>| 5       | 0.390625          | 2.68003                                  |</pre>"
      ],
      "text/plain": [
       "| 5       | 0.390625          | 2.68003                                  |"
      ]
     },
     "metadata": {},
     "output_type": "display_data"
    },
    {
     "data": {
      "text/html": [
       "<pre>| 6       | 0.195312          | 4.2252                                   |</pre>"
      ],
      "text/plain": [
       "| 6       | 0.195312          | 4.2252                                   |"
      ]
     },
     "metadata": {},
     "output_type": "display_data"
    },
    {
     "data": {
      "text/html": [
       "<pre>| 7       | 0.0976562         | 7.82206                                  |</pre>"
      ],
      "text/plain": [
       "| 7       | 0.0976562         | 7.82206                                  |"
      ]
     },
     "metadata": {},
     "output_type": "display_data"
    },
    {
     "data": {
      "text/html": [
       "<pre>+---------+-------------------+------------------------------------------+</pre>"
      ],
      "text/plain": [
       "+---------+-------------------+------------------------------------------+"
      ]
     },
     "metadata": {},
     "output_type": "display_data"
    },
    {
     "data": {
      "text/html": [
       "<pre>| Final   | 0.390625          | 2.68003                                  |</pre>"
      ],
      "text/plain": [
       "| Final   | 0.390625          | 2.68003                                  |"
      ]
     },
     "metadata": {},
     "output_type": "display_data"
    },
    {
     "data": {
      "text/html": [
       "<pre>+---------+-------------------+------------------------------------------+</pre>"
      ],
      "text/plain": [
       "+---------+-------------------+------------------------------------------+"
      ]
     },
     "metadata": {},
     "output_type": "display_data"
    },
    {
     "data": {
      "text/html": [
       "<pre>Starting Optimization.</pre>"
      ],
      "text/plain": [
       "Starting Optimization."
      ]
     },
     "metadata": {},
     "output_type": "display_data"
    },
    {
     "data": {
      "text/html": [
       "<pre>+---------+--------------+-------------------+-----------------------+-------------+</pre>"
      ],
      "text/plain": [
       "+---------+--------------+-------------------+-----------------------+-------------+"
      ]
     },
     "metadata": {},
     "output_type": "display_data"
    },
    {
     "data": {
      "text/html": [
       "<pre>| Iter.   | Elapsed Time | Approx. Objective | Approx. Training RMSE | Step Size   |</pre>"
      ],
      "text/plain": [
       "| Iter.   | Elapsed Time | Approx. Objective | Approx. Training RMSE | Step Size   |"
      ]
     },
     "metadata": {},
     "output_type": "display_data"
    },
    {
     "data": {
      "text/html": [
       "<pre>+---------+--------------+-------------------+-----------------------+-------------+</pre>"
      ],
      "text/plain": [
       "+---------+--------------+-------------------+-----------------------+-------------+"
      ]
     },
     "metadata": {},
     "output_type": "display_data"
    },
    {
     "data": {
      "text/html": [
       "<pre>| Initial | 87us         | 27.9392           | 5.28575               |             |</pre>"
      ],
      "text/plain": [
       "| Initial | 87us         | 27.9392           | 5.28575               |             |"
      ]
     },
     "metadata": {},
     "output_type": "display_data"
    },
    {
     "data": {
      "text/html": [
       "<pre>+---------+--------------+-------------------+-----------------------+-------------+</pre>"
      ],
      "text/plain": [
       "+---------+--------------+-------------------+-----------------------+-------------+"
      ]
     },
     "metadata": {},
     "output_type": "display_data"
    },
    {
     "data": {
      "text/html": [
       "<pre>| 1       | 285.177ms    | 18.3668           | 4.28541               | 0.390625    |</pre>"
      ],
      "text/plain": [
       "| 1       | 285.177ms    | 18.3668           | 4.28541               | 0.390625    |"
      ]
     },
     "metadata": {},
     "output_type": "display_data"
    },
    {
     "data": {
      "text/html": [
       "<pre>| 2       | 523.539ms    | 13.9103           | 3.72961               | 0.390625    |</pre>"
      ],
      "text/plain": [
       "| 2       | 523.539ms    | 13.9103           | 3.72961               | 0.390625    |"
      ]
     },
     "metadata": {},
     "output_type": "display_data"
    },
    {
     "data": {
      "text/html": [
       "<pre>| 3       | 747.585ms    | 12.2344           | 3.49776               | 0.390625    |</pre>"
      ],
      "text/plain": [
       "| 3       | 747.585ms    | 12.2344           | 3.49776               | 0.390625    |"
      ]
     },
     "metadata": {},
     "output_type": "display_data"
    },
    {
     "data": {
      "text/html": [
       "<pre>| 4       | 1.06s        | 11.3517           | 3.36923               | 0.390625    |</pre>"
      ],
      "text/plain": [
       "| 4       | 1.06s        | 11.3517           | 3.36923               | 0.390625    |"
      ]
     },
     "metadata": {},
     "output_type": "display_data"
    },
    {
     "data": {
      "text/html": [
       "<pre>| 5       | 1.27s        | 10.842            | 3.29271               | 0.390625    |</pre>"
      ],
      "text/plain": [
       "| 5       | 1.27s        | 10.842            | 3.29271               | 0.390625    |"
      ]
     },
     "metadata": {},
     "output_type": "display_data"
    },
    {
     "data": {
      "text/html": [
       "<pre>| 6       | 1.52s        | 10.5237           | 3.24402               | 0.390625    |</pre>"
      ],
      "text/plain": [
       "| 6       | 1.52s        | 10.5237           | 3.24402               | 0.390625    |"
      ]
     },
     "metadata": {},
     "output_type": "display_data"
    },
    {
     "data": {
      "text/html": [
       "<pre>| 10      | 2.44s        | 9.97807           | 3.15881               | 0.390625    |</pre>"
      ],
      "text/plain": [
       "| 10      | 2.44s        | 9.97807           | 3.15881               | 0.390625    |"
      ]
     },
     "metadata": {},
     "output_type": "display_data"
    },
    {
     "data": {
      "text/html": [
       "<pre>| 11      | 2.68s        | 9.90968           | 3.14796               | 0.390625    |</pre>"
      ],
      "text/plain": [
       "| 11      | 2.68s        | 9.90968           | 3.14796               | 0.390625    |"
      ]
     },
     "metadata": {},
     "output_type": "display_data"
    },
    {
     "data": {
      "text/html": [
       "<pre>| 15      | 3.66s        | 9.72566           | 3.1186                | 0.390625    |</pre>"
      ],
      "text/plain": [
       "| 15      | 3.66s        | 9.72566           | 3.1186                | 0.390625    |"
      ]
     },
     "metadata": {},
     "output_type": "display_data"
    },
    {
     "data": {
      "text/html": [
       "<pre>| 20      | 4.99s        | 9.59602           | 3.09774               | 0.390625    |</pre>"
      ],
      "text/plain": [
       "| 20      | 4.99s        | 9.59602           | 3.09774               | 0.390625    |"
      ]
     },
     "metadata": {},
     "output_type": "display_data"
    },
    {
     "data": {
      "text/html": [
       "<pre>| 25      | 6.17s        | 9.51311           | 3.08433               | 0.390625    |</pre>"
      ],
      "text/plain": [
       "| 25      | 6.17s        | 9.51311           | 3.08433               | 0.390625    |"
      ]
     },
     "metadata": {},
     "output_type": "display_data"
    },
    {
     "data": {
      "text/html": [
       "<pre>| 30      | 7.26s        | 9.45354           | 3.07466               | 0.390625    |</pre>"
      ],
      "text/plain": [
       "| 30      | 7.26s        | 9.45354           | 3.07466               | 0.390625    |"
      ]
     },
     "metadata": {},
     "output_type": "display_data"
    },
    {
     "data": {
      "text/html": [
       "<pre>| 35      | 8.38s        | 9.40867           | 3.06736               | 0.390625    |</pre>"
      ],
      "text/plain": [
       "| 35      | 8.38s        | 9.40867           | 3.06736               | 0.390625    |"
      ]
     },
     "metadata": {},
     "output_type": "display_data"
    },
    {
     "data": {
      "text/html": [
       "<pre>| 40      | 9.61s        | 9.37127           | 3.06125               | 0.390625    |</pre>"
      ],
      "text/plain": [
       "| 40      | 9.61s        | 9.37127           | 3.06125               | 0.390625    |"
      ]
     },
     "metadata": {},
     "output_type": "display_data"
    },
    {
     "data": {
      "text/html": [
       "<pre>| 45      | 10.77s       | 9.3405            | 3.05622               | 0.390625    |</pre>"
      ],
      "text/plain": [
       "| 45      | 10.77s       | 9.3405            | 3.05622               | 0.390625    |"
      ]
     },
     "metadata": {},
     "output_type": "display_data"
    },
    {
     "data": {
      "text/html": [
       "<pre>| 50      | 12.08s       | 9.31439           | 3.05195               | 0.390625    |</pre>"
      ],
      "text/plain": [
       "| 50      | 12.08s       | 9.31439           | 3.05195               | 0.390625    |"
      ]
     },
     "metadata": {},
     "output_type": "display_data"
    },
    {
     "data": {
      "text/html": [
       "<pre>+---------+--------------+-------------------+-----------------------+-------------+</pre>"
      ],
      "text/plain": [
       "+---------+--------------+-------------------+-----------------------+-------------+"
      ]
     },
     "metadata": {},
     "output_type": "display_data"
    },
    {
     "data": {
      "text/html": [
       "<pre>Optimization Complete: Maximum number of passes through the data reached.</pre>"
      ],
      "text/plain": [
       "Optimization Complete: Maximum number of passes through the data reached."
      ]
     },
     "metadata": {},
     "output_type": "display_data"
    },
    {
     "data": {
      "text/html": [
       "<pre>Computing final objective value and training RMSE.</pre>"
      ],
      "text/plain": [
       "Computing final objective value and training RMSE."
      ]
     },
     "metadata": {},
     "output_type": "display_data"
    },
    {
     "data": {
      "text/html": [
       "<pre>       Final objective value: 9.04052</pre>"
      ],
      "text/plain": [
       "       Final objective value: 9.04052"
      ]
     },
     "metadata": {},
     "output_type": "display_data"
    },
    {
     "data": {
      "text/html": [
       "<pre>       Final training RMSE: 3.00674</pre>"
      ],
      "text/plain": [
       "       Final training RMSE: 3.00674"
      ]
     },
     "metadata": {},
     "output_type": "display_data"
    },
    {
     "name": "stderr",
     "output_type": "stream",
     "text": [
      "[INFO] graphlab.deploy.job: Validating job.\n",
      "[INFO] graphlab.deploy.job: Creating a LocalAsync environment called 'async'.\n",
      "[INFO] graphlab.deploy.map_job: Validation complete. Job: 'Model-Parameter-Search-Mar-07-2017-14-34-4600000' ready for execution\n"
     ]
    },
    {
     "name": "stdout",
     "output_type": "stream",
     "text": [
      "cross validation\n",
      "parameter search\n"
     ]
    },
    {
     "name": "stderr",
     "output_type": "stream",
     "text": [
      "[INFO] graphlab.deploy.map_job: Job: 'Model-Parameter-Search-Mar-07-2017-14-34-4600000' scheduled.\n",
      "[INFO] graphlab.deploy.job: Validating job.\n",
      "[INFO] graphlab.deploy.map_job: A job with name 'Model-Parameter-Search-Mar-07-2017-14-34-4600000' already exists. Renaming the job to 'Model-Parameter-Search-Mar-07-2017-14-34-4600000-92fac'.\n",
      "[INFO] graphlab.deploy.map_job: Validation complete. Job: 'Model-Parameter-Search-Mar-07-2017-14-34-4600000-92fac' ready for execution\n",
      "[INFO] graphlab.deploy.map_job: Job: 'Model-Parameter-Search-Mar-07-2017-14-34-4600000-92fac' scheduled.\n",
      "[INFO] graphlab.deploy.job: Validating job.\n",
      "[INFO] graphlab.deploy.map_job: Validation complete. Job: 'Model-Parameter-Search-Mar-07-2017-14-34-4600001' ready for execution\n",
      "[INFO] graphlab.deploy.map_job: Job: 'Model-Parameter-Search-Mar-07-2017-14-34-4600001' scheduled.\n",
      "[INFO] graphlab.deploy.job: Validating job.\n",
      "[INFO] graphlab.deploy.map_job: Validation complete. Job: 'Model-Parameter-Search-Mar-07-2017-14-34-4600002' ready for execution\n",
      "[INFO] graphlab.deploy.map_job: Job: 'Model-Parameter-Search-Mar-07-2017-14-34-4600002' scheduled.\n"
     ]
    },
    {
     "name": "stdout",
     "output_type": "stream",
     "text": [
      "best params by rmse:\n",
      "{'item_id': 'joke_id',\n",
      " 'linear_regularization': 1e-09,\n",
      " 'max_iterations': 50,\n",
      " 'num_factors': 64,\n",
      " 'regularization': 1e-06,\n",
      " 'side_data_factorization': False,\n",
      " 'solver': 'auto',\n",
      " 'target': 'rating',\n",
      " 'user_id': 'user_id'}\n"
     ]
    }
   ],
   "source": [
    "import pandas as pd\n",
    "import numpy as np\n",
    "import graphlab as gl\n",
    "from bs4 import BeautifulSoup\n",
    "from pprint import pprint\n",
    "\n",
    "\n",
    "def add_joke_len(filename):\n",
    "    r = open(filename)\n",
    "    soup = BeautifulSoup(r, 'html.parser')\n",
    "\n",
    "    joke_list = soup.find_all('p')\n",
    "\n",
    "    joke_len_list = []\n",
    "    q_list = []\n",
    "    clinton_list = []\n",
    "\n",
    "    for x in joke_list:\n",
    "        if x.find('?') > 0:\n",
    "            q = 1\n",
    "        else:\n",
    "            q = 0\n",
    "        if x.find('Clinton') > 0:\n",
    "            clinton = 1\n",
    "        else:\n",
    "            clinton = 0\n",
    "        joke_len_list.append(np.log(len(x)))\n",
    "        q_list.append(q)\n",
    "        clinton_list.append(clinton)\n",
    "\n",
    "    return q_list, joke_len_list, clinton_list\n",
    "\n",
    "\n",
    "sample_sub_fname = \"data/sample_submission.csv\"\n",
    "ratings_data_fname = \"data/ratings.dat\"\n",
    "output_fname = \"data/test_ratings.csv\"\n",
    "test_set = \"data/validation_data.csv\"\n",
    "\n",
    "filename = 'data/jokes.dat'\n",
    "q_list, joke_len, clinton_list = add_joke_len(filename)\n",
    "\n",
    "#joke_info = gl.SFrame({'joke_id': range(1,151), 'joke_len': joke_len, 'question': q_list})\n",
    "joke_info = gl.SFrame({'joke_id': range(1,151),  'question': q_list, 'clinton': clinton_list})\n",
    "\n",
    "ratings = gl.SFrame(ratings_data_fname, format='tsv')\n",
    "sample_sub = pd.read_csv(sample_sub_fname)\n",
    "for_prediction = gl.SFrame(sample_sub)\n",
    "rec_engine = gl.factorization_recommender.create(observation_data=ratings,\n",
    "                                                 user_id=\"user_id\",\n",
    "                                                 item_id=\"joke_id\",\n",
    "                                                 target='rating',\n",
    "                                                 item_data = joke_info,\n",
    "                                                 solver='auto',\n",
    "                                                 regularization=0)\n",
    "\n",
    "sample_sub.rating = rec_engine.predict(for_prediction)\n",
    "sample_sub.rating = [min(max(x, -10),10) for x in sample_sub.rating]\n",
    "sample_sub.to_csv(output_fname, index=False)\n",
    "\n",
    "print(\"cross validation\")\n",
    "kfolds = gl.cross_validation.KFold(ratings, 5)\n",
    "params = dict(user_id='user_id', item_id='joke_id', target='rating',\n",
    "                  solver='auto', side_data_factorization=False)\n",
    "\n",
    "print(\"parameter search\")\n",
    "paramsearch = gl.model_parameter_search.create(\n",
    "                    kfolds,\n",
    "                    gl.recommender.factorization_recommender.create,\n",
    "                    params)\n",
    "\n",
    "print \"best params by rmse:\"\n",
    "pprint(paramsearch.get_best_params('mean_validation_rmse'))\n"
   ]
  },
  {
   "cell_type": "code",
   "execution_count": 22,
   "metadata": {
    "collapsed": false
   },
   "outputs": [
    {
     "name": "stdout",
     "output_type": "stream",
     "text": [
      "hi\n"
     ]
    }
   ],
   "source": [
    "print('hi')"
   ]
  },
  {
   "cell_type": "code",
   "execution_count": 28,
   "metadata": {
    "collapsed": false
   },
   "outputs": [
    {
     "ename": "TypeError",
     "evalue": "create() takes at least 1 argument (10 given)",
     "output_type": "error",
     "traceback": [
      "\u001b[0;31m---------------------------------------------------------------------------\u001b[0m",
      "\u001b[0;31mTypeError\u001b[0m                                 Traceback (most recent call last)",
      "\u001b[0;32m<ipython-input-28-475a3f415cea>\u001b[0m in \u001b[0;36m<module>\u001b[0;34m()\u001b[0m\n\u001b[0;32m----> 1\u001b[0;31m \u001b[0mrec_engine\u001b[0m \u001b[0;34m=\u001b[0m \u001b[0mgl\u001b[0m\u001b[0;34m.\u001b[0m\u001b[0mfactorization_recommender\u001b[0m\u001b[0;34m.\u001b[0m\u001b[0mcreate\u001b[0m\u001b[0;34m(\u001b[0m\u001b[0mitem_data\u001b[0m\u001b[0;34m=\u001b[0m\u001b[0mjoke_info\u001b[0m\u001b[0;34m,\u001b[0m \u001b[0mitem_id\u001b[0m\u001b[0;34m=\u001b[0m\u001b[0;34m'joke_id'\u001b[0m\u001b[0;34m,\u001b[0m \u001b[0mlinear_regularization\u001b[0m\u001b[0;34m=\u001b[0m\u001b[0;36m1e-09\u001b[0m\u001b[0;34m,\u001b[0m\u001b[0mmax_iterations\u001b[0m\u001b[0;34m=\u001b[0m\u001b[0;36m50\u001b[0m\u001b[0;34m,\u001b[0m\u001b[0mnum_factors\u001b[0m\u001b[0;34m=\u001b[0m\u001b[0;36m64\u001b[0m\u001b[0;34m,\u001b[0m\u001b[0mregularization\u001b[0m\u001b[0;34m=\u001b[0m\u001b[0;36m1e-06\u001b[0m\u001b[0;34m,\u001b[0m\u001b[0mside_data_factorization\u001b[0m\u001b[0;34m=\u001b[0m\u001b[0mFalse\u001b[0m\u001b[0;34m,\u001b[0m \u001b[0msolver\u001b[0m\u001b[0;34m=\u001b[0m\u001b[0;34m'auto'\u001b[0m\u001b[0;34m,\u001b[0m\u001b[0mtarget\u001b[0m\u001b[0;34m=\u001b[0m\u001b[0;34m'rating'\u001b[0m\u001b[0;34m,\u001b[0m\u001b[0muser_id\u001b[0m \u001b[0;34m=\u001b[0m\u001b[0;34m'user_id'\u001b[0m\u001b[0;34m)\u001b[0m\u001b[0;34m\u001b[0m\u001b[0m\n\u001b[0m",
      "\u001b[0;31mTypeError\u001b[0m: create() takes at least 1 argument (10 given)"
     ]
    }
   ],
   "source": [
    "rec_engine = gl.factorization_recommender.create(item_data=joke_info, item_id='joke_id', linear_regularization=1e-09,max_iterations=50,num_factors=64,regularization=1e-06,side_data_factorization=False, solver='auto',target='rating',user_id ='user_id')"
   ]
  },
  {
   "cell_type": "code",
   "execution_count": 33,
   "metadata": {
    "collapsed": false
   },
   "outputs": [
    {
     "data": {
      "text/html": [
       "<pre>Recsys training: model = factorization_recommender</pre>"
      ],
      "text/plain": [
       "Recsys training: model = factorization_recommender"
      ]
     },
     "metadata": {},
     "output_type": "display_data"
    },
    {
     "ename": "RuntimeError",
     "evalue": "Runtime Exception. boost::bad_get: failed value get using boost::get",
     "output_type": "error",
     "traceback": [
      "\u001b[0;31m---------------------------------------------------------------------------\u001b[0m",
      "\u001b[0;31mRuntimeError\u001b[0m                              Traceback (most recent call last)",
      "\u001b[0;32m<ipython-input-33-f2c52fa1119e>\u001b[0m in \u001b[0;36m<module>\u001b[0;34m()\u001b[0m\n\u001b[0;32m----> 1\u001b[0;31m \u001b[0mrec_engine\u001b[0m \u001b[0;34m=\u001b[0m \u001b[0mgl\u001b[0m\u001b[0;34m.\u001b[0m\u001b[0mfactorization_recommender\u001b[0m\u001b[0;34m.\u001b[0m\u001b[0mcreate\u001b[0m\u001b[0;34m(\u001b[0m\u001b[0mparams\u001b[0m\u001b[0;34m,\u001b[0m \u001b[0mitem_data\u001b[0m \u001b[0;34m=\u001b[0m \u001b[0mjoke_info\u001b[0m\u001b[0;34m)\u001b[0m\u001b[0;34m\u001b[0m\u001b[0m\n\u001b[0m",
      "\u001b[0;32m/Users/souljourner/anaconda/envs/python2/lib/python2.7/site-packages/graphlab/toolkits/recommender/factorization_recommender.pyc\u001b[0m in \u001b[0;36mcreate\u001b[0;34m(observation_data, user_id, item_id, target, user_data, item_data, num_factors, regularization, linear_regularization, side_data_factorization, nmf, binary_target, max_iterations, sgd_step_size, random_seed, solver, verbose, **kwargs)\u001b[0m\n\u001b[1;32m    230\u001b[0m         \u001b[0mopts\u001b[0m\u001b[0;34m.\u001b[0m\u001b[0mupdate\u001b[0m\u001b[0;34m(\u001b[0m\u001b[0mkwargs\u001b[0m\u001b[0;34m)\u001b[0m\u001b[0;34m\u001b[0m\u001b[0m\n\u001b[1;32m    231\u001b[0m \u001b[0;34m\u001b[0m\u001b[0m\n\u001b[0;32m--> 232\u001b[0;31m     \u001b[0mresponse\u001b[0m \u001b[0;34m=\u001b[0m \u001b[0m_graphlab\u001b[0m\u001b[0;34m.\u001b[0m\u001b[0mtoolkits\u001b[0m\u001b[0;34m.\u001b[0m\u001b[0m_main\u001b[0m\u001b[0;34m.\u001b[0m\u001b[0mrun\u001b[0m\u001b[0;34m(\u001b[0m\u001b[0;34m'recsys_train'\u001b[0m\u001b[0;34m,\u001b[0m \u001b[0mopts\u001b[0m\u001b[0;34m,\u001b[0m \u001b[0mverbose\u001b[0m\u001b[0;34m)\u001b[0m\u001b[0;34m\u001b[0m\u001b[0m\n\u001b[0m\u001b[1;32m    233\u001b[0m \u001b[0;34m\u001b[0m\u001b[0m\n\u001b[1;32m    234\u001b[0m     \u001b[0;32mreturn\u001b[0m \u001b[0mFactorizationRecommender\u001b[0m\u001b[0;34m(\u001b[0m\u001b[0mresponse\u001b[0m\u001b[0;34m[\u001b[0m\u001b[0;34m'model'\u001b[0m\u001b[0;34m]\u001b[0m\u001b[0;34m)\u001b[0m\u001b[0;34m\u001b[0m\u001b[0m\n",
      "\u001b[0;32m/Users/souljourner/anaconda/envs/python2/lib/python2.7/site-packages/graphlab/toolkits/_main.pyc\u001b[0m in \u001b[0;36mrun\u001b[0;34m(toolkit_name, options, verbose, show_progress)\u001b[0m\n\u001b[1;32m     58\u001b[0m     \u001b[0;32mtry\u001b[0m\u001b[0;34m:\u001b[0m\u001b[0;34m\u001b[0m\u001b[0m\n\u001b[1;32m     59\u001b[0m         \u001b[0mstart_time\u001b[0m \u001b[0;34m=\u001b[0m \u001b[0mtime\u001b[0m\u001b[0;34m.\u001b[0m\u001b[0mtime\u001b[0m\u001b[0;34m(\u001b[0m\u001b[0;34m)\u001b[0m\u001b[0;34m\u001b[0m\u001b[0m\n\u001b[0;32m---> 60\u001b[0;31m         \u001b[0;34m(\u001b[0m\u001b[0msuccess\u001b[0m\u001b[0;34m,\u001b[0m \u001b[0mmessage\u001b[0m\u001b[0;34m,\u001b[0m \u001b[0mparams\u001b[0m\u001b[0;34m)\u001b[0m \u001b[0;34m=\u001b[0m \u001b[0munity\u001b[0m\u001b[0;34m.\u001b[0m\u001b[0mrun_toolkit\u001b[0m\u001b[0;34m(\u001b[0m\u001b[0mtoolkit_name\u001b[0m\u001b[0;34m,\u001b[0m \u001b[0moptions\u001b[0m\u001b[0;34m)\u001b[0m\u001b[0;34m\u001b[0m\u001b[0m\n\u001b[0m\u001b[1;32m     61\u001b[0m         \u001b[0mend_time\u001b[0m \u001b[0;34m=\u001b[0m \u001b[0mtime\u001b[0m\u001b[0;34m.\u001b[0m\u001b[0mtime\u001b[0m\u001b[0;34m(\u001b[0m\u001b[0;34m)\u001b[0m\u001b[0;34m\u001b[0m\u001b[0m\n\u001b[1;32m     62\u001b[0m     \u001b[0;32mexcept\u001b[0m\u001b[0;34m:\u001b[0m\u001b[0;34m\u001b[0m\u001b[0m\n",
      "\u001b[0;32mgraphlab/cython/cy_unity.pyx\u001b[0m in \u001b[0;36mgraphlab.cython.cy_unity.UnityGlobalProxy.run_toolkit\u001b[0;34m()\u001b[0m\n",
      "\u001b[0;32mgraphlab/cython/cy_unity.pyx\u001b[0m in \u001b[0;36mgraphlab.cython.cy_unity.UnityGlobalProxy.run_toolkit\u001b[0;34m()\u001b[0m\n",
      "\u001b[0;31mRuntimeError\u001b[0m: Runtime Exception. boost::bad_get: failed value get using boost::get"
     ]
    }
   ],
   "source": [
    "rec_engine = gl.factorization_recommender.create(params, item_data = joke_info)"
   ]
  },
  {
   "cell_type": "code",
   "execution_count": null,
   "metadata": {
    "collapsed": true
   },
   "outputs": [],
   "source": []
  }
 ],
 "metadata": {
  "kernelspec": {
   "display_name": "Python [conda env:python2]",
   "language": "python",
   "name": "conda-env-python2-py"
  },
  "language_info": {
   "codemirror_mode": {
    "name": "ipython",
    "version": 2
   },
   "file_extension": ".py",
   "mimetype": "text/x-python",
   "name": "python",
   "nbconvert_exporter": "python",
   "pygments_lexer": "ipython2",
   "version": "2.7.13"
  }
 },
 "nbformat": 4,
 "nbformat_minor": 2
}
